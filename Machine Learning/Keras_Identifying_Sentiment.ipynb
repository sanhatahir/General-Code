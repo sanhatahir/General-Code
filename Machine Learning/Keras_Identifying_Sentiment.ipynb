{
 "cells": [
  {
   "cell_type": "markdown",
   "id": "c0565ecb",
   "metadata": {},
   "source": [
    "### 1. Loading required packages: "
   ]
  },
  {
   "cell_type": "code",
   "execution_count": 1,
   "id": "47baba9b",
   "metadata": {},
   "outputs": [],
   "source": [
    "# Basics: \n",
    "import numpy as np\n",
    "import pandas as pd\n",
    "\n",
    "\n",
    "# For text cleaning & sentiment analysis:\n",
    "## nltk imports\n",
    "import nltk\n",
    "from nltk import pos_tag\n",
    "from nltk.tokenize import word_tokenize, wordpunct_tokenize\n",
    "from nltk.stem.snowball import SnowballStemmer\n",
    "from nltk.corpus import stopwords\n",
    "## spacy imports\n",
    "import spacy\n",
    "import en_core_web_sm\n",
    "sp = spacy.load('en_core_web_sm')\n",
    "nlp = en_core_web_sm.load()\n",
    "\n",
    "## vectorizer\n",
    "from sklearn.feature_extraction.text import CountVectorizer\n",
    "## sentiment\n",
    "from vaderSentiment.vaderSentiment import SentimentIntensityAnalyzer\n",
    "\n",
    "\n",
    "# For classification: \n",
    "import tensorflow\n",
    "\n",
    "from tensorflow.keras.preprocessing.text import Tokenizer\n",
    "from tensorflow.keras.preprocessing.sequence import pad_sequences"
   ]
  },
  {
   "cell_type": "code",
   "execution_count": 2,
   "id": "7494804a",
   "metadata": {},
   "outputs": [],
   "source": [
    "pd.set_option('display.max_columns',500)\n",
    "pd.set_option('display.width',500)"
   ]
  },
  {
   "cell_type": "markdown",
   "id": "f485b2c6",
   "metadata": {},
   "source": [
    "### 2. Loading Data: "
   ]
  },
  {
   "cell_type": "code",
   "execution_count": 3,
   "id": "1471f500",
   "metadata": {},
   "outputs": [
    {
     "data": {
      "text/html": [
       "<div>\n",
       "<style scoped>\n",
       "    .dataframe tbody tr th:only-of-type {\n",
       "        vertical-align: middle;\n",
       "    }\n",
       "\n",
       "    .dataframe tbody tr th {\n",
       "        vertical-align: top;\n",
       "    }\n",
       "\n",
       "    .dataframe thead th {\n",
       "        text-align: right;\n",
       "    }\n",
       "</style>\n",
       "<table border=\"1\" class=\"dataframe\">\n",
       "  <thead>\n",
       "    <tr style=\"text-align: right;\">\n",
       "      <th></th>\n",
       "      <th>Category</th>\n",
       "      <th>Message</th>\n",
       "    </tr>\n",
       "  </thead>\n",
       "  <tbody>\n",
       "    <tr>\n",
       "      <th>0</th>\n",
       "      <td>ham</td>\n",
       "      <td>Go until jurong point, crazy.. Available only ...</td>\n",
       "    </tr>\n",
       "    <tr>\n",
       "      <th>1</th>\n",
       "      <td>ham</td>\n",
       "      <td>Ok lar... Joking wif u oni...</td>\n",
       "    </tr>\n",
       "    <tr>\n",
       "      <th>2</th>\n",
       "      <td>spam</td>\n",
       "      <td>Free entry in 2 a wkly comp to win FA Cup fina...</td>\n",
       "    </tr>\n",
       "    <tr>\n",
       "      <th>3</th>\n",
       "      <td>ham</td>\n",
       "      <td>U dun say so early hor... U c already then say...</td>\n",
       "    </tr>\n",
       "    <tr>\n",
       "      <th>4</th>\n",
       "      <td>ham</td>\n",
       "      <td>Nah I don't think he goes to usf, he lives aro...</td>\n",
       "    </tr>\n",
       "    <tr>\n",
       "      <th>...</th>\n",
       "      <td>...</td>\n",
       "      <td>...</td>\n",
       "    </tr>\n",
       "    <tr>\n",
       "      <th>5567</th>\n",
       "      <td>spam</td>\n",
       "      <td>This is the 2nd time we have tried 2 contact u...</td>\n",
       "    </tr>\n",
       "    <tr>\n",
       "      <th>5568</th>\n",
       "      <td>ham</td>\n",
       "      <td>Will ü b going to esplanade fr home?</td>\n",
       "    </tr>\n",
       "    <tr>\n",
       "      <th>5569</th>\n",
       "      <td>ham</td>\n",
       "      <td>Pity, * was in mood for that. So...any other s...</td>\n",
       "    </tr>\n",
       "    <tr>\n",
       "      <th>5570</th>\n",
       "      <td>ham</td>\n",
       "      <td>The guy did some bitching but I acted like i'd...</td>\n",
       "    </tr>\n",
       "    <tr>\n",
       "      <th>5571</th>\n",
       "      <td>ham</td>\n",
       "      <td>Rofl. Its true to its name</td>\n",
       "    </tr>\n",
       "  </tbody>\n",
       "</table>\n",
       "<p>5572 rows × 2 columns</p>\n",
       "</div>"
      ],
      "text/plain": [
       "     Category                                            Message\n",
       "0         ham  Go until jurong point, crazy.. Available only ...\n",
       "1         ham                      Ok lar... Joking wif u oni...\n",
       "2        spam  Free entry in 2 a wkly comp to win FA Cup fina...\n",
       "3         ham  U dun say so early hor... U c already then say...\n",
       "4         ham  Nah I don't think he goes to usf, he lives aro...\n",
       "...       ...                                                ...\n",
       "5567     spam  This is the 2nd time we have tried 2 contact u...\n",
       "5568      ham               Will ü b going to esplanade fr home?\n",
       "5569      ham  Pity, * was in mood for that. So...any other s...\n",
       "5570      ham  The guy did some bitching but I acted like i'd...\n",
       "5571      ham                         Rofl. Its true to its name\n",
       "\n",
       "[5572 rows x 2 columns]"
      ]
     },
     "execution_count": 3,
     "metadata": {},
     "output_type": "execute_result"
    }
   ],
   "source": [
    "raw = pd.read_csv('C:\\\\Users\\Sanha Tahir\\\\Downloads\\\\GeorgeTown\\\\General-Code-Data\\\\SPAM text message 20170820 - Data.csv')\n",
    "raw"
   ]
  },
  {
   "cell_type": "markdown",
   "id": "9b0e9cf8",
   "metadata": {},
   "source": [
    "### 3. Cleaning data and removing named entities for analysis:"
   ]
  },
  {
   "cell_type": "code",
   "execution_count": 4,
   "id": "560105ad",
   "metadata": {},
   "outputs": [
    {
     "data": {
      "text/html": [
       "<div>\n",
       "<style scoped>\n",
       "    .dataframe tbody tr th:only-of-type {\n",
       "        vertical-align: middle;\n",
       "    }\n",
       "\n",
       "    .dataframe tbody tr th {\n",
       "        vertical-align: top;\n",
       "    }\n",
       "\n",
       "    .dataframe thead th {\n",
       "        text-align: right;\n",
       "    }\n",
       "</style>\n",
       "<table border=\"1\" class=\"dataframe\">\n",
       "  <thead>\n",
       "    <tr style=\"text-align: right;\">\n",
       "      <th></th>\n",
       "      <th>Message</th>\n",
       "      <th>processed_msg</th>\n",
       "    </tr>\n",
       "  </thead>\n",
       "  <tbody>\n",
       "    <tr>\n",
       "      <th>0</th>\n",
       "      <td>Go until jurong point, crazy.. Available only ...</td>\n",
       "      <td>jurong point crazi avail bugi great world buff...</td>\n",
       "    </tr>\n",
       "    <tr>\n",
       "      <th>1</th>\n",
       "      <td>Ok lar... Joking wif u oni...</td>\n",
       "      <td>joke</td>\n",
       "    </tr>\n",
       "    <tr>\n",
       "      <th>2</th>\n",
       "      <td>Free entry in 2 a wkly comp to win FA Cup fina...</td>\n",
       "      <td>free entri wkli comp final tkts text receiv en...</td>\n",
       "    </tr>\n",
       "    <tr>\n",
       "      <th>3</th>\n",
       "      <td>U dun say so early hor... U c already then say...</td>\n",
       "      <td>earli alreadi</td>\n",
       "    </tr>\n",
       "    <tr>\n",
       "      <th>4</th>\n",
       "      <td>Nah I don't think he goes to usf, he lives aro...</td>\n",
       "      <td>think goe live around though</td>\n",
       "    </tr>\n",
       "  </tbody>\n",
       "</table>\n",
       "</div>"
      ],
      "text/plain": [
       "                                             Message                                      processed_msg\n",
       "0  Go until jurong point, crazy.. Available only ...  jurong point crazi avail bugi great world buff...\n",
       "1                      Ok lar... Joking wif u oni...                                               joke\n",
       "2  Free entry in 2 a wkly comp to win FA Cup fina...  free entri wkli comp final tkts text receiv en...\n",
       "3  U dun say so early hor... U c already then say...                                      earli alreadi\n",
       "4  Nah I don't think he goes to usf, he lives aro...                       think goe live around though"
      ]
     },
     "execution_count": 4,
     "metadata": {},
     "output_type": "execute_result"
    }
   ],
   "source": [
    "list_stopwords = stopwords.words(\"english\")\n",
    "\n",
    "\n",
    "def cleaning_msg(msg):\n",
    "    \n",
    "    # Initializing stemmer \n",
    "    snow = SnowballStemmer(\"english\")\n",
    "    \n",
    "    # Converting to lower case:\n",
    "    msg_lower = msg.lower()\n",
    "    \n",
    "    # Getting named eintities:\n",
    "    raw_nlp = nlp(msg_lower)\n",
    "    \n",
    "    # Initializing empty list for named eintities:\n",
    "    list_ne = []\n",
    "    \n",
    "    # Adding all names entities into list:\n",
    "    for one_ents in raw_nlp.ents:\n",
    "        list_ne.append(one_ents.text)\n",
    "    \n",
    "    # Tokenizing words:\n",
    "    msg_tokens = word_tokenize(msg_lower)\n",
    "    \n",
    "    # Removing named entities:\n",
    "    non_ne = [wrd for wrd in msg_tokens if wrd not in list_ne]\n",
    "    \n",
    "    # 3. Removing stopwords, non-alphabet words and smol words \n",
    "    msg_cl_tk = [snow.stem(wrd) for wrd in non_ne\n",
    "                if wrd not in list_stopwords\n",
    "                and wrd.isalpha()\n",
    "                and len(wrd) >= 4]\n",
    "    \n",
    "    \n",
    "    # Joining everything:\n",
    "    msg_final = (\" \".join(msg_cl_tk))\n",
    "    \n",
    "    return msg_final\n",
    "\n",
    "raw[\"processed_msg\"] = [ cleaning_msg(msg) for msg in raw[\"Message\"]]\n",
    "raw[[\"Message\", \"processed_msg\"]].head(n = 5)"
   ]
  },
  {
   "cell_type": "markdown",
   "id": "9fdcc4a1",
   "metadata": {},
   "source": [
    "### 3. Performing sentiment analysis using VADER:"
   ]
  },
  {
   "cell_type": "code",
   "execution_count": 5,
   "id": "fec3f841",
   "metadata": {},
   "outputs": [
    {
     "data": {
      "text/html": [
       "<div>\n",
       "<style scoped>\n",
       "    .dataframe tbody tr th:only-of-type {\n",
       "        vertical-align: middle;\n",
       "    }\n",
       "\n",
       "    .dataframe tbody tr th {\n",
       "        vertical-align: top;\n",
       "    }\n",
       "\n",
       "    .dataframe thead th {\n",
       "        text-align: right;\n",
       "    }\n",
       "</style>\n",
       "<table border=\"1\" class=\"dataframe\">\n",
       "  <thead>\n",
       "    <tr style=\"text-align: right;\">\n",
       "      <th></th>\n",
       "      <th>Category</th>\n",
       "      <th>Message</th>\n",
       "      <th>processed_msg</th>\n",
       "      <th>vader_compounded_score</th>\n",
       "    </tr>\n",
       "  </thead>\n",
       "  <tbody>\n",
       "    <tr>\n",
       "      <th>0</th>\n",
       "      <td>ham</td>\n",
       "      <td>Go until jurong point, crazy.. Available only ...</td>\n",
       "      <td>jurong point crazi avail bugi great world buff...</td>\n",
       "      <td>0.8442</td>\n",
       "    </tr>\n",
       "    <tr>\n",
       "      <th>1</th>\n",
       "      <td>ham</td>\n",
       "      <td>Ok lar... Joking wif u oni...</td>\n",
       "      <td>joke</td>\n",
       "      <td>0.2960</td>\n",
       "    </tr>\n",
       "    <tr>\n",
       "      <th>2</th>\n",
       "      <td>spam</td>\n",
       "      <td>Free entry in 2 a wkly comp to win FA Cup fina...</td>\n",
       "      <td>free entri wkli comp final tkts text receiv en...</td>\n",
       "      <td>0.5106</td>\n",
       "    </tr>\n",
       "    <tr>\n",
       "      <th>3</th>\n",
       "      <td>ham</td>\n",
       "      <td>U dun say so early hor... U c already then say...</td>\n",
       "      <td>earli alreadi</td>\n",
       "      <td>0.0000</td>\n",
       "    </tr>\n",
       "    <tr>\n",
       "      <th>4</th>\n",
       "      <td>ham</td>\n",
       "      <td>Nah I don't think he goes to usf, he lives aro...</td>\n",
       "      <td>think goe live around though</td>\n",
       "      <td>0.0000</td>\n",
       "    </tr>\n",
       "  </tbody>\n",
       "</table>\n",
       "</div>"
      ],
      "text/plain": [
       "  Category                                            Message                                      processed_msg  vader_compounded_score\n",
       "0      ham  Go until jurong point, crazy.. Available only ...  jurong point crazi avail bugi great world buff...                  0.8442\n",
       "1      ham                      Ok lar... Joking wif u oni...                                               joke                  0.2960\n",
       "2     spam  Free entry in 2 a wkly comp to win FA Cup fina...  free entri wkli comp final tkts text receiv en...                  0.5106\n",
       "3      ham  U dun say so early hor... U c already then say...                                      earli alreadi                  0.0000\n",
       "4      ham  Nah I don't think he goes to usf, he lives aro...                       think goe live around though                  0.0000"
      ]
     },
     "execution_count": 5,
     "metadata": {},
     "output_type": "execute_result"
    }
   ],
   "source": [
    "## Defining Function:\n",
    "\n",
    "def sent_vader(processed_msg):\n",
    "   \n",
    "    # Initializing a scorer\n",
    "    sent_obj = SentimentIntensityAnalyzer()\n",
    "    \n",
    "    # Scoring sentiment:\n",
    "    sentiment_scores = sent_obj.polarity_scores(processed_msg)\n",
    "    \n",
    "    # Adding contents:\n",
    "    # sentiment_example[\"contents\"] = raw\n",
    "    \n",
    "    return(sentiment_scores['compound'])\n",
    "\n",
    "\n",
    "raw[\"vader_compounded_score\"] = [sent_vader(msg) for msg in raw[\"processed_msg\"]]\n",
    "raw.head(n = 5)\n",
    "# # Applying Function:\n",
    "# print(\"Starting ftn: \" + str(pd.Timestamp.now()))\n",
    "# rez = [one_3b(raw) for raw in doj_subset[\"contents\"]]\n",
    "# print(\"Ending ftn: \" + str(pd.Timestamp.now()))"
   ]
  },
  {
   "cell_type": "code",
   "execution_count": 6,
   "id": "1daec15d",
   "metadata": {},
   "outputs": [
    {
     "data": {
      "text/html": [
       "<div>\n",
       "<style scoped>\n",
       "    .dataframe tbody tr th:only-of-type {\n",
       "        vertical-align: middle;\n",
       "    }\n",
       "\n",
       "    .dataframe tbody tr th {\n",
       "        vertical-align: top;\n",
       "    }\n",
       "\n",
       "    .dataframe thead th {\n",
       "        text-align: right;\n",
       "    }\n",
       "</style>\n",
       "<table border=\"1\" class=\"dataframe\">\n",
       "  <thead>\n",
       "    <tr style=\"text-align: right;\">\n",
       "      <th></th>\n",
       "      <th>Category</th>\n",
       "      <th>Message</th>\n",
       "      <th>processed_msg</th>\n",
       "      <th>vader_compounded_score</th>\n",
       "      <th>positive</th>\n",
       "    </tr>\n",
       "  </thead>\n",
       "  <tbody>\n",
       "    <tr>\n",
       "      <th>0</th>\n",
       "      <td>ham</td>\n",
       "      <td>Go until jurong point, crazy.. Available only ...</td>\n",
       "      <td>jurong point crazi avail bugi great world buff...</td>\n",
       "      <td>0.8442</td>\n",
       "      <td>1</td>\n",
       "    </tr>\n",
       "    <tr>\n",
       "      <th>1</th>\n",
       "      <td>ham</td>\n",
       "      <td>Ok lar... Joking wif u oni...</td>\n",
       "      <td>joke</td>\n",
       "      <td>0.2960</td>\n",
       "      <td>0</td>\n",
       "    </tr>\n",
       "    <tr>\n",
       "      <th>2</th>\n",
       "      <td>spam</td>\n",
       "      <td>Free entry in 2 a wkly comp to win FA Cup fina...</td>\n",
       "      <td>free entri wkli comp final tkts text receiv en...</td>\n",
       "      <td>0.5106</td>\n",
       "      <td>1</td>\n",
       "    </tr>\n",
       "    <tr>\n",
       "      <th>3</th>\n",
       "      <td>ham</td>\n",
       "      <td>U dun say so early hor... U c already then say...</td>\n",
       "      <td>earli alreadi</td>\n",
       "      <td>0.0000</td>\n",
       "      <td>0</td>\n",
       "    </tr>\n",
       "    <tr>\n",
       "      <th>4</th>\n",
       "      <td>ham</td>\n",
       "      <td>Nah I don't think he goes to usf, he lives aro...</td>\n",
       "      <td>think goe live around though</td>\n",
       "      <td>0.0000</td>\n",
       "      <td>0</td>\n",
       "    </tr>\n",
       "  </tbody>\n",
       "</table>\n",
       "</div>"
      ],
      "text/plain": [
       "  Category                                            Message                                      processed_msg  vader_compounded_score  positive\n",
       "0      ham  Go until jurong point, crazy.. Available only ...  jurong point crazi avail bugi great world buff...                  0.8442         1\n",
       "1      ham                      Ok lar... Joking wif u oni...                                               joke                  0.2960         0\n",
       "2     spam  Free entry in 2 a wkly comp to win FA Cup fina...  free entri wkli comp final tkts text receiv en...                  0.5106         1\n",
       "3      ham  U dun say so early hor... U c already then say...                                      earli alreadi                  0.0000         0\n",
       "4      ham  Nah I don't think he goes to usf, he lives aro...                       think goe live around though                  0.0000         0"
      ]
     },
     "execution_count": 6,
     "metadata": {},
     "output_type": "execute_result"
    }
   ],
   "source": [
    "# Creating a binary variable for positive or not:\n",
    "raw['positive'] = raw.vader_compounded_score.apply(lambda x: 0 if x < 0.5 else 1)\n",
    "raw.head()"
   ]
  },
  {
   "cell_type": "markdown",
   "id": "302a675c",
   "metadata": {},
   "source": [
    "### 4. Sentiment analysis using TensorFlow:"
   ]
  },
  {
   "cell_type": "code",
   "execution_count": 7,
   "id": "86fd8195",
   "metadata": {},
   "outputs": [],
   "source": [
    "# Importing packages:\n",
    "from sklearn.model_selection import train_test_split \n",
    "from sklearn.metrics import classification_report, confusion_matrix, accuracy_score\n",
    "\n",
    "from sklearn.preprocessing import LabelEncoder\n",
    "from keras.models import Sequential\n",
    "from keras.utils import pad_sequences\n",
    "from keras.layers import Dense, Embedding, LSTM, SpatialDropout1D, GlobalAveragePooling1D"
   ]
  },
  {
   "cell_type": "markdown",
   "id": "6ea165f7",
   "metadata": {},
   "source": [
    "### 5. Create model:"
   ]
  },
  {
   "cell_type": "code",
   "execution_count": 8,
   "id": "7283eb29",
   "metadata": {},
   "outputs": [
    {
     "name": "stdout",
     "output_type": "stream",
     "text": [
      "Model: \"sequential\"\n",
      "_________________________________________________________________\n",
      " Layer (type)                Output Shape              Param #   \n",
      "=================================================================\n",
      " embedding (Embedding)       (None, 120, 16)           640000    \n",
      "                                                                 \n",
      " global_average_pooling1d (G  (None, 16)               0         \n",
      " lobalAveragePooling1D)                                          \n",
      "                                                                 \n",
      " dense (Dense)               (None, 6)                 102       \n",
      "                                                                 \n",
      " dense_1 (Dense)             (None, 1)                 7         \n",
      "                                                                 \n",
      "=================================================================\n",
      "Total params: 640,109\n",
      "Trainable params: 640,109\n",
      "Non-trainable params: 0\n",
      "_________________________________________________________________\n"
     ]
    }
   ],
   "source": [
    "# Splitting data into training (80) and testing ()20\n",
    "split = round(len(raw)*0.8)\n",
    "train_reviews = raw['processed_msg'][:split]\n",
    "train_label = raw['positive'][:split]\n",
    "test_reviews = raw['processed_msg'][split:]\n",
    "test_label = raw['positive'][split:]\n",
    "\n",
    "# Setting parameters: \n",
    "vocab_size = 40000      # 40,000 unique words to train the network\n",
    "embedding_dim = 16      # Each word will be represented in 16 dimensions\n",
    "max_length = 120        # Max length of each message \n",
    "trunc_type = 'post'     # Truncates after 120 words \n",
    "oov_tok = '<OOV>'       # Replace out-of-sequence words\n",
    "padding_type = 'post'   # Padding is added at end to make all 120 words \n",
    "\n",
    "\n",
    "# Tokenizing training messages :\n",
    "tokenizer = Tokenizer(num_words=vocab_size, oov_token=oov_tok)\n",
    "tokenizer.fit_on_texts(train_reviews)\n",
    "word_index = tokenizer.word_index\n",
    "\n",
    "# Representing (training) messages into sequence of integers: \n",
    "sequences = tokenizer.texts_to_sequences(train_reviews)\n",
    "\n",
    "# Pad training & testing messages, if necessary \n",
    "padded = pad_sequences(sequences, maxlen=max_length, truncating=trunc_type)\n",
    "\n",
    "training_sentences = tokenizer.texts_to_sequences(train_reviews)\n",
    "training_padded = pad_sequences(training_sentences , maxlen = max_length)\n",
    "    \n",
    "testing_sentences = tokenizer.texts_to_sequences(test_reviews)\n",
    "testing_padded = pad_sequences(testing_sentences, maxlen = max_length)\n",
    "\n",
    "\n",
    "# Creating model!\n",
    "# A sequential model that builds layers on top of another\n",
    "model = Sequential([      \n",
    "    Embedding(vocab_size, embedding_dim, input_length=max_length), # Embedding the forst layer using the parameters already decided\n",
    "    GlobalAveragePooling1D(),                                     # Flattening the vector from 3D \n",
    "    Dense(6, activation='relu'),                                  # Hidden layer with 6 neurons\n",
    "    Dense(1, activation='sigmoid')                                # last layer in a classification problem is always sigmoid or softmax\n",
    "])\n",
    "\n",
    "\n",
    "# Compiling model:\n",
    "model.compile(loss='binary_crossentropy',     # \n",
    "              optimizer='adam',               # Optimizing method \n",
    "              metrics=['accuracy']            # The metric we want to calculate \n",
    "             ) \n",
    "\n",
    "\n",
    "# Printing model summary: \n",
    "model.summary()"
   ]
  },
  {
   "cell_type": "markdown",
   "id": "4b360424",
   "metadata": {},
   "source": [
    "<div class = 'alert alert-block alert-warning'>\n",
    "1. <b> Embedding layer:  </b> No batc size; messages of length 120 of 16 dimensions  <br>\n",
    "2. <b> Flattening </b> to 1 dimension  <br>\n",
    "3. <b> No batch size </b> - only numner of features (6 & then 1)\n",
    "    </div>"
   ]
  },
  {
   "cell_type": "markdown",
   "id": "86228f2a",
   "metadata": {},
   "source": [
    "### 6. Training model: "
   ]
  },
  {
   "cell_type": "code",
   "execution_count": 9,
   "id": "1aa62ca0",
   "metadata": {},
   "outputs": [
    {
     "name": "stdout",
     "output_type": "stream",
     "text": [
      "(1114, 120)\n",
      "(1114,)\n",
      "Epoch 1/20\n",
      "140/140 [==============================] - 5s 20ms/step - loss: 0.6016 - accuracy: 0.7775 - val_loss: 0.5171 - val_accuracy: 0.7980\n",
      "Epoch 2/20\n",
      "140/140 [==============================] - 2s 17ms/step - loss: 0.5012 - accuracy: 0.7954 - val_loss: 0.4926 - val_accuracy: 0.7980\n",
      "Epoch 3/20\n",
      "140/140 [==============================] - 2s 17ms/step - loss: 0.4940 - accuracy: 0.7954 - val_loss: 0.4897 - val_accuracy: 0.7980\n",
      "Epoch 4/20\n",
      "140/140 [==============================] - 2s 16ms/step - loss: 0.4905 - accuracy: 0.7954 - val_loss: 0.4866 - val_accuracy: 0.7980\n",
      "Epoch 5/20\n",
      "140/140 [==============================] - 2s 17ms/step - loss: 0.4864 - accuracy: 0.7954 - val_loss: 0.4824 - val_accuracy: 0.7980\n",
      "Epoch 6/20\n",
      "140/140 [==============================] - 2s 17ms/step - loss: 0.4807 - accuracy: 0.7954 - val_loss: 0.4769 - val_accuracy: 0.7980\n",
      "Epoch 7/20\n",
      "140/140 [==============================] - 2s 17ms/step - loss: 0.4732 - accuracy: 0.7954 - val_loss: 0.4692 - val_accuracy: 0.7980\n",
      "Epoch 8/20\n",
      "140/140 [==============================] - 2s 17ms/step - loss: 0.4600 - accuracy: 0.7956 - val_loss: 0.4528 - val_accuracy: 0.7980\n",
      "Epoch 9/20\n",
      "140/140 [==============================] - 2s 16ms/step - loss: 0.4365 - accuracy: 0.7968 - val_loss: 0.4293 - val_accuracy: 0.7989\n",
      "Epoch 10/20\n",
      "140/140 [==============================] - 2s 15ms/step - loss: 0.4051 - accuracy: 0.8062 - val_loss: 0.4004 - val_accuracy: 0.8115\n",
      "Epoch 11/20\n",
      "140/140 [==============================] - 2s 16ms/step - loss: 0.3692 - accuracy: 0.8297 - val_loss: 0.3700 - val_accuracy: 0.8420\n",
      "Epoch 12/20\n",
      "140/140 [==============================] - 2s 17ms/step - loss: 0.3323 - accuracy: 0.8558 - val_loss: 0.3421 - val_accuracy: 0.8555\n",
      "Epoch 13/20\n",
      "140/140 [==============================] - 2s 16ms/step - loss: 0.2997 - accuracy: 0.8739 - val_loss: 0.3221 - val_accuracy: 0.8779\n",
      "Epoch 14/20\n",
      "140/140 [==============================] - 2s 18ms/step - loss: 0.2694 - accuracy: 0.8905 - val_loss: 0.3012 - val_accuracy: 0.8824\n",
      "Epoch 15/20\n",
      "140/140 [==============================] - 2s 18ms/step - loss: 0.2444 - accuracy: 0.9040 - val_loss: 0.2801 - val_accuracy: 0.8833\n",
      "Epoch 16/20\n",
      "140/140 [==============================] - 2s 17ms/step - loss: 0.2217 - accuracy: 0.9132 - val_loss: 0.2653 - val_accuracy: 0.8851\n",
      "Epoch 17/20\n",
      "140/140 [==============================] - 2s 17ms/step - loss: 0.2023 - accuracy: 0.9253 - val_loss: 0.2523 - val_accuracy: 0.9013\n",
      "Epoch 18/20\n",
      "140/140 [==============================] - 2s 16ms/step - loss: 0.1857 - accuracy: 0.9329 - val_loss: 0.2434 - val_accuracy: 0.8977\n",
      "Epoch 19/20\n",
      "140/140 [==============================] - 2s 15ms/step - loss: 0.1702 - accuracy: 0.9392 - val_loss: 0.2387 - val_accuracy: 0.9013\n",
      "Epoch 20/20\n",
      "140/140 [==============================] - 2s 16ms/step - loss: 0.1573 - accuracy: 0.9462 - val_loss: 0.2258 - val_accuracy: 0.9048\n"
     ]
    }
   ],
   "source": [
    "training_labels_final = np.array(train_label)\n",
    "testing_labels_final = np.array(test_label)\n",
    "\n",
    "print(testing_padded.shape)\n",
    "print(testing_labels_final.shape )\n",
    "\n",
    "num_epochs = 20\n",
    "history = model.fit(padded, \n",
    "                    training_labels_final, \n",
    "                    epochs=num_epochs, \n",
    "                    validation_data=(testing_padded, testing_labels_final))"
   ]
  },
  {
   "cell_type": "markdown",
   "id": "130c80d9",
   "metadata": {},
   "source": [
    "<div class = 'alert alert-block alert-warning'>\n",
    "<b> Training accuracy </b>  = 94.01%   <br>\n",
    "<b> Validation accuracy </b> = 90.58% \n",
    "    </div>"
   ]
  },
  {
   "cell_type": "code",
   "execution_count": 10,
   "id": "d14fbd78",
   "metadata": {},
   "outputs": [
    {
     "data": {
      "text/plain": [
       "<Figure size 640x480 with 0 Axes>"
      ]
     },
     "execution_count": 10,
     "metadata": {},
     "output_type": "execute_result"
    },
    {
     "data": {
      "image/png": "[encoded data removed]",
      "text/plain": [
       "<Figure size 640x480 with 1 Axes>"
      ]
     },
     "metadata": {},
     "output_type": "display_data"
    },
    {
     "data": {
      "image/png": "[encoded data removed]",
      "text/plain": [
       "<Figure size 640x480 with 1 Axes>"
      ]
     },
     "metadata": {},
     "output_type": "display_data"
    },
    {
     "data": {
      "text/plain": [
       "<Figure size 640x480 with 0 Axes>"
      ]
     },
     "metadata": {},
     "output_type": "display_data"
    }
   ],
   "source": [
    "import matplotlib.pyplot as plt\n",
    "import matplotlib.image as mpimg\n",
    "acc = history.history['accuracy']\n",
    "val_acc = history.history['val_accuracy']\n",
    "loss = history.history['loss']\n",
    "val_loss = history.history['val_loss']\n",
    "epochs=range(len(acc))\n",
    "plt.plot(epochs, acc, 'r', 'Training Accuracy')\n",
    "plt.plot(epochs, val_acc, 'b', 'Validation Accuracy')\n",
    "plt.title('Training and validation accuracy')\n",
    "plt.figure()\n",
    "plt.plot(epochs, loss, 'r', 'Training Loss')\n",
    "plt.plot(epochs, val_loss, 'b', 'Validation Loss')\n",
    "plt.title('Training and validation loss')\n",
    "plt.figure()"
   ]
  },
  {
   "cell_type": "code",
   "execution_count": 11,
   "id": "71ae4434",
   "metadata": {},
   "outputs": [
    {
     "name": "stdout",
     "output_type": "stream",
     "text": [
      "You must install pydot (`pip install pydot`) and install graphviz (see instructions at https://graphviz.gitlab.io/download/) for plot_model to work.\n"
     ]
    }
   ],
   "source": [
    "\n",
    "from keras.utils import plot_model\n",
    "\n",
    "dot_img_file = 'model_1.png'\n",
    "plot_model(model, to_file=dot_img_file, show_shapes=True)"
   ]
  },
  {
   "cell_type": "code",
   "execution_count": 12,
   "id": "444e7786",
   "metadata": {},
   "outputs": [],
   "source": [
    "import pydot\n",
    "import graphviz "
   ]
  },
  {
   "cell_type": "code",
   "execution_count": 13,
   "id": "8991fb19",
   "metadata": {},
   "outputs": [],
   "source": [
    "# Spam analysis using Keras: "
   ]
  }
 ],
 "metadata": {
  "kernelspec": {
   "display_name": "Python 3 (ipykernel)",
   "language": "python",
   "name": "python3"
  },
  "language_info": {
   "codemirror_mode": {
    "name": "ipython",
    "version": 3
   },
   "file_extension": ".py",
   "mimetype": "text/x-python",
   "name": "python",
   "nbconvert_exporter": "python",
   "pygments_lexer": "ipython3",
   "version": "3.9.13"
  }
 },
 "nbformat": 4,
 "nbformat_minor": 5
}
