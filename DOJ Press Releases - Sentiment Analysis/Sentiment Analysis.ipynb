{
 "cells": [
  {
   "cell_type": "markdown",
   "metadata": {},
   "source": [
    "# Imports and packages"
   ]
  },
  {
   "cell_type": "code",
   "execution_count": 26,
   "metadata": {},
   "outputs": [],
   "source": [
    "## Basic Packages\n",
    "\n",
    "import warnings\n",
    "warnings.filterwarnings(\"ignore\")\n",
    "\n",
    "import pandas as pd\n",
    "import numpy as np\n",
    "import random\n",
    "import re\n",
    "import string\n",
    "import os\n",
    "from datetime import datetime\n",
    "from random import sample\n",
    "\n",
    "## nltk imports\n",
    "import nltk\n",
    "from nltk import pos_tag\n",
    "from nltk.tokenize import word_tokenize, wordpunct_tokenize\n",
    "from nltk.stem.snowball import SnowballStemmer\n",
    "from nltk.corpus import stopwords"
   ]
  },
  {
   "cell_type": "code",
   "execution_count": 27,
   "metadata": {},
   "outputs": [],
   "source": [
    "## spacy imports\n",
    "import spacy\n",
    "import en_core_web_sm\n",
    "sp = spacy.load('en_core_web_sm')\n",
    "nlp = en_core_web_sm.load()"
   ]
  },
  {
   "cell_type": "code",
   "execution_count": 28,
   "metadata": {},
   "outputs": [],
   "source": [
    "## vectorizer\n",
    "from sklearn.feature_extraction.text import CountVectorizer\n",
    "## sentiment\n",
    "from vaderSentiment.vaderSentiment import SentimentIntensityAnalyzer"
   ]
  },
  {
   "cell_type": "code",
   "execution_count": 29,
   "metadata": {},
   "outputs": [],
   "source": [
    "## lda\n",
    "import gensim\n",
    "from gensim import corpora"
   ]
  },
  {
   "cell_type": "code",
   "execution_count": 30,
   "metadata": {},
   "outputs": [],
   "source": [
    "## repeated printouts and wide-format text\n",
    "from IPython.core.interactiveshell import InteractiveShell\n",
    "InteractiveShell.ast_node_interactivity = \"all\"\n",
    "pd.set_option('display.max_colwidth', None)"
   ]
  },
  {
   "cell_type": "markdown",
   "metadata": {},
   "source": [
    "# Text analysis of Department of Justice (DOJ) press releases\n",
    "\n",
    "- For background:\n",
    "\n",
    "    - DOJ is the federal law enforcement agency responsible for federal prosecutions; this contrasts with the local prosecutions in the Cook County dataset we analyzed earlier. Here's a short explainer on which crimes get prosecuted federally versus locally: https://www.criminaldefenselawyer.com/resources/criminal-defense/federal-crime/state-vs-federal-crimes.htm#:~:text=Federal%20criminal%20prosecutions%20are%20handled,of%20state%20and%20local%20law. \n",
    "    - Here's the Kaggle that contains the data: https://www.kaggle.com/jbencina/department-of-justice-20092018-press-releases \n",
    "    - Here's the code the dataset creator used to scrape those press releases here if you're interested: https://github.com/jbencina/dojreleases\n",
    "    \n",
    "- See here for a codebook: https://docs.google.com/spreadsheets/d/1UopmSvFGrwJvz_c3Plh32Yxkqwff64oS_CcpfATOV8k/edit?usp=sharing"
   ]
  },
  {
   "cell_type": "code",
   "execution_count": 31,
   "metadata": {},
   "outputs": [],
   "source": [
    "## Unzipping JSON file:\n",
    "\n",
    "# Creating directories\n",
    "filename = os.getcwd() + \"\\\\combined.json.zip\"\n",
    "extract_dir = os.getcwd() + \"\\\\unzipped\"\n",
    "\n",
    "# Making older if it doesn't exist:\n",
    "if not os.path.exists(extract_dir):\n",
    "    os.makedirs(extract_dir)\n",
    "\n",
    "# Extracting:\n",
    "import shutil\n",
    "shutil.unpack_archive(filename, extract_dir)"
   ]
  },
  {
   "cell_type": "code",
   "execution_count": 32,
   "metadata": {},
   "outputs": [
    {
     "data": {
      "text/html": [
       "<div>\n",
       "<style scoped>\n",
       "    .dataframe tbody tr th:only-of-type {\n",
       "        vertical-align: middle;\n",
       "    }\n",
       "\n",
       "    .dataframe tbody tr th {\n",
       "        vertical-align: top;\n",
       "    }\n",
       "\n",
       "    .dataframe thead th {\n",
       "        text-align: right;\n",
       "    }\n",
       "</style>\n",
       "<table border=\"1\" class=\"dataframe\">\n",
       "  <thead>\n",
       "    <tr style=\"text-align: right;\">\n",
       "      <th></th>\n",
       "      <th>id</th>\n",
       "      <th>title</th>\n",
       "      <th>contents</th>\n",
       "      <th>date</th>\n",
       "      <th>topics_clean</th>\n",
       "      <th>components_clean</th>\n",
       "    </tr>\n",
       "  </thead>\n",
       "  <tbody>\n",
       "    <tr>\n",
       "      <th>0</th>\n",
       "      <td>None</td>\n",
       "      <td>Convicted Bomb Plotter Sentenced to 30 Years</td>\n",
       "      <td>PORTLAND, Oregon. – Mohamed Osman Mohamud, 23, who was convicted in 2013 of attempting to use a weapon of mass destruction (explosives) in connection with a plot to detonate a vehicle bomb at an annual Christmas tree lighting ceremony in Portland, was sentenced today to serve 30 years in prison, followed by a lifetime term of supervised release. Mohamud, a naturalized U.S. citizen from Somalia and former resident of Corvallis, Oregon, was arrested on Nov. 26, 2010, after he attempted to detonate what he believed to be an explosives-laden van that was parked near the tree lighting ceremony in Portland.  The arrest was the culmination of a long-term undercover operation, during which Mohamud was monitored closely for months as his bomb plot developed.  The device was in fact inert, and the public was never in danger from the device. At sentencing, United States District Court Judge Garr M. King, who presided over Mohamed’s 14-day trial, said “the intended crime was horrific,” and that the defendant, even though he was presented with options by undercover FBI employees, “never once expressed a change of heart.”  King further noted that the Christmas tree ceremony was attended by up to 10,000 people, and that the defendant “wanted everyone to leave either dead or injured.”  King said his sentence was necessary in view of the seriousness of the crime and to serve as deterrence to others who might consider similar acts.     “With today’s sentencing, Mohamed Osman Mohamud is being held accountable for his attempted use of what he believed to be a massive bomb to attack innocent civilians attending a public Christmas tree lighting ceremony in Portland,” said John P. Carlin, Assistant Attorney General for National Security.  “The evidence clearly indicated that Mohamud was intent on killing as many people as possible with his attack.  Fortunately, law enforcement was able to identify him as a threat, insert themselves in the place of a terrorist that Mohamud was trying to contact, and thwart Mohamud’s efforts to conduct an attack on our soil.  This case highlights how the use of undercover operations against would-be terrorists allows us to engage and disrupt those who wish to commit horrific acts of violence against the innocent public.  The many agents, analysts, and prosecutors who have worked on this case deserve great credit for their roles in protecting Portland from the threat posed by this defendant and ensuring that he was brought to justice.” “This trial provided a rare glimpse into the techniques Al Qaeda employs to radicalize home-grown extremists,” said Amanda Marshall, U.S. Attorney for the District of Oregon.  “With the sentencing today, the court has held this defendant accountable.   I thank the dedicated professionals in the law enforcement and intelligence communities who were responsible for this successful outcome.  I look forward to our continued work with Muslim communities in Oregon who are committed to ensuring that all young people are safe from extremists who seek to radicalize others to engage in violence.”  According to the trial evidence, in February 2009, Mohamud began communicating via e-mail with Samir Khan, a now-deceased al Qaeda terrorist who published Jihad Recollections, an online magazine that advocated violent jihad, and who also published Inspire, the official magazine of al-Qaeda in the Arabian Peninsula.  Between February and August 2009, Mohamed exchanged approximately 150 emails with Khan.  Mohamud wrote several articles for Jihad Recollections that were published under assumed names. In August 2009, Mohamud was in email contact with Amro Al-Ali, a Saudi national who was in Yemen at the time and is today in custody in Saudi Arabia for terrorism offenses.  Al-Ali sent Mohamud detailed e-mails designed to facilitate Mohamud’s travel to Yemen to train for violent jihad.  In December 2009, while Al-Ali was in the northwest frontier province of Pakistan, Mohamud and Al-Ali discussed the possibility of Mohamud traveling to Pakistan to join Al-Ali in terrorist activities. Mohamud responded to Al-Ali in an e-mail: “yes, that would be wonderful, just tell me what I need to do.”  Al-Ali referred Mohamud to a second associate overseas and provided Mohamud with a name and email address to facilitate the process. In the following months, Mohamud made several unsuccessful attempts to contact Al-Ali’s associate.  Ultimately, an FBI undercover operative contacted Mohamud via email under the guise of being an associate of Al-Ali’s.  Mohamud and the FBI undercover operative agreed to meet in Portland in July 2010.  At the meeting, Mohamud told the FBI undercover operative he had written articles that were published in Jihad Recollections.  Mohamud also said that he wanted to become “operational.”  Asked what he meant by “operational,” Mohamud said he wanted to put an explosion together, but needed help. According to evidence presented at trial, at a meeting in August 2010, Mohamud told undercover FBI operatives he had been thinking of committing violent jihad since the age of 15.  Mohamud then told the undercover FBI operatives that he had identified a potential target for a bomb: the annual Christmas tree lighting ceremony in Portland’s Pioneer Courthouse Square on Nov. 26, 2010.  The undercover FBI operatives cautioned Mohamud several times about the seriousness of this plan, noting there would be many people at the event, including children, and emphasized that Mohamud could abandon his attack plans at any time with no shame.  Mohamud indicated the deaths would be justified and that he would not mind carrying out a suicide attack on the crowd. According to evidence presented at trial, in the ensuing months Mohamud continued to express his interest in carrying out the attack and worked on logistics.  On Nov. 4, 2010, Mohamud and the undercover FBI operatives traveled to a remote location in Lincoln County, Oregon, where they detonated a bomb concealed in a backpack as a trial run for the upcoming attack.  During the drive back to Corvallis, Mohamud was asked if was capable looking at all the bodies of those who would be killed during the explosion.  In response, Mohamud noted, “I want whoever is attending that event to be, to leave either dead or injured.”  Mohamud later recorded a video of himself, with the assistance of the undercover FBI operatives, in which he read a statement that offered his rationale for his bomb attack.  On Nov. 18, 2010, undercover FBI operatives picked up Mohamud to travel to Portland to finalize the details of the attack.  On Nov. 26, 2010, just hours before the planned attack, Mohamud examined the 1,800 pound bomb in the van and remarked that it was “beautiful.”  Later that day, Mohamud was arrested after he attempted to remotely detonate the inert vehicle bomb rked near the Christmas tree lighting ceremony This case was investigated by the FBI, with assistance from the Oregon State Police, the Corvallis Police Department, the Lincoln County Sheriff’s Office and the Portland Police Bureau.  The prosecution was handled by Assistant U.S. Attorneys Ethan D. Knight and Pamala Holsinger from the U.S. Attorney’s Office for the District of Oregon.  Trial Attorney Jolie F. Zimmerman, from the Counterterrorism Section of the Justice Department’s National Security Division, assisted. # # # 14-1077</td>\n",
       "      <td>2014-10-01T00:00:00-04:00</td>\n",
       "      <td>No topic</td>\n",
       "      <td>National Security Division (NSD)</td>\n",
       "    </tr>\n",
       "    <tr>\n",
       "      <th>1</th>\n",
       "      <td>12-919</td>\n",
       "      <td>$1 Million in Restitution Payments Announced to Preserve North Carolina Wetlands</td>\n",
       "      <td>WASHINGTON – North Carolina’s Waccamaw River watershed will benefit from a $1 million restitution order from a federal court, funding environmental projects to acquire and preserve wetlands in an area damaged by illegal releases of wastewater from a corporate hog farm, announced Ignacia S. Moreno, Assistant Attorney General of the Justice Department’s Environment and Natural Resources Division; U.S. Attorney for the Eastern District of North Carolina Thomas G. Walker; Director Greg McLeod from the North Carolina State Bureau of Investigation; and Camilla M. Herlevich, Executive Director of the North Carolina Coastal Land Trust.   Freedman Farms Inc. was sentenced in February 2012 to five years of probation and ordered to pay $1.5 million in fines, restitution and community service payments for violating the Clean Water Act when it discharged hog waste into a stream that leads to the Waccamaw River.  William B. Freedman, president of Freedman Farms, was sentenced to six months in prison to be followed by six months of home confinement.  Freedman Farms also is required to implement a comprehensive environmental compliance program and institute an annual training program.   In an order issued on April 19, 2012, the court ordered that the defendants would be responsible for restitution of $1 million in the form of five annual payments starting in January 2013, which the court will direct to the North Carolina Coastal Land Trust (NCCLT).  The NCCLT plans to use the money to acquire and conserve land along streams in the Waccamaw watershed.  The court also directed a $75,000 community service payment to the Southern Environmental Enforcement Network, an organization dedicated to environmental law enforcement training and information sharing in the region.    “The resolution of the case against Freedman Farms demonstrates the commitment of the Department of Justice to enforcing the Clean Water Act to ensure the protection of human health and the environment,” said Assistant Attorney General Moreno.  “The court-ordered restitution in this case will conserve wetlands for the benefit of the people of North Carolina.  By enforcing the nation’s environmental laws, we will continue to ensure that concentrated animal feeding operations (CAFOs) operate without threatening our drinking water, the health of our communities and the environment.”   “This office is committed to doing our part to hold accountable those who commit crimes against our environment, which can cause serious health problems to residents and damage the environment that makes North Carolina such a beautiful place to live and visit,” said U.S. Attorney Walker.   “This case shows what we can accomplish when our SBI agents work closely with their local, state and federal partners to investigate environmental crimes and hold the polluters accountable,” said Director McLeod.  “We’ll continue our efforts to fight illegal pollution that damages our water and puts the public’s health at risk.”    “The Waccamaw is unique and wild,” said Director Herlevich of the North Carolina Coastal Land Trust. “Its watershed includes some of the most extensive cypress gum swamps in the state, and its headwaters at Lake Waccamaw contain fish that are found nowhere else on Earth.  We appreciate the trust of the court and the U. S. Attorney, and we look forward to using these funds for conservation projects in a river system that is one of our top conservation priorities.”   According to evidence presented in court, in December 2007 Freedman Farms discharged hog waste into Browder’s Branch, a tributary to the Waccamaw River that flows through the White Marsh, a large wetlands complex.  Freedman Farms, located in Columbus County, N.C., is in the business of raising hogs for market, and this particular farm had some 4,800 hogs.  The hog waste was supposed to be directed to two lagoons for treatment and disposal.  Instead, hog waste was discharged from Freedman Farms directly into Browder’s Branch.    The Clean Water Act is a federal law that makes it illegal to knowingly or negligently discharge a pollutant into a water of the United States.    The Freedman case was investigated by the U.S. Environmental Protection Agency (EPA) Criminal Investigation Division, the U.S. Army Corps of Engineers and the North Carolina State Bureau of Investigation, with assistance from the EPA Science and Ecosystem Support Division.  The case was prosecuted by Assistant U.S. Attorney J. Gaston B. Williams of the Eastern District of North Carolina and Trial Attorney Mary Dee Carraway of the Environmental Crimes Section of the Justice Department’s Environment and Natural Resources Division.   The North Carolina Coastal Land Trust is celebrating its 20th anniversary of saving special lands in eastern North Carolina. The organization has protected nearly 50,000 acres of lands with scenic, recreational, historic and ecological values. North Carolina Coastal Land Trust has saved streams and wetlands that provide clean water, forests that are havens for wildlife, working farms that provide local food and nature parks that everyone can enjoy.  More information about the Coastal Land Trust is available at www.coastallandtrust.org.</td>\n",
       "      <td>2012-07-25T00:00:00-04:00</td>\n",
       "      <td>No topic</td>\n",
       "      <td>Environment and Natural Resources Division</td>\n",
       "    </tr>\n",
       "    <tr>\n",
       "      <th>2</th>\n",
       "      <td>11-1002</td>\n",
       "      <td>$1 Million Settlement Reached for Natural Resource Damages at Superfund Site in Massachusetts</td>\n",
       "      <td>BOSTON– A $1-million settlement has been reached for natural resource damages (NRD) at the Blackburn &amp; Union Privileges Superfund Site in Walpole, Mass., the Departments of Justice and Interior (DOI), and the Office of the Massachusetts Attorney General announced today.                The Blackburn &amp; Union Privileges Superfund Site includes 22 acres of contaminated land and water in Walpole. The contamination resulted from the operations of various industrial facilities dating back to the 19th century that exposed the site to asbestos, arsenic, lead and other hazardous substances.                The private parties involved in the settlement include two former owners and operators of the site, W.R. Grace &amp; Co.– Conn. and Tyco Healthcare Group LP, as well as the current owners, BIM Investment Corp. and Shaffer Realty Nominee Trust.               From about 1915 to 1936, a predecessor of W.R. Grace manufactured asbestos brake linings and clutch linings on a large portion of the property. From 1946 to about 1983, a predecessor of Tyco Healthcare operated a cotton fabric manufacturing business, which used caustic solutions, on a portion of the property.               In a 2010 settlement with U.S. Environmental Protection Agency (EPA), the four private parties agreed to perform a remedial action to clean up the site at an estimated cost of $13 million. The consent decree lodged today resolves both state and federal NRD liability claims; it requires the parties to pay $1,094,169.56 to the state and federal natural resource trustees, the Massachusetts Executive Office of Energy and Environmental Affairs (EEA) and DOI, for injuries to ecological resources including groundwater and wetlands, which provide habitat for waterfowl and wading birds, including black ducks and great blue herons.  The trustees will use the settlement funds for natural resource restoration projects in the area.               “This settlement demonstrates our commitment to recovering damages from the parties responsible for injury to natural resources, in partnership with state trustees,” said Bruce Gelber, Acting Deputy Assistant Attorney General of the Justice Department’s Environment and Natural Resources Division.               “The citizens of Walpole have had to live with the environmental impact of this contamination for many years,” Attorney General Martha Coakley said. “We are pleased that today’s agreement will not only require the responsible parties to reimburse taxpayer dollars, but will also provide funding to begin restoring or replacing the wetland and other natural resources.”                 The consent decree was lodged in the U.S. District Court for Massachusetts.     A portion of the funds, $300,000, will be distributed to the EEA-sponsored groundwater restoration projects; $575,000 will be used for ecological restoration projects jointly sponsored by EEA and the U.S. Fish and Wildlife Service (FWS).               In addition, $125,000 will go for projects jointly sponsored by EEA and FWS that achieve both ecological and groundwater restoration; $57,491.34 will be allocated for reimbursement for the FWS’s assessment costs; and $36,678.22 will be distributed as reimbursement for the commonwealth’s assessment costs.       “This settlement provides the means for a range of projects designed to compensate the public for decades of groundwater and other ecological damage at this site.  I encourage local citizens and organizations to become engaged in the public process that will take place as we solicit, take comment on, and choose these projects in the months ahead,” said Energy and Environmental Affairs Secretary Richard K. Sullivan Jr., who serves as the Commonwealth’s Natural Resources Damages trustee.       “This settlement will help restore habitat for fish and wildlife in the Neponset River watershed,” said Tom Chapman of the FWS New England Field Office. “We look forward to working with the commonwealth and local stakeholders to implement restoration.”               “More than 100 years-worth of industrial activities at this site caused major environmental contamination to the Neponset River, nearby wetlands and to groundwater below the site,” said Commissioner Kenneth Kimmell of the Massachusetts Department of Environmental Protection (MassDEP), which will staff the Trustee Council for the Commonwealth. “We will ensure that the community and the public will be active participants in the process to use these NRD funds to restore the injured natural resources.”                Under the federal Comprehensive Environmental Response, Compensation and Liability Act, EEA and DOI, acting through the FWS, are the designated state and federal natural resource Trustees for the site. The site has been listed on the EPA’s National Priorities List since 1994.        The consent decree is subject to a public comment period and court approval. A copy of the consent decree and instructions about how to submit comments is available on www.usdoj.gov/enrd/Consent_Decrees.html  .               After the consent decree is approved, EEA and FWS will develop proposed restoration plans to use the settlement funds for restoration projects. The proposed restoration plans will also be made available to the public for review and comment.                Assistant Attorney General Matthew Brock of Massachusetts Attorney General Coakley's Environmental Protection Division handled this matter.  Attorney Jennifer Davis of MassDEP, Attorney Anna Blumkin of EEA and MassDEP’s NRD Coordinator Karen Pelto also worked on this settlement.</td>\n",
       "      <td>2011-08-03T00:00:00-04:00</td>\n",
       "      <td>No topic</td>\n",
       "      <td>Environment and Natural Resources Division</td>\n",
       "    </tr>\n",
       "    <tr>\n",
       "      <th>3</th>\n",
       "      <td>10-015</td>\n",
       "      <td>10 Las Vegas Men Indicted \\r\\nfor Falsifying Vehicle Emissions Tests</td>\n",
       "      <td>WASHINGTON—A federal grand jury in Las Vegas today returned indictments against 10 Nevada-certified emissions testers for falsifying vehicle emissions test reports, the Justice Department announced.   Each defendant faces one felony Clean Air Act count for falsifying reports between November 2007 and May 2009. The number of falsifications varied by defendant, with some defendants having falsified approximately 250 records, while others falsified more than double that figure. One defendant is alleged to have falsified over 700 reports.   The individuals indicted include:     Escudero resides in Pahrump, Nev. All other individuals are from Clark County, Nev.    The 10 defendants are alleged to have engaged in a practice known as \"clean scanning\" vehicles. The scheme involved entering the Vehicle Identification Number (VIN) for a vehicle that would not pass the emissions test into the computerized system, then connecting a different vehicle the testers knew would pass the test. These falsifications were allegedly performed for anywhere from $10 to $100 over and above the usual emissions testing fee.    The U.S. Environmental Protection Agency (EPA), under the Clean Air Act, requires the state of Nevada to conduct vehicle emissions testing in certain areas because the areas exceed national standards for carbon monoxide and ozone. Las Vegas is currently required to perform emissions testing.    To obtain a registration renewal, vehicle owners bring the vehicles to a licensed inspection station for testing. The emissions inspector logs into a computer to activate the system by using a unique password issued to the emissions inspector. The emissions inspector manually inputs the vehicle’s VIN to identify the tested vehicle, then connects the vehicle for model year 1996 and later to an onboard diagnostics port connected to an analyzer. The analyzer downloads data from the vehicle’s computer, analyzes the data and provides a \"pass\" or \"fail\" result. The pass or fail result and vehicle identification data are reported on the Vehicle Inspection Report. It is a crime to knowingly alter or conceal any record or other document required to be maintained by the Clean Air Act.     \"Falsifications of vehicle emissions testing, such as those alleged in the indictments unsealed today, are serious matters and we intend to use all of our enforcement tools to stop this harmful practice. These actions undermine a system that is designed to reduce air pollutants including smog and provide better air quality for the citizens of Nevada,\" said Ignacia S. Moreno, Assistant Attorney General for the Justice Department’s Environment and Natural Resources Division.    \"The residents of Nevada deserve to know that the vast majority of licensed vehicle emission inspectors are not corrupt and are not circumventing emission testing procedures,\" said U.S. Attorney Bogden. \"These indictments should serve as a clear warning to offenders that the Department of Justice will prosecute you if you make fraudulent statements and reports concerning compliance with the federal Clean Air Act.\"    \"Lying about car emissions means dirtier air, which is especially of concern in areas like Las Vegas that are already experiencing air quality problems,\" said Cynthia Giles, Assistant Administrator for Enforcement and Compliance Assurance at EPA. \"We will take aggressive action to ensure communities have clean air.\"    The maximum penalty for the felony violations contained in the indictments includes up to two years in prison and a fine of up to $250,000.    An indictment is merely an accusation, and a defendant is presumed innocent unless and until proven guilty in a court of law.    The case was investigated by the EPA, Criminal Investigation Division; and the Nevada Department of Motor Vehicles Compliance Enforcement Division. The case is being prosecuted by the U.S. Attorney’s Office for the District of Nevada and the Justice Department’s Environmental Crimes Section.</td>\n",
       "      <td>2010-01-08T00:00:00-05:00</td>\n",
       "      <td>No topic</td>\n",
       "      <td>Environment and Natural Resources Division</td>\n",
       "    </tr>\n",
       "    <tr>\n",
       "      <th>4</th>\n",
       "      <td>18-898</td>\n",
       "      <td>$100 Million Settlement Will Speed Cleanup Work at Centredale Manor Superfund Site in North Providence, R.I.</td>\n",
       "      <td>The U.S. Department of Justice, the U.S. Environmental Protection Agency (EPA), and the Rhode Island Department of Environmental Management (RIDEM) announced today that two subsidiaries of Stanley Black &amp; Decker Inc.—Emhart Industries Inc. and Black &amp; Decker Inc.—have agreed to clean up dioxin contaminated sediment and soil at the Centredale Manor Restoration Project Superfund Site in North Providence and Johnston, Rhode Island.  “We are pleased to reach a resolution through collaborative work with the responsible parties, EPA, and other stakeholders,” said Acting Assistant Attorney General Jeffrey H. Wood for the Justice Department's Environment and Natural Resources Division . “Today’s settlement ends protracted litigation and allows for important work to get underway to restore a healthy environment for citizens living in and around the Centredale Manor Site and the Woonasquatucket River.” “This settlement demonstrates the tremendous progress we are achieving working with responsible parties, states, and our federal partners to expedite sites through the entire Superfund remediation process,” said EPA Acting Administrator Andrew Wheeler. “The Centredale Manor Site has been on the National Priorities List for 18 years; we are taking charge and ensuring the Agency makes good on its promise to clean it up for the betterment of the environment and those communities affected.” “Successfully concluding this settlement paves the way for EPA to make good on our commitment to aggressively pursue cleaning up the Centredale Manor Superfund Site,” said EPA New England Regional Administrator Alexandra Dunn. “We are excited to get to work on the cleanup at this site, and get it closer to the goal of being fully utilized by the North Providence and Johnston communities.” “We are pleased that the collective efforts of the State of Rhode Island, EPA, and DOJ in these negotiations have concluded in this major milestone toward the cleanup of the Centredale Manor Restoration Superfund site and are consistent with our long-standing efforts to make the polluter pay,” said RIDEM Director Janet Coit. “The settlement will speed up a remedy that protects public health and the river environment, and moves us closer to the day that we can reclaim recreational uses of this beautiful river resource.” The settlement, which includes cleanup work in the Woonasquatucket River (River) and bordering residential and commercial properties along the River, requires the companies to perform the remedy selected by EPA for the Site in 2012, which is estimated to cost approximately $100 million, and resolves longstanding litigation. The cleanup remedy includes excavation of contaminated sediment and floodplain soil from the Woonasquatucket River, including from adjacent residential properties. Once the cleanup remedy is completed, full access to the Woonasquatucket River should be restored for local citizens. The cleanup will be a step toward the State’s goal of a fishable and swimmable river. The work will also include upgrading caps over contaminated soil in the peninsula area of the Site that currently house two high-rise apartment buildings. The settlement also ensures that the long-term monitoring and maintenance of the site, as directed in the remedy, will be implemented to ensure that public health is protected.  Under the settlement, Emhart and Black &amp; Decker will reimburse EPA for approximately $42 million in past costs incurred at the Site. The companies will also reimburse EPA and the State of Rhode Island for future costs incurred by those agencies in overseeing the work required by the settlement. The settlement will also include payments on behalf of two federal agencies to resolve claims against those agencies. These payments, along with prior settlements related to the Site, will result in a 100 percent recovery for the United States of its past and future response costs related to the Site. Litigation related to the Site has been ongoing for nearly eight years. While the Federal District Court found Black &amp; Decker and Emhart to be liable for their hazardous waste and responsible to conduct the cleanup of the Site, it had also ruled that EPA needed to reconsider certain aspects of that cleanup. EPA appealed the decision requiring it to reconsider aspects of the cleanup. This settlement, once entered by the District Court, will resolve the litigation between the United States, Rhode Island, and Emhart and Black and Decker, allowing the cleanup of the Site to begin. The Site spans a one and a half mile stretch of the Woonasquatucket River and encompasses a nine-acre peninsula, two ponds and a significant forested wetland. From the 1940s to the early 1970s, Emhart’s predecessor operated a chemical manufacturing facility on the peninsula and used a raw material that was contaminated with 2,3,7,8-tetrachlorodibenzo-p-dioxin, a toxic form of dioxin. The Site property was also previously used by a barrel refurbisher. Elevated levels of dioxins and other contaminants have been detected in soil, groundwater, sediment, surface water and fish.  The Site was added to the National Priorities List (NPL) in 2000, and in December 2017, EPA included the Centredale Manor Restoration Project Superfund Site on a list of Superfund sites targeted for immediate and intense attention. Several short-term actions were previously performed at the Site to address immediate threats to the residents and minimize potential erosion and downstream transport of contaminated soil and sediment. This settlement is the latest agreement EPA has reached since the Site was listed on the NPL. Prior agreements addressed the performance and recovery of costs for the past environmental investigations and interim cleanup actions from Emhart, the barrel reconditioning company, the current owners of the peninsula portion of the Site, and other potentially responsible parties. The Consent Decree, lodged in the U.S. District Court of Rhode Island, will be posted in the Federal Register and available for public comment for a period of 30 days. The Consent Decree can be viewed on the Justice Department website: www.justice.gov/enrd/Consent_Decrees.html.  EPA information on the Centredale Manor Superfund Site: www.epa.gov/superfund/centredale.</td>\n",
       "      <td>2018-07-09T00:00:00-04:00</td>\n",
       "      <td>Environment</td>\n",
       "      <td>Environment and Natural Resources Division</td>\n",
       "    </tr>\n",
       "  </tbody>\n",
       "</table>\n",
       "</div>"
      ],
      "text/plain": [
       "        id  \\\n",
       "0     None   \n",
       "1  12-919    \n",
       "2  11-1002   \n",
       "3   10-015   \n",
       "4   18-898   \n",
       "\n",
       "                                                                                                          title  \\\n",
       "0                                                                  Convicted Bomb Plotter Sentenced to 30 Years   \n",
       "1                              $1 Million in Restitution Payments Announced to Preserve North Carolina Wetlands   \n",
       "2                 $1 Million Settlement Reached for Natural Resource Damages at Superfund Site in Massachusetts   \n",
       "3                                          10 Las Vegas Men Indicted \\r\\nfor Falsifying Vehicle Emissions Tests   \n",
       "4  $100 Million Settlement Will Speed Cleanup Work at Centredale Manor Superfund Site in North Providence, R.I.   \n",
       "\n",
       "                                                                                                                                                                                                                                                                                                                                                                                                                                                                                                                                                                                                                                                                                                                                                                                                                                                                                                                                                                                                                                                                                                                                                                                                                                                                                                                                                                                                                                                                                                                                                                                                                                                                                                                                                                                                                                                                                                                                                                                                                                                                                                                                                                                                                                                                                                                                                                                                                                                                                                                                                                                                                                                                                                                                                                                                                                                                                                                                                                                                                                                                                                                                                                                                                                                                                                                                                                                                                                                                                                                                                                                                                                                                                                                                                                                                                                                                                                                                                                                                                                                                                                                                                                                                                                                                                                                                                                                                                                                                                                                                                                                                                                                                                                                                                                                                                                                                                                                                                                                                                                                                                                                                                                                                                                                                                                                                                                                                                                                                                                                                                                                                                                                                                                                                                                                                                                                                                                                                                                                                                                                                                                                                                                                                                                                                                                                                                                                                                                                                                                                                                                                                                                                                                                                                                                                                                                                                                                                                                                                                                                                                                                                                                                                                                                                                                                                                                                                                                                                                                                                                                                                                                                                                          contents  \\\n",
       "0  PORTLAND, Oregon. – Mohamed Osman Mohamud, 23, who was convicted in 2013 of attempting to use a weapon of mass destruction (explosives) in connection with a plot to detonate a vehicle bomb at an annual Christmas tree lighting ceremony in Portland, was sentenced today to serve 30 years in prison, followed by a lifetime term of supervised release. Mohamud, a naturalized U.S. citizen from Somalia and former resident of Corvallis, Oregon, was arrested on Nov. 26, 2010, after he attempted to detonate what he believed to be an explosives-laden van that was parked near the tree lighting ceremony in Portland.  The arrest was the culmination of a long-term undercover operation, during which Mohamud was monitored closely for months as his bomb plot developed.  The device was in fact inert, and the public was never in danger from the device. At sentencing, United States District Court Judge Garr M. King, who presided over Mohamed’s 14-day trial, said “the intended crime was horrific,” and that the defendant, even though he was presented with options by undercover FBI employees, “never once expressed a change of heart.”  King further noted that the Christmas tree ceremony was attended by up to 10,000 people, and that the defendant “wanted everyone to leave either dead or injured.”  King said his sentence was necessary in view of the seriousness of the crime and to serve as deterrence to others who might consider similar acts.     “With today’s sentencing, Mohamed Osman Mohamud is being held accountable for his attempted use of what he believed to be a massive bomb to attack innocent civilians attending a public Christmas tree lighting ceremony in Portland,” said John P. Carlin, Assistant Attorney General for National Security.  “The evidence clearly indicated that Mohamud was intent on killing as many people as possible with his attack.  Fortunately, law enforcement was able to identify him as a threat, insert themselves in the place of a terrorist that Mohamud was trying to contact, and thwart Mohamud’s efforts to conduct an attack on our soil.  This case highlights how the use of undercover operations against would-be terrorists allows us to engage and disrupt those who wish to commit horrific acts of violence against the innocent public.  The many agents, analysts, and prosecutors who have worked on this case deserve great credit for their roles in protecting Portland from the threat posed by this defendant and ensuring that he was brought to justice.” “This trial provided a rare glimpse into the techniques Al Qaeda employs to radicalize home-grown extremists,” said Amanda Marshall, U.S. Attorney for the District of Oregon.  “With the sentencing today, the court has held this defendant accountable.   I thank the dedicated professionals in the law enforcement and intelligence communities who were responsible for this successful outcome.  I look forward to our continued work with Muslim communities in Oregon who are committed to ensuring that all young people are safe from extremists who seek to radicalize others to engage in violence.”  According to the trial evidence, in February 2009, Mohamud began communicating via e-mail with Samir Khan, a now-deceased al Qaeda terrorist who published Jihad Recollections, an online magazine that advocated violent jihad, and who also published Inspire, the official magazine of al-Qaeda in the Arabian Peninsula.  Between February and August 2009, Mohamed exchanged approximately 150 emails with Khan.  Mohamud wrote several articles for Jihad Recollections that were published under assumed names. In August 2009, Mohamud was in email contact with Amro Al-Ali, a Saudi national who was in Yemen at the time and is today in custody in Saudi Arabia for terrorism offenses.  Al-Ali sent Mohamud detailed e-mails designed to facilitate Mohamud’s travel to Yemen to train for violent jihad.  In December 2009, while Al-Ali was in the northwest frontier province of Pakistan, Mohamud and Al-Ali discussed the possibility of Mohamud traveling to Pakistan to join Al-Ali in terrorist activities. Mohamud responded to Al-Ali in an e-mail: “yes, that would be wonderful, just tell me what I need to do.”  Al-Ali referred Mohamud to a second associate overseas and provided Mohamud with a name and email address to facilitate the process. In the following months, Mohamud made several unsuccessful attempts to contact Al-Ali’s associate.  Ultimately, an FBI undercover operative contacted Mohamud via email under the guise of being an associate of Al-Ali’s.  Mohamud and the FBI undercover operative agreed to meet in Portland in July 2010.  At the meeting, Mohamud told the FBI undercover operative he had written articles that were published in Jihad Recollections.  Mohamud also said that he wanted to become “operational.”  Asked what he meant by “operational,” Mohamud said he wanted to put an explosion together, but needed help. According to evidence presented at trial, at a meeting in August 2010, Mohamud told undercover FBI operatives he had been thinking of committing violent jihad since the age of 15.  Mohamud then told the undercover FBI operatives that he had identified a potential target for a bomb: the annual Christmas tree lighting ceremony in Portland’s Pioneer Courthouse Square on Nov. 26, 2010.  The undercover FBI operatives cautioned Mohamud several times about the seriousness of this plan, noting there would be many people at the event, including children, and emphasized that Mohamud could abandon his attack plans at any time with no shame.  Mohamud indicated the deaths would be justified and that he would not mind carrying out a suicide attack on the crowd. According to evidence presented at trial, in the ensuing months Mohamud continued to express his interest in carrying out the attack and worked on logistics.  On Nov. 4, 2010, Mohamud and the undercover FBI operatives traveled to a remote location in Lincoln County, Oregon, where they detonated a bomb concealed in a backpack as a trial run for the upcoming attack.  During the drive back to Corvallis, Mohamud was asked if was capable looking at all the bodies of those who would be killed during the explosion.  In response, Mohamud noted, “I want whoever is attending that event to be, to leave either dead or injured.”  Mohamud later recorded a video of himself, with the assistance of the undercover FBI operatives, in which he read a statement that offered his rationale for his bomb attack.  On Nov. 18, 2010, undercover FBI operatives picked up Mohamud to travel to Portland to finalize the details of the attack.  On Nov. 26, 2010, just hours before the planned attack, Mohamud examined the 1,800 pound bomb in the van and remarked that it was “beautiful.”  Later that day, Mohamud was arrested after he attempted to remotely detonate the inert vehicle bomb rked near the Christmas tree lighting ceremony This case was investigated by the FBI, with assistance from the Oregon State Police, the Corvallis Police Department, the Lincoln County Sheriff’s Office and the Portland Police Bureau.  The prosecution was handled by Assistant U.S. Attorneys Ethan D. Knight and Pamala Holsinger from the U.S. Attorney’s Office for the District of Oregon.  Trial Attorney Jolie F. Zimmerman, from the Counterterrorism Section of the Justice Department’s National Security Division, assisted. # # # 14-1077   \n",
       "1                                                                                                                                                                                                                                                                                                                                                                                                                                                                                                                                                                                                                                                                                                                                                                                                                                                                                                                                                                                                                                                                                                                                                                                                                                                                                                                                                                                                                                                                                                                                                                                                                                                                                                                                                                                                                                                                                                                                                                                                                                                                                                                                                                                                                                       WASHINGTON – North Carolina’s Waccamaw River watershed will benefit from a $1 million restitution order from a federal court, funding environmental projects to acquire and preserve wetlands in an area damaged by illegal releases of wastewater from a corporate hog farm, announced Ignacia S. Moreno, Assistant Attorney General of the Justice Department’s Environment and Natural Resources Division; U.S. Attorney for the Eastern District of North Carolina Thomas G. Walker; Director Greg McLeod from the North Carolina State Bureau of Investigation; and Camilla M. Herlevich, Executive Director of the North Carolina Coastal Land Trust.   Freedman Farms Inc. was sentenced in February 2012 to five years of probation and ordered to pay $1.5 million in fines, restitution and community service payments for violating the Clean Water Act when it discharged hog waste into a stream that leads to the Waccamaw River.  William B. Freedman, president of Freedman Farms, was sentenced to six months in prison to be followed by six months of home confinement.  Freedman Farms also is required to implement a comprehensive environmental compliance program and institute an annual training program.   In an order issued on April 19, 2012, the court ordered that the defendants would be responsible for restitution of $1 million in the form of five annual payments starting in January 2013, which the court will direct to the North Carolina Coastal Land Trust (NCCLT).  The NCCLT plans to use the money to acquire and conserve land along streams in the Waccamaw watershed.  The court also directed a $75,000 community service payment to the Southern Environmental Enforcement Network, an organization dedicated to environmental law enforcement training and information sharing in the region.    “The resolution of the case against Freedman Farms demonstrates the commitment of the Department of Justice to enforcing the Clean Water Act to ensure the protection of human health and the environment,” said Assistant Attorney General Moreno.  “The court-ordered restitution in this case will conserve wetlands for the benefit of the people of North Carolina.  By enforcing the nation’s environmental laws, we will continue to ensure that concentrated animal feeding operations (CAFOs) operate without threatening our drinking water, the health of our communities and the environment.”   “This office is committed to doing our part to hold accountable those who commit crimes against our environment, which can cause serious health problems to residents and damage the environment that makes North Carolina such a beautiful place to live and visit,” said U.S. Attorney Walker.   “This case shows what we can accomplish when our SBI agents work closely with their local, state and federal partners to investigate environmental crimes and hold the polluters accountable,” said Director McLeod.  “We’ll continue our efforts to fight illegal pollution that damages our water and puts the public’s health at risk.”    “The Waccamaw is unique and wild,” said Director Herlevich of the North Carolina Coastal Land Trust. “Its watershed includes some of the most extensive cypress gum swamps in the state, and its headwaters at Lake Waccamaw contain fish that are found nowhere else on Earth.  We appreciate the trust of the court and the U. S. Attorney, and we look forward to using these funds for conservation projects in a river system that is one of our top conservation priorities.”   According to evidence presented in court, in December 2007 Freedman Farms discharged hog waste into Browder’s Branch, a tributary to the Waccamaw River that flows through the White Marsh, a large wetlands complex.  Freedman Farms, located in Columbus County, N.C., is in the business of raising hogs for market, and this particular farm had some 4,800 hogs.  The hog waste was supposed to be directed to two lagoons for treatment and disposal.  Instead, hog waste was discharged from Freedman Farms directly into Browder’s Branch.    The Clean Water Act is a federal law that makes it illegal to knowingly or negligently discharge a pollutant into a water of the United States.    The Freedman case was investigated by the U.S. Environmental Protection Agency (EPA) Criminal Investigation Division, the U.S. Army Corps of Engineers and the North Carolina State Bureau of Investigation, with assistance from the EPA Science and Ecosystem Support Division.  The case was prosecuted by Assistant U.S. Attorney J. Gaston B. Williams of the Eastern District of North Carolina and Trial Attorney Mary Dee Carraway of the Environmental Crimes Section of the Justice Department’s Environment and Natural Resources Division.   The North Carolina Coastal Land Trust is celebrating its 20th anniversary of saving special lands in eastern North Carolina. The organization has protected nearly 50,000 acres of lands with scenic, recreational, historic and ecological values. North Carolina Coastal Land Trust has saved streams and wetlands that provide clean water, forests that are havens for wildlife, working farms that provide local food and nature parks that everyone can enjoy.  More information about the Coastal Land Trust is available at www.coastallandtrust.org.   \n",
       "2                                                                                                                                                                                                                                                                                                                                                                                                                                                                                                                                                                                                                                                                                                                                                                                                                                                                                                                                                                                                                                                                                                                                                                                                                                                                                                                                                                                                                                                                                                                                                                                                                                                                                                                                                                                                                                                        BOSTON– A $1-million settlement has been reached for natural resource damages (NRD) at the Blackburn & Union Privileges Superfund Site in Walpole, Mass., the Departments of Justice and Interior (DOI), and the Office of the Massachusetts Attorney General announced today.                The Blackburn & Union Privileges Superfund Site includes 22 acres of contaminated land and water in Walpole. The contamination resulted from the operations of various industrial facilities dating back to the 19th century that exposed the site to asbestos, arsenic, lead and other hazardous substances.                The private parties involved in the settlement include two former owners and operators of the site, W.R. Grace & Co.– Conn. and Tyco Healthcare Group LP, as well as the current owners, BIM Investment Corp. and Shaffer Realty Nominee Trust.               From about 1915 to 1936, a predecessor of W.R. Grace manufactured asbestos brake linings and clutch linings on a large portion of the property. From 1946 to about 1983, a predecessor of Tyco Healthcare operated a cotton fabric manufacturing business, which used caustic solutions, on a portion of the property.               In a 2010 settlement with U.S. Environmental Protection Agency (EPA), the four private parties agreed to perform a remedial action to clean up the site at an estimated cost of $13 million. The consent decree lodged today resolves both state and federal NRD liability claims; it requires the parties to pay $1,094,169.56 to the state and federal natural resource trustees, the Massachusetts Executive Office of Energy and Environmental Affairs (EEA) and DOI, for injuries to ecological resources including groundwater and wetlands, which provide habitat for waterfowl and wading birds, including black ducks and great blue herons.  The trustees will use the settlement funds for natural resource restoration projects in the area.               “This settlement demonstrates our commitment to recovering damages from the parties responsible for injury to natural resources, in partnership with state trustees,” said Bruce Gelber, Acting Deputy Assistant Attorney General of the Justice Department’s Environment and Natural Resources Division.               “The citizens of Walpole have had to live with the environmental impact of this contamination for many years,” Attorney General Martha Coakley said. “We are pleased that today’s agreement will not only require the responsible parties to reimburse taxpayer dollars, but will also provide funding to begin restoring or replacing the wetland and other natural resources.”                 The consent decree was lodged in the U.S. District Court for Massachusetts.     A portion of the funds, $300,000, will be distributed to the EEA-sponsored groundwater restoration projects; $575,000 will be used for ecological restoration projects jointly sponsored by EEA and the U.S. Fish and Wildlife Service (FWS).               In addition, $125,000 will go for projects jointly sponsored by EEA and FWS that achieve both ecological and groundwater restoration; $57,491.34 will be allocated for reimbursement for the FWS’s assessment costs; and $36,678.22 will be distributed as reimbursement for the commonwealth’s assessment costs.       “This settlement provides the means for a range of projects designed to compensate the public for decades of groundwater and other ecological damage at this site.  I encourage local citizens and organizations to become engaged in the public process that will take place as we solicit, take comment on, and choose these projects in the months ahead,” said Energy and Environmental Affairs Secretary Richard K. Sullivan Jr., who serves as the Commonwealth’s Natural Resources Damages trustee.       “This settlement will help restore habitat for fish and wildlife in the Neponset River watershed,” said Tom Chapman of the FWS New England Field Office. “We look forward to working with the commonwealth and local stakeholders to implement restoration.”               “More than 100 years-worth of industrial activities at this site caused major environmental contamination to the Neponset River, nearby wetlands and to groundwater below the site,” said Commissioner Kenneth Kimmell of the Massachusetts Department of Environmental Protection (MassDEP), which will staff the Trustee Council for the Commonwealth. “We will ensure that the community and the public will be active participants in the process to use these NRD funds to restore the injured natural resources.”                Under the federal Comprehensive Environmental Response, Compensation and Liability Act, EEA and DOI, acting through the FWS, are the designated state and federal natural resource Trustees for the site. The site has been listed on the EPA’s National Priorities List since 1994.        The consent decree is subject to a public comment period and court approval. A copy of the consent decree and instructions about how to submit comments is available on www.usdoj.gov/enrd/Consent_Decrees.html  .               After the consent decree is approved, EEA and FWS will develop proposed restoration plans to use the settlement funds for restoration projects. The proposed restoration plans will also be made available to the public for review and comment.                Assistant Attorney General Matthew Brock of Massachusetts Attorney General Coakley's Environmental Protection Division handled this matter.  Attorney Jennifer Davis of MassDEP, Attorney Anna Blumkin of EEA and MassDEP’s NRD Coordinator Karen Pelto also worked on this settlement.   \n",
       "3                                                                                                                                                                                                                                                                                                                                                                                                                                                                                                                                                                                                                                                                                                                                                                                                                                                                                                                                                                                                                                                                                                                                                                                                                                                                                                                                                                                                                                                                                                                                                                                                                                                                                                                                                                                                                                                                                                                                                                                                                                                                                                                                                                                                                                                                                                                                                                                                                                                                                                                                                                                                                                                                                                                                                                                                                                                                                                                                                                                                                                                                                                                                                                                                                                                                                                                                                                                                                                                                                                                           WASHINGTON—A federal grand jury in Las Vegas today returned indictments against 10 Nevada-certified emissions testers for falsifying vehicle emissions test reports, the Justice Department announced.   Each defendant faces one felony Clean Air Act count for falsifying reports between November 2007 and May 2009. The number of falsifications varied by defendant, with some defendants having falsified approximately 250 records, while others falsified more than double that figure. One defendant is alleged to have falsified over 700 reports.   The individuals indicted include:     Escudero resides in Pahrump, Nev. All other individuals are from Clark County, Nev.    The 10 defendants are alleged to have engaged in a practice known as \"clean scanning\" vehicles. The scheme involved entering the Vehicle Identification Number (VIN) for a vehicle that would not pass the emissions test into the computerized system, then connecting a different vehicle the testers knew would pass the test. These falsifications were allegedly performed for anywhere from $10 to $100 over and above the usual emissions testing fee.    The U.S. Environmental Protection Agency (EPA), under the Clean Air Act, requires the state of Nevada to conduct vehicle emissions testing in certain areas because the areas exceed national standards for carbon monoxide and ozone. Las Vegas is currently required to perform emissions testing.    To obtain a registration renewal, vehicle owners bring the vehicles to a licensed inspection station for testing. The emissions inspector logs into a computer to activate the system by using a unique password issued to the emissions inspector. The emissions inspector manually inputs the vehicle’s VIN to identify the tested vehicle, then connects the vehicle for model year 1996 and later to an onboard diagnostics port connected to an analyzer. The analyzer downloads data from the vehicle’s computer, analyzes the data and provides a \"pass\" or \"fail\" result. The pass or fail result and vehicle identification data are reported on the Vehicle Inspection Report. It is a crime to knowingly alter or conceal any record or other document required to be maintained by the Clean Air Act.     \"Falsifications of vehicle emissions testing, such as those alleged in the indictments unsealed today, are serious matters and we intend to use all of our enforcement tools to stop this harmful practice. These actions undermine a system that is designed to reduce air pollutants including smog and provide better air quality for the citizens of Nevada,\" said Ignacia S. Moreno, Assistant Attorney General for the Justice Department’s Environment and Natural Resources Division.    \"The residents of Nevada deserve to know that the vast majority of licensed vehicle emission inspectors are not corrupt and are not circumventing emission testing procedures,\" said U.S. Attorney Bogden. \"These indictments should serve as a clear warning to offenders that the Department of Justice will prosecute you if you make fraudulent statements and reports concerning compliance with the federal Clean Air Act.\"    \"Lying about car emissions means dirtier air, which is especially of concern in areas like Las Vegas that are already experiencing air quality problems,\" said Cynthia Giles, Assistant Administrator for Enforcement and Compliance Assurance at EPA. \"We will take aggressive action to ensure communities have clean air.\"    The maximum penalty for the felony violations contained in the indictments includes up to two years in prison and a fine of up to $250,000.    An indictment is merely an accusation, and a defendant is presumed innocent unless and until proven guilty in a court of law.    The case was investigated by the EPA, Criminal Investigation Division; and the Nevada Department of Motor Vehicles Compliance Enforcement Division. The case is being prosecuted by the U.S. Attorney’s Office for the District of Nevada and the Justice Department’s Environmental Crimes Section.   \n",
       "4                                                                                                                                                                                                                                                                                                                                                                                                                                                                                                                                                                                                                                                                                                                                                                                                                                                                                                                                                                                                                                                                                                                                   The U.S. Department of Justice, the U.S. Environmental Protection Agency (EPA), and the Rhode Island Department of Environmental Management (RIDEM) announced today that two subsidiaries of Stanley Black & Decker Inc.—Emhart Industries Inc. and Black & Decker Inc.—have agreed to clean up dioxin contaminated sediment and soil at the Centredale Manor Restoration Project Superfund Site in North Providence and Johnston, Rhode Island.  “We are pleased to reach a resolution through collaborative work with the responsible parties, EPA, and other stakeholders,” said Acting Assistant Attorney General Jeffrey H. Wood for the Justice Department's Environment and Natural Resources Division . “Today’s settlement ends protracted litigation and allows for important work to get underway to restore a healthy environment for citizens living in and around the Centredale Manor Site and the Woonasquatucket River.” “This settlement demonstrates the tremendous progress we are achieving working with responsible parties, states, and our federal partners to expedite sites through the entire Superfund remediation process,” said EPA Acting Administrator Andrew Wheeler. “The Centredale Manor Site has been on the National Priorities List for 18 years; we are taking charge and ensuring the Agency makes good on its promise to clean it up for the betterment of the environment and those communities affected.” “Successfully concluding this settlement paves the way for EPA to make good on our commitment to aggressively pursue cleaning up the Centredale Manor Superfund Site,” said EPA New England Regional Administrator Alexandra Dunn. “We are excited to get to work on the cleanup at this site, and get it closer to the goal of being fully utilized by the North Providence and Johnston communities.” “We are pleased that the collective efforts of the State of Rhode Island, EPA, and DOJ in these negotiations have concluded in this major milestone toward the cleanup of the Centredale Manor Restoration Superfund site and are consistent with our long-standing efforts to make the polluter pay,” said RIDEM Director Janet Coit. “The settlement will speed up a remedy that protects public health and the river environment, and moves us closer to the day that we can reclaim recreational uses of this beautiful river resource.” The settlement, which includes cleanup work in the Woonasquatucket River (River) and bordering residential and commercial properties along the River, requires the companies to perform the remedy selected by EPA for the Site in 2012, which is estimated to cost approximately $100 million, and resolves longstanding litigation. The cleanup remedy includes excavation of contaminated sediment and floodplain soil from the Woonasquatucket River, including from adjacent residential properties. Once the cleanup remedy is completed, full access to the Woonasquatucket River should be restored for local citizens. The cleanup will be a step toward the State’s goal of a fishable and swimmable river. The work will also include upgrading caps over contaminated soil in the peninsula area of the Site that currently house two high-rise apartment buildings. The settlement also ensures that the long-term monitoring and maintenance of the site, as directed in the remedy, will be implemented to ensure that public health is protected.  Under the settlement, Emhart and Black & Decker will reimburse EPA for approximately $42 million in past costs incurred at the Site. The companies will also reimburse EPA and the State of Rhode Island for future costs incurred by those agencies in overseeing the work required by the settlement. The settlement will also include payments on behalf of two federal agencies to resolve claims against those agencies. These payments, along with prior settlements related to the Site, will result in a 100 percent recovery for the United States of its past and future response costs related to the Site. Litigation related to the Site has been ongoing for nearly eight years. While the Federal District Court found Black & Decker and Emhart to be liable for their hazardous waste and responsible to conduct the cleanup of the Site, it had also ruled that EPA needed to reconsider certain aspects of that cleanup. EPA appealed the decision requiring it to reconsider aspects of the cleanup. This settlement, once entered by the District Court, will resolve the litigation between the United States, Rhode Island, and Emhart and Black and Decker, allowing the cleanup of the Site to begin. The Site spans a one and a half mile stretch of the Woonasquatucket River and encompasses a nine-acre peninsula, two ponds and a significant forested wetland. From the 1940s to the early 1970s, Emhart’s predecessor operated a chemical manufacturing facility on the peninsula and used a raw material that was contaminated with 2,3,7,8-tetrachlorodibenzo-p-dioxin, a toxic form of dioxin. The Site property was also previously used by a barrel refurbisher. Elevated levels of dioxins and other contaminants have been detected in soil, groundwater, sediment, surface water and fish.  The Site was added to the National Priorities List (NPL) in 2000, and in December 2017, EPA included the Centredale Manor Restoration Project Superfund Site on a list of Superfund sites targeted for immediate and intense attention. Several short-term actions were previously performed at the Site to address immediate threats to the residents and minimize potential erosion and downstream transport of contaminated soil and sediment. This settlement is the latest agreement EPA has reached since the Site was listed on the NPL. Prior agreements addressed the performance and recovery of costs for the past environmental investigations and interim cleanup actions from Emhart, the barrel reconditioning company, the current owners of the peninsula portion of the Site, and other potentially responsible parties. The Consent Decree, lodged in the U.S. District Court of Rhode Island, will be posted in the Federal Register and available for public comment for a period of 30 days. The Consent Decree can be viewed on the Justice Department website: www.justice.gov/enrd/Consent_Decrees.html.  EPA information on the Centredale Manor Superfund Site: www.epa.gov/superfund/centredale.   \n",
       "\n",
       "                        date topics_clean  \\\n",
       "0  2014-10-01T00:00:00-04:00     No topic   \n",
       "1  2012-07-25T00:00:00-04:00     No topic   \n",
       "2  2011-08-03T00:00:00-04:00     No topic   \n",
       "3  2010-01-08T00:00:00-05:00     No topic   \n",
       "4  2018-07-09T00:00:00-04:00  Environment   \n",
       "\n",
       "                             components_clean  \n",
       "0            National Security Division (NSD)  \n",
       "1  Environment and Natural Resources Division  \n",
       "2  Environment and Natural Resources Division  \n",
       "3  Environment and Natural Resources Division  \n",
       "4  Environment and Natural Resources Division  "
      ]
     },
     "execution_count": 32,
     "metadata": {},
     "output_type": "execute_result"
    }
   ],
   "source": [
    "# Reading in JSON file:\n",
    "extract = extract_dir + \"\\\\combined.json\"\n",
    "doj = pd.read_json(extract, lines = True)\n",
    "\n",
    "# ## Due to json, topics are in a list so remove them and concatenate with ;\n",
    "doj['topics_clean'] = [\"; \".join(topic) if len(topic) > 0 else \"No topic\" for topic in doj.topics]\n",
    "\n",
    "# ## similarly with components\n",
    "doj['components_clean'] = [\"; \".join(comp) if len(comp) > 0 else \"No component\" for comp in doj.components]\n",
    "\n",
    "# ## drop older columns from data\n",
    "doj = doj[['id', 'title', 'contents', 'date', 'topics_clean', 'components_clean']].copy()\n",
    "\n",
    "doj.head()"
   ]
  },
  {
   "cell_type": "markdown",
   "metadata": {},
   "source": [
    "## Tagging and sentiment scoring\n",
    "\n",
    "Focusing on the following press release: `id` == \"17-1204\" about this pharmaceutical kickback prosecution: https://www.forbes.com/sites/michelatindera/2017/11/16/fentanyl-billionaire-john-kapoor-to-plead-not-guilty-in-opioid-kickback-case/?sh=21b8574d6c6c \n",
    "\n",
    "The `contents` column is the one we're treating as a document. \n",
    "\n",
    "We'll call the raw string of this press release `pharma`"
   ]
  },
  {
   "cell_type": "code",
   "execution_count": 33,
   "metadata": {},
   "outputs": [],
   "source": [
    "pharma = str(doj[\"contents\"][doj.id == \"17-1204\"])"
   ]
  },
  {
   "cell_type": "markdown",
   "metadata": {},
   "source": [
    "\n",
    "A. Preprocessing the `pharma` press release to remove all punctuation / digits (so can use `.isalpha()` to subset)\n",
    "\n",
    "B. With the preprocessed press release from part A, using the part of speech tagger within nltk to tag all the words in that one press release with their part of speech. \n",
    "\n",
    "C. Using the output from B, extracting the adjectives and sort those adjectives from most occurrences to fewest occurrences. Print a dataframe with the 5 most frequent adjectives and their counts in the `pharma` release. See here for a list of the names of adjectives within nltk: https://pythonprogramming.net/natural-language-toolkit-nltk-part-speech-tagging/"
   ]
  },
  {
   "cell_type": "code",
   "execution_count": 34,
   "metadata": {},
   "outputs": [
    {
     "name": "stdout",
     "output_type": "stream",
     "text": [
      "['4909', 'The', 'founder', 'and', 'majority', 'owner', 'of', 'Insys', 'Therapeutics', 'Inc.']\n",
      "['The', 'founder', 'and', 'majority', 'owner', 'of', 'Insys', 'Therapeutics', 'was', 'arrested']\n"
     ]
    }
   ],
   "source": [
    "# Tokenizing data: \n",
    "pharma_tokens = word_tokenize(pharma)\n",
    "print(pharma_tokens[:10])\n",
    "pharma_alpha = [word for word in pharma_tokens if word.isalpha()]\n",
    "print(pharma_alpha[:10])"
   ]
  },
  {
   "cell_type": "markdown",
   "metadata": {},
   "source": [
    "<Font Color = 'Blue'>\n",
    "\n",
    "'4909' and \"Inc.\" are both removed. Is that what we want?\n",
    "\n",
    "</FONT>"
   ]
  },
  {
   "cell_type": "code",
   "execution_count": 35,
   "metadata": {},
   "outputs": [
    {
     "name": "stdout",
     "output_type": "stream",
     "text": [
      "First 10 elements of adjectives in pharma:\n",
      "[('The', 'DT'), ('founder', 'NN'), ('and', 'CC'), ('majority', 'NN'), ('owner', 'NN'), ('of', 'IN'), ('Insys', 'NNP'), ('Therapeutics', 'NNP'), ('was', 'VBD'), ('arrested', 'VBN')]\n",
      "\n",
      " \n",
      " Five most common adjectives in pharma & their counts:\n"
     ]
    },
    {
     "data": {
      "text/plain": [
       "[('former', 8),\n",
       " ('opioid', 5),\n",
       " ('nationwide', 4),\n",
       " ('other', 3),\n",
       " ('addictive', 3)]"
      ]
     },
     "execution_count": 35,
     "metadata": {},
     "output_type": "execute_result"
    }
   ],
   "source": [
    "# Speech tagging\n",
    "pharma_tagged = pos_tag(pharma_alpha)\n",
    "print(\"First 10 elements of adjectives in pharma:\")\n",
    "print(pharma_tagged[0:10])\n",
    "\n",
    "# Extracting adjectives:\n",
    "    # JJ adjective 'big'\n",
    "    # JJR adjective, comparative 'bigger'\n",
    "    # JJS adjective, superlative 'biggest'\n",
    "pharma_adj = [tup[0] for tup in pharma_tagged if tup[1] in [\"JJ\", \"JJR\", \"JJS\"]]\n",
    "\n",
    "## Counting occurances:\n",
    "# Initializing empty dict:\n",
    "# freq = {}\n",
    "# # Doing for loop to fill dictionary:\n",
    "# for adj in pharma_adj:\n",
    "#     if adj in freq.keys():\n",
    "#         freq[adj] += 1\n",
    "#     else:\n",
    "#         freq[adj] = 1\n",
    "\n",
    "# Using already created module:\n",
    "from collections import Counter\n",
    "freq_2 = Counter(pharma_adj)\n",
    "\n",
    "# Getting 5 most common adjectives:\n",
    "print(\"\\n \\n Five most common adjectives in pharma & their counts:\")\n",
    "freq_2.most_common(5)"
   ]
  },
  {
   "cell_type": "markdown",
   "metadata": {},
   "source": [
    "## Named entity recognition"
   ]
  },
  {
   "cell_type": "markdown",
   "metadata": {},
   "source": [
    "A. Using the original `pharma` press release (so the one before stripping punctuation/digits), using spaCy to extract all named entities from the press release.\n",
    "\n",
    "B. Printing the unique named entities with the tag: `LAW`. Here's some background on what RICO means: https://www.justia.com/criminal/docs/rico/ "
   ]
  },
  {
   "cell_type": "code",
   "execution_count": 36,
   "metadata": {},
   "outputs": [
    {
     "data": {
      "text/plain": [
       "{'RICO', 'the Controlled Substances Act'}"
      ]
     },
     "execution_count": 36,
     "metadata": {},
     "output_type": "execute_result"
    }
   ],
   "source": [
    "# Converting to sp:\n",
    "sp_pharma = sp(pharma)\n",
    "\n",
    "# Extracting names entities:\n",
    "sp_pharma_ent = sp_pharma.ents\n",
    "\n",
    "# Extracting law-tagged entities:\n",
    "pharma_ent_law = [one_ents.text for one_ents in sp_pharma_ent if one_ents.label_ == \"LAW\"] \n",
    "\n",
    "# Printing unique entries:\n",
    "set(pharma_ent_law)"
   ]
  },
  {
   "cell_type": "markdown",
   "metadata": {},
   "source": [
    "Extracting the possible sentence lengths the CEO is facing; pull out the named entities with (1) the label `DATE` and (2) that contain the word year or years. Print these named entities."
   ]
  },
  {
   "cell_type": "code",
   "execution_count": 37,
   "metadata": {},
   "outputs": [
    {
     "data": {
      "text/plain": [
       "['last year', 'three years', 'three years']"
      ]
     },
     "execution_count": 37,
     "metadata": {},
     "output_type": "execute_result"
    }
   ],
   "source": [
    "# Pulling named entities with label == DATE\n",
    "pharma_ent_sent = [one_ents.text for one_ents in sp_pharma_ent if one_ents.label_ == \"DATE\"]\n",
    "\n",
    "# Pulling named entities that contain the word year/years\n",
    "pharma_ent_sent = [one_ents for one_ents in pharma_ent_sent if re.search(r\"(year|years)\", one_ents) != None]\n",
    "\n",
    "# Printing:\n",
    "pharma_ent_sent"
   ]
  },
  {
   "cell_type": "markdown",
   "metadata": {},
   "source": [
    "D. Parsing the pharma string at the sentence level. Note that this involves more than just splitting on each `.`\n",
    "\n",
    "Then, using those sentences, pulling and printing the original sentences from the press releases where those year lengths are mentioned."
   ]
  },
  {
   "cell_type": "code",
   "execution_count": 38,
   "metadata": {},
   "outputs": [
    {
     "data": {
      "text/plain": [
       "['More than 20,000 Americans died of synthetic opioid overdoses last year, and millions are addicted to opioids',\n",
       " 'The charges of conspiracy to commit RICO and conspiracy to commit mail and wire fraud each provide for a sentence of no greater than 20 years in prison, three years of supervised release and a fine of $250,000, or twice the amount of pecuniary gain or loss',\n",
       " 'The charges of conspiracy to violate the Anti-Kickback Law provide for a sentence of no greater than five years in prison, three years of supervised release and a $25,000 fine']"
      ]
     },
     "execution_count": 38,
     "metadata": {},
     "output_type": "execute_result"
    }
   ],
   "source": [
    "# Converting to string: \n",
    "sp_pharma = str(sp_pharma)\n",
    "\n",
    "## Parsing sentences based on periods (.) , quotation marks (\") & this weird thing (\\xa0)\n",
    "# Not on commas because then it also removes 20,000 and things like xyz, smt, lmn \n",
    "pharma_sents = re.findall(r'(.*?)(\\.|\\\"|\\xa0\\s)', sp_pharma)\n",
    "\n",
    "# Selecting appropriate length & with year in it \n",
    "year_sents = [sents[0] for sents in pharma_sents if (len(sents[0]) > 1) & (re.search(r\"(year|years)\", sents[0]) != None)]\n",
    "\n",
    "# Printing the results\n",
    "year_sents"
   ]
  },
  {
   "cell_type": "markdown",
   "metadata": {},
   "source": [
    "## Sentiment analysis  \n",
    "\n",
    "Subseting the press releases to those labeled with one of three topics via `topics_clean`: Civil Rights, Hate Crimes, and Project Safe Childhood. \n"
   ]
  },
  {
   "cell_type": "code",
   "execution_count": 39,
   "metadata": {},
   "outputs": [
    {
     "name": "stdout",
     "output_type": "stream",
     "text": [
      "Shape of resulting dataset: (717, 6)\n"
     ]
    }
   ],
   "source": [
    "doj_subset = doj[doj[\"topics_clean\"].isin([\"Civil Rights\", \"Hate Crimes\", \"Project Safe Childhood\"])]\n",
    "print(\"Shape of resulting dataset: \" + str(doj_subset.shape))"
   ]
  },
  {
   "cell_type": "markdown",
   "metadata": {},
   "source": [
    "\n",
    "B. Writing a function that takes one press release string as an input and:\n",
    "\n",
    "- Removes named entities from each press release string \n",
    "- Scores the sentiment of the entire press release using the `SentimentIntensityAnalyzer` and `polarity_scores`\n",
    "- Returns the length-four (negative, positive, neutral, compound) sentiment dictionary (any order is fine)\n",
    "\n",
    "Appling that function to each of the press releases in `doj_subset`. "
   ]
  },
  {
   "cell_type": "code",
   "execution_count": 40,
   "metadata": {},
   "outputs": [
    {
     "name": "stdout",
     "output_type": "stream",
     "text": [
      "Starting ftn: 2022-11-05 12:01:29.829491\n",
      "Ending ftn: 2022-11-05 12:02:24.342720\n"
     ]
    }
   ],
   "source": [
    "## Defining Function\n",
    "\n",
    "def one_3b(raw):\n",
    "    \n",
    "    # Getting named eintities:\n",
    "    raw_nlp = nlp(raw)\n",
    "    \n",
    "    # Initializing empty list for named eintities:\n",
    "    list_ne = []\n",
    "    \n",
    "    # Adding all names entities into list:\n",
    "    for one_ents in raw_nlp.ents:\n",
    "        list_ne.append(one_ents.text)\n",
    "        \n",
    "    # Making a regex pattern of these named entities we will substitute with \"\":\n",
    "    # The comma is optional replacement because otherwise \"Evans, 43,\" would be \" , , \" instead of \"\"\n",
    "    raw2 = re.sub((\"(,)?|\").join([re.escape(strng) for strng in list_ne]), \"\", raw)\n",
    "        \n",
    "    # Initializing a scorer\n",
    "    sent_obj = SentimentIntensityAnalyzer()\n",
    "    \n",
    "    # Scoring sentiment:\n",
    "    sentiment_example = sent_obj.polarity_scores(raw2)\n",
    "    \n",
    "    # Adding contents:\n",
    "    sentiment_example[\"contents\"] = raw\n",
    "    \n",
    "    return(sentiment_example)\n",
    "\n",
    "# Applying Function:\n",
    "print(\"Starting ftn: \" + str(pd.Timestamp.now()))\n",
    "rez = [one_3b(raw) for raw in doj_subset[\"contents\"]]\n",
    "print(\"Ending ftn: \" + str(pd.Timestamp.now()))"
   ]
  },
  {
   "cell_type": "markdown",
   "metadata": {},
   "source": [
    "Adding the four sentiment scores to the `doj_subset` dataframe to create a dataframe: `doj_subset_wscore`. Sort from highest neg to lowest neg score (so most negative to least negative) and print the `id`, `contents`, and `neg` columns of the two most negative press releases. "
   ]
  },
  {
   "cell_type": "code",
   "execution_count": 41,
   "metadata": {
    "scrolled": true
   },
   "outputs": [
    {
     "data": {
      "text/html": [
       "<div>\n",
       "<style scoped>\n",
       "    .dataframe tbody tr th:only-of-type {\n",
       "        vertical-align: middle;\n",
       "    }\n",
       "\n",
       "    .dataframe tbody tr th {\n",
       "        vertical-align: top;\n",
       "    }\n",
       "\n",
       "    .dataframe thead th {\n",
       "        text-align: right;\n",
       "    }\n",
       "</style>\n",
       "<table border=\"1\" class=\"dataframe\">\n",
       "  <thead>\n",
       "    <tr style=\"text-align: right;\">\n",
       "      <th></th>\n",
       "      <th>id</th>\n",
       "      <th>title</th>\n",
       "      <th>contents</th>\n",
       "      <th>date</th>\n",
       "      <th>topics_clean</th>\n",
       "      <th>components_clean</th>\n",
       "      <th>neg</th>\n",
       "      <th>neu</th>\n",
       "      <th>pos</th>\n",
       "      <th>compound</th>\n",
       "    </tr>\n",
       "  </thead>\n",
       "  <tbody>\n",
       "    <tr>\n",
       "      <th>13</th>\n",
       "      <td>14-248</td>\n",
       "      <td>Albuquerque Man Charged with Federal Hate Crime Related to Anti-Semitic Threats Against Businesswoman</td>\n",
       "      <td>The Department of Justice announced that this morning John W. Ng, 58, of Albuquerque, N.M., made his initial appearance in federal court on a criminal complaint charging him with a hate crime offense.  This charge is related to anti-Semitic threats Ng made against a Jewish woman who owns and operates the Nosh Jewish Delicatessen and Bakery in Albuquerque. Ng was arrested by the FBI on March 7, 2014, based on a criminal complaint alleging that he interfered with the victim’s federally protected rights by threatening her and interfering with her business because of her religion.  According to the criminal complaint, between Jan. 22, 2014, and Feb. 8, 2014, Ng allegedly posted threatening anti-Semitic notes on and in the vicinity of the victim’s business. A criminal complaint merely establishes probable cause, and Ng is presumed innocent unless proven guilty.  If convicted on the offense charged in the criminal complaint, Ng faces a maximum statutory penalty of one year in prison. This matter was investigated by the Albuquerque Division of the FBI and is being prosecuted by Assistant U.S. Attorney Mark T. Baker of the U.S. Attorney’s Office for the District of New Mexico and Trial Attorney AeJean Cha of the U.S. Department of Justice’s Civil Rights Division.</td>\n",
       "      <td>2014-03-10T00:00:00-04:00</td>\n",
       "      <td>Hate Crimes</td>\n",
       "      <td>Civil Rights Division; Civil Rights - Criminal Section</td>\n",
       "      <td>0.327</td>\n",
       "      <td>0.634</td>\n",
       "      <td>0.039</td>\n",
       "      <td>-0.9950</td>\n",
       "    </tr>\n",
       "    <tr>\n",
       "      <th>34</th>\n",
       "      <td>13-312</td>\n",
       "      <td>Aryan Brother Inmate Sentenced for Federal Hate Crime for Assaulting Fellow Inmate</td>\n",
       "      <td>John Hall, 27, an Aryan Brotherhood member and inmate at the Federal Correctional Institution (FCI) in Seagoville, Texas, was sentenced today by U.S. District Judge Reed O’Connor after pleading guilty to violating the Matthew Shepard and James Byrd Jr. Hate Crimes Prevention Act stemming from his assault of a fellow inmate, whom he believed to be gay, the Department of Justice announced. Hall assaulted his fellow inmate with a dangerous weapon, causing bodily injury to the victim on Dec. 20, 2011. Hall was sentenced to serve 71 months in prison to be served consecutively with the sentence he is currently serving. The assault occurred on Dec. 20, 2011, inside the FCI Seagoville when Hall targeted and attacked the victim, a fellow inmate, because he believed the victim was gay or involved in a sexual relationship with another male inmate. Hall repeatedly punched, kicked and stomped on the victim’s face with his shod feet, a dangerous weapon, while yelling a homophobic slur. The victim lost consciousness during the assault and suffered multiple lacerations to his face. The victim also sustained a fractured eye socket, lost a tooth, fractured other teeth and was treated at a hospital for the injuries he sustained during Hall’s unprovoked attack. Hall pleaded guilty to violating the Matthew Shepard and James Byrd Jr. Hate Crimes Prevention Act on Nov. 8, 2012. “Brutality and violence based on sexual orientation has no place in a civilized society,” said Thomas E. Perez, Assistant Attorney General for the Civil Rights Division. “The Justice Department is committed to using all the tools in our law enforcement arsenal, including the Matthew Shepard and James Byrd Jr. Hate Crimes Prevention Act, to prosecute acts motivated by hate.” “This prosecution sends a clear message that this office, in partnership with attorneys in the department’s Civil Rights Division, will prioritize and aggressively prosecute hate crimes and others civil rights violations in North Texas,” said U.S. Attorney Sarah R. Saldaña of the Northern District of Texas. This case was investigated by the FBI Dallas Division. The case was prosecuted by Assistant U.S. Attorney Errin Martin and Trial Attorney Adriana Vieco of the Civil Rights Division.</td>\n",
       "      <td>2013-03-14T00:00:00-04:00</td>\n",
       "      <td>Hate Crimes</td>\n",
       "      <td>Civil Rights Division; Civil Rights - Criminal Section</td>\n",
       "      <td>0.311</td>\n",
       "      <td>0.663</td>\n",
       "      <td>0.026</td>\n",
       "      <td>-0.9983</td>\n",
       "    </tr>\n",
       "  </tbody>\n",
       "</table>\n",
       "</div>"
      ],
      "text/plain": [
       "        id  \\\n",
       "13  14-248   \n",
       "34  13-312   \n",
       "\n",
       "                                                                                                    title  \\\n",
       "13  Albuquerque Man Charged with Federal Hate Crime Related to Anti-Semitic Threats Against Businesswoman   \n",
       "34                     Aryan Brother Inmate Sentenced for Federal Hate Crime for Assaulting Fellow Inmate   \n",
       "\n",
       "                                                                                                                                                                                                                                                                                                                                                                                                                                                                                                                                                                                                                                                                                                                                                                                                                                                                                                                                                                                                                                                                                                                                                                                                                                                                                                                                                                                                                                                                                                                                                                                                                                                                                                                                                                                                                                                                                                                                                                                                                                                                                                                                                                                                                                                                                                                                 contents  \\\n",
       "13                                                                                                                                                                                                                                                                                                                                                                                                                                                                                                                                                                                                                                                                                                                                                                                                                                                                                                                                                                                                            The Department of Justice announced that this morning John W. Ng, 58, of Albuquerque, N.M., made his initial appearance in federal court on a criminal complaint charging him with a hate crime offense.  This charge is related to anti-Semitic threats Ng made against a Jewish woman who owns and operates the Nosh Jewish Delicatessen and Bakery in Albuquerque. Ng was arrested by the FBI on March 7, 2014, based on a criminal complaint alleging that he interfered with the victim’s federally protected rights by threatening her and interfering with her business because of her religion.  According to the criminal complaint, between Jan. 22, 2014, and Feb. 8, 2014, Ng allegedly posted threatening anti-Semitic notes on and in the vicinity of the victim’s business. A criminal complaint merely establishes probable cause, and Ng is presumed innocent unless proven guilty.  If convicted on the offense charged in the criminal complaint, Ng faces a maximum statutory penalty of one year in prison. This matter was investigated by the Albuquerque Division of the FBI and is being prosecuted by Assistant U.S. Attorney Mark T. Baker of the U.S. Attorney’s Office for the District of New Mexico and Trial Attorney AeJean Cha of the U.S. Department of Justice’s Civil Rights Division.   \n",
       "34  John Hall, 27, an Aryan Brotherhood member and inmate at the Federal Correctional Institution (FCI) in Seagoville, Texas, was sentenced today by U.S. District Judge Reed O’Connor after pleading guilty to violating the Matthew Shepard and James Byrd Jr. Hate Crimes Prevention Act stemming from his assault of a fellow inmate, whom he believed to be gay, the Department of Justice announced. Hall assaulted his fellow inmate with a dangerous weapon, causing bodily injury to the victim on Dec. 20, 2011. Hall was sentenced to serve 71 months in prison to be served consecutively with the sentence he is currently serving. The assault occurred on Dec. 20, 2011, inside the FCI Seagoville when Hall targeted and attacked the victim, a fellow inmate, because he believed the victim was gay or involved in a sexual relationship with another male inmate. Hall repeatedly punched, kicked and stomped on the victim’s face with his shod feet, a dangerous weapon, while yelling a homophobic slur. The victim lost consciousness during the assault and suffered multiple lacerations to his face. The victim also sustained a fractured eye socket, lost a tooth, fractured other teeth and was treated at a hospital for the injuries he sustained during Hall’s unprovoked attack. Hall pleaded guilty to violating the Matthew Shepard and James Byrd Jr. Hate Crimes Prevention Act on Nov. 8, 2012. “Brutality and violence based on sexual orientation has no place in a civilized society,” said Thomas E. Perez, Assistant Attorney General for the Civil Rights Division. “The Justice Department is committed to using all the tools in our law enforcement arsenal, including the Matthew Shepard and James Byrd Jr. Hate Crimes Prevention Act, to prosecute acts motivated by hate.” “This prosecution sends a clear message that this office, in partnership with attorneys in the department’s Civil Rights Division, will prioritize and aggressively prosecute hate crimes and others civil rights violations in North Texas,” said U.S. Attorney Sarah R. Saldaña of the Northern District of Texas. This case was investigated by the FBI Dallas Division. The case was prosecuted by Assistant U.S. Attorney Errin Martin and Trial Attorney Adriana Vieco of the Civil Rights Division.   \n",
       "\n",
       "                         date topics_clean  \\\n",
       "13  2014-03-10T00:00:00-04:00  Hate Crimes   \n",
       "34  2013-03-14T00:00:00-04:00  Hate Crimes   \n",
       "\n",
       "                                          components_clean    neg    neu  \\\n",
       "13  Civil Rights Division; Civil Rights - Criminal Section  0.327  0.634   \n",
       "34  Civil Rights Division; Civil Rights - Criminal Section  0.311  0.663   \n",
       "\n",
       "      pos  compound  \n",
       "13  0.039   -0.9950  \n",
       "34  0.026   -0.9983  "
      ]
     },
     "execution_count": 41,
     "metadata": {},
     "output_type": "execute_result"
    }
   ],
   "source": [
    "# Converting results of list comprehension to dataframe: \n",
    "rez_df = pd.DataFrame(rez)\n",
    "\n",
    "# Copying the original dataset\n",
    "doj_subset_wscore = doj_subset\n",
    "\n",
    "# Merging sentiments & original data\n",
    "doj_subset_wscore = doj_scored.merge(rez_df, left_on = \"contents\", right_on = \"contents\")\n",
    "\n",
    "# Sorting, according to least neagtive values:\n",
    "doj_subset_wscore = doj_scored.sort_values(\"neg\", ascending = False)\n",
    "\n",
    "# Showing top two contents:\n",
    "doj_subset_wscore.head(n=2)"
   ]
  },
  {
   "cell_type": "markdown",
   "metadata": {},
   "source": [
    "With the dataframe, finding the mean compound sentiment score for each of the three topics in `topics_clean` using group_by and agg."
   ]
  },
  {
   "cell_type": "code",
   "execution_count": 46,
   "metadata": {},
   "outputs": [
    {
     "data": {
      "text/html": [
       "<div>\n",
       "<style scoped>\n",
       "    .dataframe tbody tr th:only-of-type {\n",
       "        vertical-align: middle;\n",
       "    }\n",
       "\n",
       "    .dataframe tbody tr th {\n",
       "        vertical-align: top;\n",
       "    }\n",
       "\n",
       "    .dataframe thead th {\n",
       "        text-align: right;\n",
       "    }\n",
       "</style>\n",
       "<table border=\"1\" class=\"dataframe\">\n",
       "  <thead>\n",
       "    <tr style=\"text-align: right;\">\n",
       "      <th></th>\n",
       "      <th>topics_clean</th>\n",
       "      <th>compound</th>\n",
       "    </tr>\n",
       "  </thead>\n",
       "  <tbody>\n",
       "    <tr>\n",
       "      <th>1</th>\n",
       "      <td>Hate Crimes</td>\n",
       "      <td>-0.934505</td>\n",
       "    </tr>\n",
       "    <tr>\n",
       "      <th>2</th>\n",
       "      <td>Project Safe Childhood</td>\n",
       "      <td>-0.649320</td>\n",
       "    </tr>\n",
       "    <tr>\n",
       "      <th>0</th>\n",
       "      <td>Civil Rights</td>\n",
       "      <td>-0.097169</td>\n",
       "    </tr>\n",
       "  </tbody>\n",
       "</table>\n",
       "</div>"
      ],
      "text/plain": [
       "             topics_clean  compound\n",
       "1             Hate Crimes -0.934505\n",
       "2  Project Safe Childhood -0.649320\n",
       "0            Civil Rights -0.097169"
      ]
     },
     "execution_count": 46,
     "metadata": {},
     "output_type": "execute_result"
    }
   ],
   "source": [
    "## agg and find the mean compound score by topic\n",
    "doj_subset_wscore.groupby(\"topics_clean\").agg({\"compound\" : \"mean\"}).reset_index().sort_values(by = \"compound\")"
   ]
  },
  {
   "cell_type": "markdown",
   "metadata": {},
   "source": [
    "<div class=\"alert alert-block alert-success\">\n",
    "\n",
    "<b>Interpretation:<br> </b>\n",
    "    <br>\n",
    "Press releases related to <b> hate crimes would naturally be the most negative </b> because of the words usually associated with such crimes and because people would generally strong words to describe them in press releases. <br>\n",
    "    <br>\n",
    "Similarly, we would see strong words and emotions used for projects related to safe childhood. <br>\n",
    "    <br>\n",
    "As important as civil rights are to regular citizens, I would imagine press releases related to civil rights would be worded less strongly than the other two; more to temper emotions of audience than to flare them.\n",
    "   \n",
    "</div>"
   ]
  },
  {
   "cell_type": "markdown",
   "metadata": {},
   "source": [
    "# Topic modeling \n",
    "\n",
    "For this question, use the `doj_subset_wscores` data that is restricted to civil rights, hate crimes, and project safe childhood and with the sentiment scores added\n"
   ]
  },
  {
   "cell_type": "markdown",
   "metadata": {},
   "source": [
    "## 2.1 Preprocess the data by removing stopwords, punctuation, and non-alpha words (5 points)\n",
    "\n",
    "### Part A:\n",
    "\n",
    "A. Write a function that:\n",
    "\n",
    "- Takes in a single raw string in the `contents` column from that dataframe\n",
    "- Does the following preprocessing steps:\n",
    "\n",
    "    - Converts the words to lowercase\n",
    "    - Removes stopwords, adding the custom stopwords in the code cell below to the default stopwords list\n",
    "    - Only retains alpha words (so removes digits and punctuation)\n",
    "    - Only retains words 4 characters or longer\n",
    "    - Uses the snowball stemmer from nltk to stem\n",
    "\n",
    "- Returns a joined preprocessed string (so if press release is something like \"The CEO was indicted\" it might return \"ceo indict\" "
   ]
  },
  {
   "cell_type": "code",
   "execution_count": 47,
   "metadata": {},
   "outputs": [],
   "source": [
    "# Pre-required material:\n",
    "# Stopwords:\n",
    "list_stopwords = stopwords.words(\"english\")\n",
    "custom_doj_stopwords = [\"civil\", \"rights\", \"division\", \"department\", \"justice\",\n",
    "                        \"office\", \"attorney\", \"district\", \"case\", \"investigation\", \"assistant\",\n",
    "                       \"trial\", \"assistance\", \"assist\"]\n",
    "comp_stopwords = list_stopwords + custom_doj_stopwords"
   ]
  },
  {
   "cell_type": "code",
   "execution_count": 48,
   "metadata": {},
   "outputs": [],
   "source": [
    "# Defining fntn for list comprehension:\n",
    "def comp_processing_lc(raw):\n",
    "    \n",
    "    ## initialize stemmer\n",
    "    snow = SnowballStemmer(\"english\")\n",
    "    \n",
    "    # 1. Converting to lower case:\n",
    "    raw_lower = raw.lower()\n",
    "    \n",
    "    # 2. Tokeninzing words:\n",
    "    raw_tokens = word_tokenize(raw_lower)\n",
    "    \n",
    "    # 3. Removing stopwords:\n",
    "    raw_nostop = [snow.stem(word) for word in raw_tokens if word not in comp_stopwords\n",
    "                  and word.isalpha()\n",
    "                  and len(word) >= 4]\n",
    "    \n",
    "    raw_final = (\" \".join(raw_nostop))\n",
    "    \n",
    "    return(raw_final)\n",
    "    \n",
    "# comp_processing(\"The CEO was indicted\")"
   ]
  },
  {
   "cell_type": "markdown",
   "metadata": {},
   "source": [
    "### Part B:\n",
    "B. Use `apply` or list comprehension to execute that function and create a new column in the data called `processed_text`. Note: there will be a deduction if your code uses a non-list comprehension for loop that uses append."
   ]
  },
  {
   "cell_type": "code",
   "execution_count": 50,
   "metadata": {},
   "outputs": [],
   "source": [
    "# doj_subset_wscores[\"processed_text\"] = doj_subset_wscores.apply(comp_processing, axis = 1)\n",
    "doj_subset_wscore[\"processed_text\"] = [comp_processing_lc(wn) for wn in doj_subset_wscore[\"contents\"]]"
   ]
  },
  {
   "cell_type": "markdown",
   "metadata": {},
   "source": [
    "### Part C:\n",
    "\n",
    "C. Print the `id`, `contents`, and `processed_text` columns for the following press releases:\n",
    "\n",
    "id = 16-718 (this case: https://www.seattletimes.com/nation-world/doj-miami-police-reach-settlement-in-civil-rights-case/)\n",
    "\n",
    "id = 16-217 (this case: https://www.wlbt.com/story/32275512/three-mississippi-correctional-officers-indicted-for-inmate-assault-and-cover-up/)"
   ]
  },
  {
   "cell_type": "code",
   "execution_count": 51,
   "metadata": {},
   "outputs": [
    {
     "data": {
      "text/html": [
       "<div>\n",
       "<style scoped>\n",
       "    .dataframe tbody tr th:only-of-type {\n",
       "        vertical-align: middle;\n",
       "    }\n",
       "\n",
       "    .dataframe tbody tr th {\n",
       "        vertical-align: top;\n",
       "    }\n",
       "\n",
       "    .dataframe thead th {\n",
       "        text-align: right;\n",
       "    }\n",
       "</style>\n",
       "<table border=\"1\" class=\"dataframe\">\n",
       "  <thead>\n",
       "    <tr style=\"text-align: right;\">\n",
       "      <th></th>\n",
       "      <th>id</th>\n",
       "      <th>contents</th>\n",
       "      <th>processed_text</th>\n",
       "    </tr>\n",
       "  </thead>\n",
       "  <tbody>\n",
       "    <tr>\n",
       "      <th>632</th>\n",
       "      <td>16-718</td>\n",
       "      <td>In a nine-count indictment unsealed today, two Mississippi correctional officers were charged with beating an inmate and a third was charged with helping to cover it up.  The indictment charged Lawardrick Marsher, 28, and Robert Sturdivant, 47, officers at Mississippi State Penitentiary, in Parchman, Mississippi, with a beating that included kicking, punching and throwing the victim to the ground.  Marsher and Sturdivant were charged with violating the right of K.H., a convicted prisoner, to be free from cruel and unusual punishment.  Sturdivant was also charged with failing to intervene while Marsher was punching and beating K.H.  The indictment alleges that their actions involved the use of a dangerous weapon and resulted in bodily injury to the victim. A third officer, Deonte Pate, 23, was charged along with Marsher and Sturdivant for conspiring to cover up the beating.  The indictment alleges that all three officers submitted false reports and that all three lied to the FBI. If convicted, Marsher and Sturdivant face a maximum sentence of 10 years in prison on the excessive force charges.  Each of the three officers faces up to five years in prison on the conspiracy and false statement charges, and up to 20 years in prison on the false report charges. An indictment is merely an accusation, and the defendants are presumed innocent unless and until proven guilty. This case is being investigated by the FBI’s Jackson Division, with the cooperation of the Mississippi Department of Corrections.  It is being prosecuted by Assistant U.S. Attorney Robert Coleman of the Northern District of Mississippi and Trial Attorney Dana Mulhauser of the Civil Rights Division’s Criminal Section.     Marsher Indictment</td>\n",
       "      <td>indict unseal today mississippi correct offic charg beat inmat third charg help cover indict charg lawardrick marsher robert sturdiv offic mississippi state penitentiari parchman mississippi beat includ kick punch throw victim ground marsher sturdiv charg violat right convict prison free cruel unusu punish sturdiv also charg fail interven marsher punch beat indict alleg action involv danger weapon result bodili injuri victim third offic deont pate charg along marsher sturdiv conspir cover beat indict alleg three offic submit fals report three lie convict marsher sturdiv face maximum sentenc year prison excess forc charg three offic face five year prison conspiraci fals statement charg year prison fals report charg indict mere accus defend presum innoc unless proven guilti investig jackson cooper mississippi correct prosecut robert coleman northern mississippi dana mulhaus crimin section marsher indict</td>\n",
       "    </tr>\n",
       "    <tr>\n",
       "      <th>313</th>\n",
       "      <td>16-217</td>\n",
       "      <td>The Justice Department has reached a comprehensive settlement agreement with the city of Miami and the Miami Police Department (MPD) resolving the Justice Department’s investigation of officer-involved shootings by MPD officers, announced Principal Deputy Assistant Attorney General Vanita Gupta, head of the Justice Department’s Civil Rights Division and U.S. Attorney Wifredo A. Ferrer of the Southern District of Florida. The settlement, which was approved by Miami’s city commission today and will go into effect when the agreement is signed by all parties, resolves claims stemming from the Justice Department’s investigation into officer-involved shootings by MPD officers, which was conducted under the Violent Crime Control and Law Enforcement Act of 1994.  The investigation’s findings, issued in July 2013, identified a pattern or practice of excessive use of force through officer-involved shootings in violation of the Fourth Amendment of the Constitution.  The city’s compliance with the settlement will be monitored by an independent reviewer, former Tampa, Florida, Police Chief Jane Castor.  Under the settlement agreement, the city will implement comprehensive reforms to ensure constitutional policing and support public trust.  The settlement agreement is designed to minimize officer-involved shootings and to more effectively and quickly investigate officer-involved shootings that do occur, through measures that include: “This settlement represents a renewed commitment by the city of Miami and Chief Rodolfo Llanes to provide constitutional policing for Miami residents and to protect public safety through sustainable reform,” said Principal Deputy Assistant Attorney General Gupta.  “The agreement will help to strengthen the relationship between the MPD and the communities they serve by improving accountability for officers who fire their weapons unlawfully, and provides for community participation in the enforcement of this agreement.”  “Today's agreement is the result of a joint effort between the Department of Justice and the City of Miami to ensure that the Miami Police Department continues its efforts to make our community safe while protecting the sacred Constitutional rights of all of our citizens,” said U.S. Attorney Ferrer.  “Through oversight and communication, the agreement seeks to make permanent the positive changes that former Chief Orosa and Chief Llanes have made, and we applaud the City Commission’s vote.” The settlement agreement builds upon important reforms implemented by the city since the Justice Department issued its findings, including:  The investigation was conducted by attorneys and staff from the Civil Rights Division’s Special Litigation Section and the Civil Division of the U. S. Attorney’s Office of the Southern District of Florida.</td>\n",
       "      <td>reach comprehens settlement agreement citi miami miami polic resolv shoot offic announc princip deputi general vanita gupta head wifredo ferrer southern florida settlement approv miami citi commiss today effect agreement sign parti resolv claim stem shoot offic conduct violent crime control enforc find issu juli identifi pattern practic excess forc shoot violat fourth amend constitut citi complianc settlement monitor independ review former tampa florida polic chief jane castor settlement agreement citi implement comprehens reform ensur constitut polic support public trust settlement agreement design minim shoot effect quick investig shoot occur measur includ settlement repres renew commit citi miami chief rodolfo llane provid constitut polic miami resid protect public safeti sustain reform said princip deputi general gupta agreement help strengthen relationship communiti serv improv account offic fire weapon unlaw provid communiti particip enforc today agreement result joint effort citi miami ensur miami polic continu effort make communiti safe protect sacr constitut citizen said ferrer oversight communic agreement seek make perman posit chang former chief orosa chief llane made applaud citi commiss settlement agreement build upon import reform implement citi sinc issu find includ conduct attorney staff special litig section southern florida</td>\n",
       "    </tr>\n",
       "  </tbody>\n",
       "</table>\n",
       "</div>"
      ],
      "text/plain": [
       "         id  \\\n",
       "632  16-718   \n",
       "313  16-217   \n",
       "\n",
       "                                                                                                                                                                                                                                                                                                                                                                                                                                                                                                                                                                                                                                                                                                                                                                                                                                                                                                                                                                                                                                                                                                                                                                                                                                                                                                                                                                                                                                                                                                                                                                                                                                                                                                                                                                                                                                                                                                                                                                                                                                                                                                                                                                                                                                                                                                                                                                                                                                                                                                                                                                                                                                                                                                                                                                                                                                                                                                                       contents  \\\n",
       "632                                                                                                                                                                                                                                                                                                                                                                                                                                                                                                                                                                                                                                                                                                                                                                                                                                                                                                                                                                                                                                                                                                                            In a nine-count indictment unsealed today, two Mississippi correctional officers were charged with beating an inmate and a third was charged with helping to cover it up.  The indictment charged Lawardrick Marsher, 28, and Robert Sturdivant, 47, officers at Mississippi State Penitentiary, in Parchman, Mississippi, with a beating that included kicking, punching and throwing the victim to the ground.  Marsher and Sturdivant were charged with violating the right of K.H., a convicted prisoner, to be free from cruel and unusual punishment.  Sturdivant was also charged with failing to intervene while Marsher was punching and beating K.H.  The indictment alleges that their actions involved the use of a dangerous weapon and resulted in bodily injury to the victim. A third officer, Deonte Pate, 23, was charged along with Marsher and Sturdivant for conspiring to cover up the beating.  The indictment alleges that all three officers submitted false reports and that all three lied to the FBI. If convicted, Marsher and Sturdivant face a maximum sentence of 10 years in prison on the excessive force charges.  Each of the three officers faces up to five years in prison on the conspiracy and false statement charges, and up to 20 years in prison on the false report charges. An indictment is merely an accusation, and the defendants are presumed innocent unless and until proven guilty. This case is being investigated by the FBI’s Jackson Division, with the cooperation of the Mississippi Department of Corrections.  It is being prosecuted by Assistant U.S. Attorney Robert Coleman of the Northern District of Mississippi and Trial Attorney Dana Mulhauser of the Civil Rights Division’s Criminal Section.     Marsher Indictment   \n",
       "313  The Justice Department has reached a comprehensive settlement agreement with the city of Miami and the Miami Police Department (MPD) resolving the Justice Department’s investigation of officer-involved shootings by MPD officers, announced Principal Deputy Assistant Attorney General Vanita Gupta, head of the Justice Department’s Civil Rights Division and U.S. Attorney Wifredo A. Ferrer of the Southern District of Florida. The settlement, which was approved by Miami’s city commission today and will go into effect when the agreement is signed by all parties, resolves claims stemming from the Justice Department’s investigation into officer-involved shootings by MPD officers, which was conducted under the Violent Crime Control and Law Enforcement Act of 1994.  The investigation’s findings, issued in July 2013, identified a pattern or practice of excessive use of force through officer-involved shootings in violation of the Fourth Amendment of the Constitution.  The city’s compliance with the settlement will be monitored by an independent reviewer, former Tampa, Florida, Police Chief Jane Castor.  Under the settlement agreement, the city will implement comprehensive reforms to ensure constitutional policing and support public trust.  The settlement agreement is designed to minimize officer-involved shootings and to more effectively and quickly investigate officer-involved shootings that do occur, through measures that include: “This settlement represents a renewed commitment by the city of Miami and Chief Rodolfo Llanes to provide constitutional policing for Miami residents and to protect public safety through sustainable reform,” said Principal Deputy Assistant Attorney General Gupta.  “The agreement will help to strengthen the relationship between the MPD and the communities they serve by improving accountability for officers who fire their weapons unlawfully, and provides for community participation in the enforcement of this agreement.”  “Today's agreement is the result of a joint effort between the Department of Justice and the City of Miami to ensure that the Miami Police Department continues its efforts to make our community safe while protecting the sacred Constitutional rights of all of our citizens,” said U.S. Attorney Ferrer.  “Through oversight and communication, the agreement seeks to make permanent the positive changes that former Chief Orosa and Chief Llanes have made, and we applaud the City Commission’s vote.” The settlement agreement builds upon important reforms implemented by the city since the Justice Department issued its findings, including:  The investigation was conducted by attorneys and staff from the Civil Rights Division’s Special Litigation Section and the Civil Division of the U. S. Attorney’s Office of the Southern District of Florida.   \n",
       "\n",
       "                                                                                                                                                                                                                                                                                                                                                                                                                                                                                                                                                                                                                                                                                                                                                                                                                                                                                                                                                                                                                                                                                                                                                                                                                                                                                                                                                                                                          processed_text  \n",
       "632                                                                                                                                                                                                                                                                                                                                                                                                                                                                   indict unseal today mississippi correct offic charg beat inmat third charg help cover indict charg lawardrick marsher robert sturdiv offic mississippi state penitentiari parchman mississippi beat includ kick punch throw victim ground marsher sturdiv charg violat right convict prison free cruel unusu punish sturdiv also charg fail interven marsher punch beat indict alleg action involv danger weapon result bodili injuri victim third offic deont pate charg along marsher sturdiv conspir cover beat indict alleg three offic submit fals report three lie convict marsher sturdiv face maximum sentenc year prison excess forc charg three offic face five year prison conspiraci fals statement charg year prison fals report charg indict mere accus defend presum innoc unless proven guilti investig jackson cooper mississippi correct prosecut robert coleman northern mississippi dana mulhaus crimin section marsher indict  \n",
       "313  reach comprehens settlement agreement citi miami miami polic resolv shoot offic announc princip deputi general vanita gupta head wifredo ferrer southern florida settlement approv miami citi commiss today effect agreement sign parti resolv claim stem shoot offic conduct violent crime control enforc find issu juli identifi pattern practic excess forc shoot violat fourth amend constitut citi complianc settlement monitor independ review former tampa florida polic chief jane castor settlement agreement citi implement comprehens reform ensur constitut polic support public trust settlement agreement design minim shoot effect quick investig shoot occur measur includ settlement repres renew commit citi miami chief rodolfo llane provid constitut polic miami resid protect public safeti sustain reform said princip deputi general gupta agreement help strengthen relationship communiti serv improv account offic fire weapon unlaw provid communiti particip enforc today agreement result joint effort citi miami ensur miami polic continu effort make communiti safe protect sacr constitut citizen said ferrer oversight communic agreement seek make perman posit chang former chief orosa chief llane made applaud citi commiss settlement agreement build upon import reform implement citi sinc issu find includ conduct attorney staff special litig section southern florida  "
      ]
     },
     "execution_count": 51,
     "metadata": {},
     "output_type": "execute_result"
    }
   ],
   "source": [
    "doj_subset_wscore[[\"id\", \"contents\", \"processed_text\"]][(doj_subset_wscore[\"id\"] == \"16-718\") | (doj_subset_wscore[\"id\"] == \"16-217\")]"
   ]
  },
  {
   "cell_type": "markdown",
   "metadata": {},
   "source": [
    "**Resources**:\n",
    "\n",
    "- Here's code examples for the snowball stemmer: https://www.geeksforgeeks.org/snowball-stemmer-nlp/\n",
    "- Here's code with topic modeling steps: \n",
    "https://github.com/rebeccajohnson88/PPOL564_slides_activities/blob/main/activities/fall_22/solutions/09_textasdata_partII_topicmodeling_solution.ipynb"
   ]
  },
  {
   "cell_type": "markdown",
   "metadata": {},
   "source": [
    "## 2.2 Create a document-term matrix from the preprocessed press releases and to explore top words (5 points)\n",
    "\n",
    "### Part A:\n",
    "\n",
    "A. Use the `create_dtm` function I provide (alternately, feel free to write your own!) and create a document-term matrix using the preprocessed press releases; make sure metadata contains the following columns: `id`, `compound` sentiment column you added, and the `topics_clean` column"
   ]
  },
  {
   "cell_type": "code",
   "execution_count": 52,
   "metadata": {},
   "outputs": [],
   "source": [
    "def create_dtm(list_of_strings, metadata):\n",
    "    vectorizer = CountVectorizer(lowercase = True)\n",
    "    dtm_sparse = vectorizer.fit_transform(list_of_strings)\n",
    "    dtm_dense_named = pd.DataFrame(dtm_sparse.todense(), \n",
    "        columns=vectorizer.get_feature_names())\n",
    "    dtm_dense_named_withid = pd.concat([metadata.reset_index(), dtm_dense_named], axis = 1)\n",
    "    return(dtm_dense_named_withid)"
   ]
  },
  {
   "cell_type": "code",
   "execution_count": 53,
   "metadata": {
    "scrolled": true
   },
   "outputs": [
    {
     "data": {
      "text/html": [
       "<div>\n",
       "<style scoped>\n",
       "    .dataframe tbody tr th:only-of-type {\n",
       "        vertical-align: middle;\n",
       "    }\n",
       "\n",
       "    .dataframe tbody tr th {\n",
       "        vertical-align: top;\n",
       "    }\n",
       "\n",
       "    .dataframe thead th {\n",
       "        text-align: right;\n",
       "    }\n",
       "</style>\n",
       "<table border=\"1\" class=\"dataframe\">\n",
       "  <thead>\n",
       "    <tr style=\"text-align: right;\">\n",
       "      <th></th>\n",
       "      <th>index</th>\n",
       "      <th>id</th>\n",
       "      <th>compound</th>\n",
       "      <th>topics_clean</th>\n",
       "      <th>aaron</th>\n",
       "      <th>abandon</th>\n",
       "      <th>abbat</th>\n",
       "      <th>abbi</th>\n",
       "      <th>abbott</th>\n",
       "      <th>abdomen</th>\n",
       "      <th>...</th>\n",
       "      <th>zamora</th>\n",
       "      <th>zane</th>\n",
       "      <th>zealand</th>\n",
       "      <th>zealous</th>\n",
       "      <th>zeeman</th>\n",
       "      <th>zero</th>\n",
       "      <th>zobel</th>\n",
       "      <th>zone</th>\n",
       "      <th>zunggeemog</th>\n",
       "      <th>zwengel</th>\n",
       "    </tr>\n",
       "  </thead>\n",
       "  <tbody>\n",
       "    <tr>\n",
       "      <th>0</th>\n",
       "      <td>13</td>\n",
       "      <td>14-248</td>\n",
       "      <td>-0.9950</td>\n",
       "      <td>Hate Crimes</td>\n",
       "      <td>0</td>\n",
       "      <td>0</td>\n",
       "      <td>0</td>\n",
       "      <td>0</td>\n",
       "      <td>0</td>\n",
       "      <td>0</td>\n",
       "      <td>...</td>\n",
       "      <td>0</td>\n",
       "      <td>0</td>\n",
       "      <td>0</td>\n",
       "      <td>0</td>\n",
       "      <td>0</td>\n",
       "      <td>0</td>\n",
       "      <td>0</td>\n",
       "      <td>0</td>\n",
       "      <td>0</td>\n",
       "      <td>0</td>\n",
       "    </tr>\n",
       "    <tr>\n",
       "      <th>1</th>\n",
       "      <td>34</td>\n",
       "      <td>13-312</td>\n",
       "      <td>-0.9983</td>\n",
       "      <td>Hate Crimes</td>\n",
       "      <td>0</td>\n",
       "      <td>0</td>\n",
       "      <td>0</td>\n",
       "      <td>0</td>\n",
       "      <td>0</td>\n",
       "      <td>0</td>\n",
       "      <td>...</td>\n",
       "      <td>0</td>\n",
       "      <td>0</td>\n",
       "      <td>0</td>\n",
       "      <td>0</td>\n",
       "      <td>0</td>\n",
       "      <td>0</td>\n",
       "      <td>0</td>\n",
       "      <td>0</td>\n",
       "      <td>0</td>\n",
       "      <td>0</td>\n",
       "    </tr>\n",
       "    <tr>\n",
       "      <th>2</th>\n",
       "      <td>632</td>\n",
       "      <td>16-718</td>\n",
       "      <td>-0.9964</td>\n",
       "      <td>Civil Rights</td>\n",
       "      <td>0</td>\n",
       "      <td>0</td>\n",
       "      <td>0</td>\n",
       "      <td>0</td>\n",
       "      <td>0</td>\n",
       "      <td>0</td>\n",
       "      <td>...</td>\n",
       "      <td>0</td>\n",
       "      <td>0</td>\n",
       "      <td>0</td>\n",
       "      <td>0</td>\n",
       "      <td>0</td>\n",
       "      <td>0</td>\n",
       "      <td>0</td>\n",
       "      <td>0</td>\n",
       "      <td>0</td>\n",
       "      <td>0</td>\n",
       "    </tr>\n",
       "    <tr>\n",
       "      <th>3</th>\n",
       "      <td>22</td>\n",
       "      <td>11-626</td>\n",
       "      <td>-0.9986</td>\n",
       "      <td>Hate Crimes</td>\n",
       "      <td>0</td>\n",
       "      <td>0</td>\n",
       "      <td>0</td>\n",
       "      <td>0</td>\n",
       "      <td>0</td>\n",
       "      <td>0</td>\n",
       "      <td>...</td>\n",
       "      <td>0</td>\n",
       "      <td>0</td>\n",
       "      <td>0</td>\n",
       "      <td>0</td>\n",
       "      <td>0</td>\n",
       "      <td>0</td>\n",
       "      <td>0</td>\n",
       "      <td>0</td>\n",
       "      <td>0</td>\n",
       "      <td>0</td>\n",
       "    </tr>\n",
       "    <tr>\n",
       "      <th>4</th>\n",
       "      <td>564</td>\n",
       "      <td>11-1531</td>\n",
       "      <td>-0.9968</td>\n",
       "      <td>Hate Crimes</td>\n",
       "      <td>0</td>\n",
       "      <td>0</td>\n",
       "      <td>0</td>\n",
       "      <td>0</td>\n",
       "      <td>0</td>\n",
       "      <td>0</td>\n",
       "      <td>...</td>\n",
       "      <td>0</td>\n",
       "      <td>0</td>\n",
       "      <td>0</td>\n",
       "      <td>0</td>\n",
       "      <td>0</td>\n",
       "      <td>0</td>\n",
       "      <td>0</td>\n",
       "      <td>0</td>\n",
       "      <td>0</td>\n",
       "      <td>0</td>\n",
       "    </tr>\n",
       "    <tr>\n",
       "      <th>...</th>\n",
       "      <td>...</td>\n",
       "      <td>...</td>\n",
       "      <td>...</td>\n",
       "      <td>...</td>\n",
       "      <td>...</td>\n",
       "      <td>...</td>\n",
       "      <td>...</td>\n",
       "      <td>...</td>\n",
       "      <td>...</td>\n",
       "      <td>...</td>\n",
       "      <td>...</td>\n",
       "      <td>...</td>\n",
       "      <td>...</td>\n",
       "      <td>...</td>\n",
       "      <td>...</td>\n",
       "      <td>...</td>\n",
       "      <td>...</td>\n",
       "      <td>...</td>\n",
       "      <td>...</td>\n",
       "      <td>...</td>\n",
       "      <td>...</td>\n",
       "    </tr>\n",
       "    <tr>\n",
       "      <th>712</th>\n",
       "      <td>581</td>\n",
       "      <td>15-667</td>\n",
       "      <td>0.7003</td>\n",
       "      <td>Civil Rights</td>\n",
       "      <td>0</td>\n",
       "      <td>0</td>\n",
       "      <td>0</td>\n",
       "      <td>0</td>\n",
       "      <td>0</td>\n",
       "      <td>0</td>\n",
       "      <td>...</td>\n",
       "      <td>0</td>\n",
       "      <td>0</td>\n",
       "      <td>0</td>\n",
       "      <td>0</td>\n",
       "      <td>0</td>\n",
       "      <td>0</td>\n",
       "      <td>0</td>\n",
       "      <td>0</td>\n",
       "      <td>0</td>\n",
       "      <td>0</td>\n",
       "    </tr>\n",
       "    <tr>\n",
       "      <th>713</th>\n",
       "      <td>392</td>\n",
       "      <td>16-539</td>\n",
       "      <td>0.9854</td>\n",
       "      <td>Civil Rights</td>\n",
       "      <td>0</td>\n",
       "      <td>0</td>\n",
       "      <td>0</td>\n",
       "      <td>0</td>\n",
       "      <td>0</td>\n",
       "      <td>0</td>\n",
       "      <td>...</td>\n",
       "      <td>0</td>\n",
       "      <td>0</td>\n",
       "      <td>0</td>\n",
       "      <td>0</td>\n",
       "      <td>0</td>\n",
       "      <td>0</td>\n",
       "      <td>0</td>\n",
       "      <td>0</td>\n",
       "      <td>0</td>\n",
       "      <td>0</td>\n",
       "    </tr>\n",
       "    <tr>\n",
       "      <th>714</th>\n",
       "      <td>346</td>\n",
       "      <td>17-003</td>\n",
       "      <td>0.9766</td>\n",
       "      <td>Civil Rights</td>\n",
       "      <td>0</td>\n",
       "      <td>0</td>\n",
       "      <td>0</td>\n",
       "      <td>0</td>\n",
       "      <td>0</td>\n",
       "      <td>0</td>\n",
       "      <td>...</td>\n",
       "      <td>0</td>\n",
       "      <td>0</td>\n",
       "      <td>0</td>\n",
       "      <td>0</td>\n",
       "      <td>0</td>\n",
       "      <td>0</td>\n",
       "      <td>0</td>\n",
       "      <td>0</td>\n",
       "      <td>0</td>\n",
       "      <td>0</td>\n",
       "    </tr>\n",
       "    <tr>\n",
       "      <th>715</th>\n",
       "      <td>324</td>\n",
       "      <td>17-132</td>\n",
       "      <td>0.9812</td>\n",
       "      <td>Civil Rights</td>\n",
       "      <td>0</td>\n",
       "      <td>0</td>\n",
       "      <td>0</td>\n",
       "      <td>0</td>\n",
       "      <td>0</td>\n",
       "      <td>0</td>\n",
       "      <td>...</td>\n",
       "      <td>0</td>\n",
       "      <td>0</td>\n",
       "      <td>0</td>\n",
       "      <td>0</td>\n",
       "      <td>0</td>\n",
       "      <td>0</td>\n",
       "      <td>0</td>\n",
       "      <td>0</td>\n",
       "      <td>0</td>\n",
       "      <td>0</td>\n",
       "    </tr>\n",
       "    <tr>\n",
       "      <th>716</th>\n",
       "      <td>551</td>\n",
       "      <td>15-1559</td>\n",
       "      <td>0.8481</td>\n",
       "      <td>Civil Rights</td>\n",
       "      <td>0</td>\n",
       "      <td>0</td>\n",
       "      <td>0</td>\n",
       "      <td>0</td>\n",
       "      <td>0</td>\n",
       "      <td>0</td>\n",
       "      <td>...</td>\n",
       "      <td>0</td>\n",
       "      <td>0</td>\n",
       "      <td>0</td>\n",
       "      <td>0</td>\n",
       "      <td>0</td>\n",
       "      <td>0</td>\n",
       "      <td>0</td>\n",
       "      <td>0</td>\n",
       "      <td>0</td>\n",
       "      <td>0</td>\n",
       "    </tr>\n",
       "  </tbody>\n",
       "</table>\n",
       "<p>717 rows × 6760 columns</p>\n",
       "</div>"
      ],
      "text/plain": [
       "     index       id  compound  topics_clean  aaron  abandon  abbat  abbi  \\\n",
       "0       13   14-248   -0.9950   Hate Crimes      0        0      0     0   \n",
       "1       34   13-312   -0.9983   Hate Crimes      0        0      0     0   \n",
       "2      632   16-718   -0.9964  Civil Rights      0        0      0     0   \n",
       "3       22   11-626   -0.9986   Hate Crimes      0        0      0     0   \n",
       "4      564  11-1531   -0.9968   Hate Crimes      0        0      0     0   \n",
       "..     ...      ...       ...           ...    ...      ...    ...   ...   \n",
       "712    581   15-667    0.7003  Civil Rights      0        0      0     0   \n",
       "713    392   16-539    0.9854  Civil Rights      0        0      0     0   \n",
       "714    346   17-003    0.9766  Civil Rights      0        0      0     0   \n",
       "715    324   17-132    0.9812  Civil Rights      0        0      0     0   \n",
       "716    551  15-1559    0.8481  Civil Rights      0        0      0     0   \n",
       "\n",
       "     abbott  abdomen  ...  zamora  zane  zealand  zealous  zeeman  zero  \\\n",
       "0         0        0  ...       0     0        0        0       0     0   \n",
       "1         0        0  ...       0     0        0        0       0     0   \n",
       "2         0        0  ...       0     0        0        0       0     0   \n",
       "3         0        0  ...       0     0        0        0       0     0   \n",
       "4         0        0  ...       0     0        0        0       0     0   \n",
       "..      ...      ...  ...     ...   ...      ...      ...     ...   ...   \n",
       "712       0        0  ...       0     0        0        0       0     0   \n",
       "713       0        0  ...       0     0        0        0       0     0   \n",
       "714       0        0  ...       0     0        0        0       0     0   \n",
       "715       0        0  ...       0     0        0        0       0     0   \n",
       "716       0        0  ...       0     0        0        0       0     0   \n",
       "\n",
       "     zobel  zone  zunggeemog  zwengel  \n",
       "0        0     0           0        0  \n",
       "1        0     0           0        0  \n",
       "2        0     0           0        0  \n",
       "3        0     0           0        0  \n",
       "4        0     0           0        0  \n",
       "..     ...   ...         ...      ...  \n",
       "712      0     0           0        0  \n",
       "713      0     0           0        0  \n",
       "714      0     0           0        0  \n",
       "715      0     0           0        0  \n",
       "716      0     0           0        0  \n",
       "\n",
       "[717 rows x 6760 columns]"
      ]
     },
     "execution_count": 53,
     "metadata": {},
     "output_type": "execute_result"
    }
   ],
   "source": [
    "dtm_subset_wscores = create_dtm(list_of_strings= doj_subset_wscore.processed_text,\n",
    "                metadata = doj_subset_wscore[['id', 'compound', 'topics_clean']])\n",
    "dtm_subset_wscores"
   ]
  },
  {
   "cell_type": "markdown",
   "metadata": {},
   "source": [
    "### Part B, C & D: \n",
    "B. Print the top 10 words for press releases with compound sentiment in the top 5% (so the most positive sentiment)\n",
    "\n",
    "C. Print the top 10 words for press releases with compound sentiment in the bottom 5% (so the most negative sentiment)\n",
    "\n",
    "**Hint**: for these, remember the pandas quantile function from pset two.  \n",
    "\n",
    "D. Print the top 10 words for press releases in each of the three `topics_clean`\n",
    "\n",
    "For steps B - D, to receive full credit, write a function `get_topwords` that helps you avoid duplicated code when you find top words for the different subsets of the data. There are different ways to structure it but one way is to feed it subsetted data (so data subsetted to one topic etc.) and for it to get the top words for that subset.\n",
    "\n",
    "**Resources**:\n",
    "\n",
    "- Here contains an example of applying the create_dtm function: \n",
    "https://github.com/rebeccajohnson88/PPOL564_slides_activities/blob/main/activities/fall_22/solutions/09_textasdata_partII_topicmodeling_solution.ipynb\n"
   ]
  },
  {
   "cell_type": "code",
   "execution_count": 85,
   "metadata": {},
   "outputs": [
    {
     "name": "stdout",
     "output_type": "stream",
     "text": [
      "Most Common Words for sentiments in the top 5%: \n"
     ]
    },
    {
     "data": {
      "text/plain": [
       "agreement    171\n",
       "state        119\n",
       "enforc       116\n",
       "ensur        105\n",
       "disabl       102\n",
       "student       86\n",
       "servic        86\n",
       "court         85\n",
       "general       82\n",
       "communiti     81\n",
       "dtype: int64"
      ]
     },
     "execution_count": 85,
     "metadata": {},
     "output_type": "execute_result"
    }
   ],
   "source": [
    "## Making a function, that takes in the DTM that needs to be processed as an argument:\n",
    "def get_topwords(dtm_needed):\n",
    "    \n",
    "    # 1. List of top words found by summing columns; excluding index, ID, compound (sentiment score) & topics_clean columns\n",
    "    top_words = dtm_needed[[col for col in dtm_needed.columns if re.search(r\"(index|id|compound|topics_clean)\", col) == None]].sum(axis = 0)\n",
    "    \n",
    "    # 2. Sorting words\n",
    "    top_words = top_words.sort_values(ascending = False)\n",
    "    \n",
    "    # 3. Returning a list of top_words in that particular dataset\n",
    "    return(top_words)\n",
    "\n",
    "## Part B: Press releases with compound sentiment in the top 5% (so the most positive sentiment)\n",
    "\n",
    "# Getting appropriate dataset with most positive sentiments: \n",
    "top_5 = doj_subset_wscore[doj_subset_wscore.compound >= doj_subset_wscore.compound.quantile(0.95)]\n",
    "\n",
    "# Creating DTM:\n",
    "dtm_top5 = create_dtm(list_of_strings= top_5.processed_text,\n",
    "                        metadata = top_5[['id', 'compound', 'topics_clean']])\n",
    "    \n",
    "# Applying fntn for topwords and getting top 10 values:\n",
    "print(\"Most Common Words for sentiments in the top 5%: \")\n",
    "get_topwords(dtm_top5).head(n=10)"
   ]
  },
  {
   "cell_type": "code",
   "execution_count": 86,
   "metadata": {},
   "outputs": [
    {
     "name": "stdout",
     "output_type": "stream",
     "text": [
      "Most Common Words for sentiments in the top 5%: \n"
     ]
    },
    {
     "data": {
      "text/plain": [
       "child       1075\n",
       "feder       1073\n",
       "victim       991\n",
       "prosecut     950\n",
       "sentenc      902\n",
       "state        871\n",
       "charg        842\n",
       "general      817\n",
       "today        812\n",
       "enforc       784\n",
       "dtype: int64"
      ]
     },
     "execution_count": 86,
     "metadata": {},
     "output_type": "execute_result"
    }
   ],
   "source": [
    "## Part C: Press releases with compound sentiment in the least 5% (so the most negative sentiment)\n",
    "# Getting appropriate dataset with most positive sentiments: \n",
    "bottom_5 = doj_subset_wscore[doj_subset_wscore.compound >= doj_subset_wscore.compound.quantile(0.05)]\n",
    "\n",
    "# Creating DTM:\n",
    "dtm_bottom5 = create_dtm(list_of_strings= bottom_5.processed_text,\n",
    "                        metadata = bottom_5[['id', 'compound', 'topics_clean']])\n",
    "    \n",
    "# Applying fntn for topwords and getting top 10 values:\n",
    "print(\"Most Common Words for sentiments in the top 5%: \")\n",
    "get_topwords(dtm_bottom5).head(n=10)"
   ]
  },
  {
   "cell_type": "code",
   "execution_count": 87,
   "metadata": {},
   "outputs": [
    {
     "name": "stdout",
     "output_type": "stream",
     "text": [
      "Top 15 words in Civil Rights press releases are: \n"
     ]
    },
    {
     "data": {
      "text/plain": [
       "offic        627\n",
       "hous         620\n",
       "discrimin    541\n",
       "enforc       531\n",
       "disabl       509\n",
       "feder        475\n",
       "violat       470\n",
       "state        443\n",
       "general      408\n",
       "agreement    407\n",
       "alleg        405\n",
       "court        398\n",
       "today        388\n",
       "polic        339\n",
       "requir       324\n",
       "dtype: int64"
      ]
     },
     "execution_count": 87,
     "metadata": {},
     "output_type": "execute_result"
    },
    {
     "name": "stdout",
     "output_type": "stream",
     "text": [
      "Top 15 words in Hate Crimes press releases are: \n"
     ]
    },
    {
     "data": {
      "text/plain": [
       "victim      590\n",
       "crime       533\n",
       "prosecut    476\n",
       "hate        472\n",
       "defend      459\n",
       "sentenc     455\n",
       "charg       452\n",
       "guilti      430\n",
       "feder       426\n",
       "indict      332\n",
       "year        326\n",
       "today       323\n",
       "prison      314\n",
       "investig    314\n",
       "assault     291\n",
       "dtype: int64"
      ]
     },
     "execution_count": 87,
     "metadata": {},
     "output_type": "execute_result"
    },
    {
     "name": "stdout",
     "output_type": "stream",
     "text": [
      "Top 15 words in Project Safe Childhood press releases are: \n"
     ]
    },
    {
     "data": {
      "text/plain": [
       "child          1018\n",
       "exploit         698\n",
       "sexual          570\n",
       "safe            476\n",
       "project         472\n",
       "childhood       472\n",
       "pornographi     447\n",
       "children        416\n",
       "crimin          404\n",
       "prosecut        374\n",
       "sentenc         354\n",
       "victim          338\n",
       "ceo             317\n",
       "minor           300\n",
       "abus            283\n",
       "dtype: int64"
      ]
     },
     "execution_count": 87,
     "metadata": {},
     "output_type": "execute_result"
    }
   ],
   "source": [
    "## Part D: Press releases for all 3 topics:\n",
    "for topic in (\"Civil Rights\", \"Hate Crimes\", \"Project Safe Childhood\"):\n",
    "    \n",
    "    topic_df = doj_subset_wscore[doj_subset_wscore.topics_clean == topic]\n",
    "    \n",
    "    topic_dtm = create_dtm(list_of_strings= topic_df.processed_text,\n",
    "                        metadata = topic_df[['id', 'compound', 'topics_clean']])\n",
    "    \n",
    "    print(\"Top 15 words in \" + topic + \" press releases are: \")\n",
    "    \n",
    "    get_topwords(topic_dtm).head(n=15)"
   ]
  },
  {
   "cell_type": "markdown",
   "metadata": {},
   "source": [
    "## 2.3 Estimate a topic model using those preprocessed words (5 points)\n",
    "\n",
    "A. Going back to the preprocessed words from part 2.1, estimate a topic model with 3 topics, since you want to see if the unsupervised topic models recover different themes for each of the three manually-labeled topics (civil rights; hate crimes; project safe childhood). You have free rein over the other topic model parameters beyond the number of topics.\n",
    "\n",
    "**Hints and Resources**:\n",
    "\n",
    "- Same topic modeling resources linked to above\n",
    "- Make sure to use the `random_state` argument within the model so that the numbering of topics does not move around between runs of your code"
   ]
  },
  {
   "cell_type": "code",
   "execution_count": 57,
   "metadata": {},
   "outputs": [],
   "source": [
    "## Preparing raw data:\n",
    "\n",
    "# 1. Tokenizing words in the processed text column of scored DOJ Subset \n",
    "pr_tokens = [wordpunct_tokenize(one_text) for one_text in doj_subset_wscore.processed_text]\n",
    "\n",
    "# 2. Using genism to create a dictionary and get all unique words across press releases \n",
    "pr_dict = corpora.Dictionary(pr_tokens)\n",
    "\n",
    "# 3. Filtering out most rare and most common words:\n",
    "lb = round(doj_subset_wscore.shape[0]*0.05)\n",
    "ub = round(doj_subset_wscore.shape[0]*0.95)\n",
    "\n",
    "# 4. Applying filters to dictionary:\n",
    "pr_dict.filter_extremes(no_below = lb, no_above = ub)\n",
    "\n",
    "# 5. Applying dictionary to tokenized PRs & getting mappings\n",
    "corpus_fromdict = [pr_dict.doc2bow(one_text) for one_text in pr_tokens]\n",
    "\n",
    "#len(corpus_fromdict) # 717 rows: consistent with 717 pr of the 3 topics\n",
    "# Seeing IDs of words and counts\n",
    "# id_words = [[(pr_dict[id], count) for id, count in line] for line in corpus_fromdict]\n",
    "# print(id_words)\n",
    "\n",
    "# 6. Estimating the model: \n",
    "doj_ldamod = gensim.models.ldamodel.LdaModel(\n",
    "    corpus_fromdict, # Corpus of dictionary we just made\n",
    "    num_topics = 3, \n",
    "    id2word= pr_dict, # Dictionary of words and their IDs\n",
    "    per_word_topics = True, \n",
    "    random_state = 91988)"
   ]
  },
  {
   "cell_type": "markdown",
   "metadata": {},
   "source": [
    "### Part B:\n",
    "\n",
    "\n",
    "B. After estimating the topic model, print the top 15 words in each topic."
   ]
  },
  {
   "cell_type": "code",
   "execution_count": 58,
   "metadata": {},
   "outputs": [
    {
     "name": "stdout",
     "output_type": "stream",
     "text": [
      "Top 15 words for topic number 0:\n",
      "\n",
      " Raw version from LDA model:\n"
     ]
    },
    {
     "data": {
      "text/plain": [
       "'0.015*\"child\" + 0.013*\"victim\" + 0.011*\"sentenc\" + 0.011*\"state\" + 0.010*\"prosecut\" + 0.009*\"general\" + 0.009*\"today\" + 0.009*\"guilti\" + 0.009*\"said\" + 0.008*\"exploit\" + 0.008*\"year\" + 0.008*\"crimin\" + 0.008*\"court\" + 0.008*\"act\" + 0.008*\"feder\"'"
      ]
     },
     "execution_count": 58,
     "metadata": {},
     "output_type": "execute_result"
    },
    {
     "name": "stdout",
     "output_type": "stream",
     "text": [
      "Extracted/Cleaned list of top 15 words & associated probabilities:\n"
     ]
    },
    {
     "data": {
      "text/plain": [
       "{'child': '0.015',\n",
       " 'victim': '0.013',\n",
       " 'sentenc': '0.011',\n",
       " 'state': '0.011',\n",
       " 'prosecut': '0.010',\n",
       " 'general': '0.009',\n",
       " 'today': '0.009',\n",
       " 'guilti': '0.009',\n",
       " 'said': '0.009',\n",
       " 'exploit': '0.008',\n",
       " 'year': '0.008',\n",
       " 'crimin': '0.008',\n",
       " 'court': '0.008',\n",
       " 'act': '0.008',\n",
       " 'feder': '0.008'}"
      ]
     },
     "execution_count": 58,
     "metadata": {},
     "output_type": "execute_result"
    },
    {
     "name": "stdout",
     "output_type": "stream",
     "text": [
      "Top 15 words for topic number 1:\n",
      "\n",
      " Raw version from LDA model:\n"
     ]
    },
    {
     "data": {
      "text/plain": [
       "'0.013*\"feder\" + 0.010*\"offic\" + 0.009*\"general\" + 0.009*\"defend\" + 0.009*\"sentenc\" + 0.009*\"said\" + 0.009*\"polic\" + 0.008*\"individu\" + 0.008*\"charg\" + 0.008*\"violat\" + 0.008*\"today\" + 0.008*\"court\" + 0.008*\"investig\" + 0.008*\"prosecut\" + 0.008*\"enforc\"'"
      ]
     },
     "execution_count": 58,
     "metadata": {},
     "output_type": "execute_result"
    },
    {
     "name": "stdout",
     "output_type": "stream",
     "text": [
      "Extracted/Cleaned list of top 15 words & associated probabilities:\n"
     ]
    },
    {
     "data": {
      "text/plain": [
       "{'feder': '0.013',\n",
       " 'offic': '0.010',\n",
       " 'general': '0.009',\n",
       " 'defend': '0.009',\n",
       " 'sentenc': '0.009',\n",
       " 'said': '0.009',\n",
       " 'polic': '0.009',\n",
       " 'individu': '0.008',\n",
       " 'charg': '0.008',\n",
       " 'violat': '0.008',\n",
       " 'today': '0.008',\n",
       " 'court': '0.008',\n",
       " 'investig': '0.008',\n",
       " 'prosecut': '0.008',\n",
       " 'enforc': '0.008'}"
      ]
     },
     "execution_count": 58,
     "metadata": {},
     "output_type": "execute_result"
    },
    {
     "name": "stdout",
     "output_type": "stream",
     "text": [
      "Top 15 words for topic number 2:\n",
      "\n",
      " Raw version from LDA model:\n"
     ]
    },
    {
     "data": {
      "text/plain": [
       "'0.014*\"victim\" + 0.012*\"prosecut\" + 0.012*\"charg\" + 0.011*\"feder\" + 0.010*\"guilti\" + 0.010*\"said\" + 0.010*\"child\" + 0.010*\"crime\" + 0.010*\"hous\" + 0.010*\"enforc\" + 0.009*\"sentenc\" + 0.009*\"sexual\" + 0.008*\"offic\" + 0.008*\"investig\" + 0.008*\"today\"'"
      ]
     },
     "execution_count": 58,
     "metadata": {},
     "output_type": "execute_result"
    },
    {
     "name": "stdout",
     "output_type": "stream",
     "text": [
      "Extracted/Cleaned list of top 15 words & associated probabilities:\n"
     ]
    },
    {
     "data": {
      "text/plain": [
       "{'victim': '0.014',\n",
       " 'prosecut': '0.012',\n",
       " 'charg': '0.012',\n",
       " 'feder': '0.011',\n",
       " 'guilti': '0.010',\n",
       " 'said': '0.010',\n",
       " 'child': '0.010',\n",
       " 'crime': '0.010',\n",
       " 'hous': '0.010',\n",
       " 'enforc': '0.010',\n",
       " 'sentenc': '0.009',\n",
       " 'sexual': '0.009',\n",
       " 'offic': '0.008',\n",
       " 'investig': '0.008',\n",
       " 'today': '0.008'}"
      ]
     },
     "execution_count": 58,
     "metadata": {},
     "output_type": "execute_result"
    }
   ],
   "source": [
    "# The Regex extraction is for personal practise. \n",
    "for i in range(3):\n",
    "    print(\"Top 15 words for topic number \" + str(i) + \":\")\n",
    "    string = doj_ldamod.print_topics(num_words = 15)[i][1]\n",
    "    print(\"\\n Raw version from LDA model:\")\n",
    "    string\n",
    "    print(\"Extracted/Cleaned list of top 15 words & associated probabilities:\")\n",
    "    wrds = re.findall(r'\\\"(\\w*)\\\"', string)\n",
    "    prb = re.findall(r'0\\.0\\d\\d', string)\n",
    "    dict(zip(wrds, prb))"
   ]
  },
  {
   "cell_type": "markdown",
   "metadata": {},
   "source": [
    "## 2.4 Add topics back to main data and explore correlation between manual labels and our estimated topics (10 points)\n",
    "\n",
    "A. Extract the document-level topic probabilities. Within `get_document_topics`, use the argument `minimum_probability` = 0 to make sure all 3 topic probabilities are returned. Write an assert statement to make sure the length of the list is equal to the number of rows in the `doj_subset_wscores` dataframe"
   ]
  },
  {
   "cell_type": "code",
   "execution_count": 59,
   "metadata": {},
   "outputs": [
    {
     "data": {
      "text/plain": [
       "True"
      ]
     },
     "execution_count": 59,
     "metadata": {},
     "output_type": "execute_result"
    }
   ],
   "source": [
    "## Part A: Doc-level Probabilities \n",
    "\n",
    "# Creating document-level topic probabilities: \n",
    "doc_level = [doj_ldamod.get_document_topics(item, minimum_probability = 0) for item in corpus_fromdict]\n",
    "\n",
    "# Asserting statement - returned True:\n",
    "len(doc_level) == len(doj_subset_wscore.index)"
   ]
  },
  {
   "cell_type": "markdown",
   "metadata": {},
   "source": [
    "### Part B:\n",
    "\n",
    "B. Add the topic probabilities to the `doj_subset_wscores` dataframe as columns and create a column, `top_topic`, that reflects each document to its highest-probability topic (eg topic 1, 2, or 3)\n"
   ]
  },
  {
   "cell_type": "code",
   "execution_count": 60,
   "metadata": {},
   "outputs": [
    {
     "data": {
      "text/plain": [
       "True"
      ]
     },
     "execution_count": 60,
     "metadata": {},
     "output_type": "execute_result"
    },
    {
     "data": {
      "text/html": [
       "<div>\n",
       "<style scoped>\n",
       "    .dataframe tbody tr th:only-of-type {\n",
       "        vertical-align: middle;\n",
       "    }\n",
       "\n",
       "    .dataframe tbody tr th {\n",
       "        vertical-align: top;\n",
       "    }\n",
       "\n",
       "    .dataframe thead th {\n",
       "        text-align: right;\n",
       "    }\n",
       "</style>\n",
       "<table border=\"1\" class=\"dataframe\">\n",
       "  <thead>\n",
       "    <tr style=\"text-align: right;\">\n",
       "      <th></th>\n",
       "      <th>doc_id</th>\n",
       "      <th>topic_0</th>\n",
       "      <th>topic_1</th>\n",
       "      <th>topic_2</th>\n",
       "      <th>id</th>\n",
       "      <th>title</th>\n",
       "      <th>contents</th>\n",
       "      <th>date</th>\n",
       "      <th>topics_clean</th>\n",
       "      <th>components_clean</th>\n",
       "      <th>neg</th>\n",
       "      <th>neu</th>\n",
       "      <th>pos</th>\n",
       "      <th>compound</th>\n",
       "      <th>processed_text</th>\n",
       "      <th>toptopic</th>\n",
       "    </tr>\n",
       "  </thead>\n",
       "  <tbody>\n",
       "    <tr>\n",
       "      <th>49</th>\n",
       "      <td>10-320</td>\n",
       "      <td>0.720613</td>\n",
       "      <td>0.270698</td>\n",
       "      <td>0.008689</td>\n",
       "      <td>10-320</td>\n",
       "      <td>Mobile, Alabama, Man Pleads Guilty to Federal Civil Rights Charges Related to Desecration of Synagogue</td>\n",
       "      <td>WASHINGTON – Christian Rodney Ice, 19, of Mobile, Ala., pleaded guilty today in federal court in Mobile to one count of violating the Church Arson Act by placing threatening graffitti and neo-Nazi markings on a synagogue in Mobile, the Justice Department and the U.S. Attorney’s office for the Southern District of Alabama announced. Sentencing has been scheduled for Sept. 23, 2010. Ice faces a maximum prison sentence of one-year in prison and a fine of up to $100,000. During the plea proceedings and in documents filed in court, Ice admitted that during the late night and early morning hours of Jan. 3-4, 2009, he and an associate used spray paint to place anti-Semitic graffiti and neo-Nazi markings on the Congregation Tree of Life Messianic Synagogue in Mobile. The graffiti and markings included the German words \"Juden Raus\" (\"Jews Out\"), and the statement \"Hitler was right.\" \"Threats against religious institutions and their members will not be tolerated in this country,\" said Thomas E. Perez, Assistant Attorney General for the Civil Rights Division. \"This case should send a clear message to others who would carry out similar criminal acts that they will be brought to justice and held accountable for their actions.\" \"The U.S. Attorney’s Office will continue to use all the tools at its disposal to stamp out hate crimes and instances of bigotry,\" said Kenyen R. Brown, United States Attorney for the Southern District of Alabama. The case was investigated by special agents from the Mobile Division of the Federal Bureau of Investigation and the City of Mobile Police Department. The case is being prosecuted by Assistant U.S. Attorney George May of the U.S. Attorney’s Office for the Southern District of Alabama and Trial Attorney Donald Tunnage of the Civil Rights Division.</td>\n",
       "      <td>2010-03-26T00:00:00-04:00</td>\n",
       "      <td>Hate Crimes</td>\n",
       "      <td>Civil Rights Division; Civil Rights - Criminal Section</td>\n",
       "      <td>0.13</td>\n",
       "      <td>0.813</td>\n",
       "      <td>0.057</td>\n",
       "      <td>-0.9595</td>\n",
       "      <td>washington christian rodney mobil plead guilti today feder court mobil count violat church arson place threaten graffitti mark synagogu mobil southern alabama announc sentenc schedul face maximum prison sentenc prison fine plea proceed document file court admit late night earli morn hour associ use spray paint place graffiti mark congreg tree life messian synagogu mobil graffiti mark includ german word juden raus jew statement hitler right threat religi institut member toler countri said thoma perez general send clear messag other would carri similar crimin act brought held account action continu tool dispos stamp hate crime instanc bigotri said kenyen brown unit state southern alabama investig special agent mobil feder bureau citi mobil polic prosecut georg southern alabama donald tunnag</td>\n",
       "      <td>topic_0</td>\n",
       "    </tr>\n",
       "  </tbody>\n",
       "</table>\n",
       "</div>"
      ],
      "text/plain": [
       "    doc_id   topic_0   topic_1   topic_2      id  \\\n",
       "49  10-320  0.720613  0.270698  0.008689  10-320   \n",
       "\n",
       "                                                                                                     title  \\\n",
       "49  Mobile, Alabama, Man Pleads Guilty to Federal Civil Rights Charges Related to Desecration of Synagogue   \n",
       "\n",
       "                                                                                                                                                                                                                                                                                                                                                                                                                                                                                                                                                                                                                                                                                                                                                                                                                                                                                                                                                                                                                                                                                                                                                                                                                                                                                                                                                                                                                                                                                                                                                                                                                                                                                                                                                                                                                                                               contents  \\\n",
       "49  WASHINGTON – Christian Rodney Ice, 19, of Mobile, Ala., pleaded guilty today in federal court in Mobile to one count of violating the Church Arson Act by placing threatening graffitti and neo-Nazi markings on a synagogue in Mobile, the Justice Department and the U.S. Attorney’s office for the Southern District of Alabama announced. Sentencing has been scheduled for Sept. 23, 2010. Ice faces a maximum prison sentence of one-year in prison and a fine of up to $100,000. During the plea proceedings and in documents filed in court, Ice admitted that during the late night and early morning hours of Jan. 3-4, 2009, he and an associate used spray paint to place anti-Semitic graffiti and neo-Nazi markings on the Congregation Tree of Life Messianic Synagogue in Mobile. The graffiti and markings included the German words \"Juden Raus\" (\"Jews Out\"), and the statement \"Hitler was right.\" \"Threats against religious institutions and their members will not be tolerated in this country,\" said Thomas E. Perez, Assistant Attorney General for the Civil Rights Division. \"This case should send a clear message to others who would carry out similar criminal acts that they will be brought to justice and held accountable for their actions.\" \"The U.S. Attorney’s Office will continue to use all the tools at its disposal to stamp out hate crimes and instances of bigotry,\" said Kenyen R. Brown, United States Attorney for the Southern District of Alabama. The case was investigated by special agents from the Mobile Division of the Federal Bureau of Investigation and the City of Mobile Police Department. The case is being prosecuted by Assistant U.S. Attorney George May of the U.S. Attorney’s Office for the Southern District of Alabama and Trial Attorney Donald Tunnage of the Civil Rights Division.   \n",
       "\n",
       "                         date topics_clean  \\\n",
       "49  2010-03-26T00:00:00-04:00  Hate Crimes   \n",
       "\n",
       "                                          components_clean   neg    neu  \\\n",
       "49  Civil Rights Division; Civil Rights - Criminal Section  0.13  0.813   \n",
       "\n",
       "      pos  compound  \\\n",
       "49  0.057   -0.9595   \n",
       "\n",
       "                                                                                                                                                                                                                                                                                                                                                                                                                                                                                                                                                                                                                                                                                                                                                                                                                     processed_text  \\\n",
       "49  washington christian rodney mobil plead guilti today feder court mobil count violat church arson place threaten graffitti mark synagogu mobil southern alabama announc sentenc schedul face maximum prison sentenc prison fine plea proceed document file court admit late night earli morn hour associ use spray paint place graffiti mark congreg tree life messian synagogu mobil graffiti mark includ german word juden raus jew statement hitler right threat religi institut member toler countri said thoma perez general send clear messag other would carri similar crimin act brought held account action continu tool dispos stamp hate crime instanc bigotri said kenyen brown unit state southern alabama investig special agent mobil feder bureau citi mobil polic prosecut georg southern alabama donald tunnag   \n",
       "\n",
       "   toptopic  \n",
       "49  topic_0  "
      ]
     },
     "execution_count": 60,
     "metadata": {},
     "output_type": "execute_result"
    }
   ],
   "source": [
    "## Adding probabilities to doj_subset_wscore & creating top_topic\n",
    "\n",
    "# A \"long\" for dataframe by flattening the list\n",
    "lng = pd.DataFrame([t for lst in doc_level for t in lst], columns = ['topic', 'probability'])\n",
    "\n",
    "# Adding id:\n",
    "lng['doc_id'] = list(np.concatenate([[one_id] * 3 for one_id in doj_subset_wscore.id]).flat)\n",
    "\n",
    "# Pivot to wide format\n",
    "wid = pd.pivot_table(lng, index = ['doc_id'], columns = ['topic']).reset_index().reset_index(drop = True)\n",
    "\n",
    "# Renaming \n",
    "wid.columns = ['doc_id'] + [\"topic_\" + str(i) for i in np.arange(0, 3)]\n",
    "\n",
    "# merging\n",
    "topic_wmeta = pd.merge(wid, doj_subset_wscore, left_on = 'doc_id', right_on = 'id')\n",
    "\n",
    "# Adding highest probability top topic column\n",
    "topic_wmeta['toptopic'] = topic_wmeta[[col for col in topic_wmeta.columns if \"topic_\" in col]].idxmax(axis=1)\n",
    "\n",
    "# Just making sure we're on the right track:\n",
    "topic_wmeta.shape[0] == len(pd.unique(doj_subset.id))\n",
    "topic_wmeta.sample(n=1)"
   ]
  },
  {
   "cell_type": "markdown",
   "metadata": {},
   "source": [
    "### Part C:\n",
    "\n",
    "C. For each of the manual labels in `topics_clean` (Hate Crime, Civil Rights, Project Safe Childhood), print the breakdown of the % of documents with each top topic (so, for instance, Hate Crime has 246 documents-- if 123 of those documents are coded to topic_1, that would be 50%; and so on). \n",
    "**Hint**:    \n",
    "pd.crosstab and normalize may be helpful: https://pandas.pydata.org/pandas-docs/version/0.23/generated/pandas.crosstab.html\n",
    "\n",
    "D. Using a couple press releases as examples, write a 1-2 sentence interpretation of why some of the manual topics map on more cleanly to an estimated topic than other manual topic(s)\n",
    "\n",
    "**Resources**:\n",
    "\n",
    "- End of this code (`Additional summaries of topics and documents`) contains example of how to use `get_document_topics` and other steps to add topic probabilities back to data: \n",
    "https://github.com/rebeccajohnson88/PPOL564_slides_activities/blob/main/activities/fall_22/solutions/09_textasdata_partII_topicmodeling_solution.ipynb\n",
    "- If you're getting errors, use shape, len, and other commands to check the dimensionality of things at different steps since documents may be dropped if they contain no words post-processing "
   ]
  },
  {
   "cell_type": "code",
   "execution_count": 64,
   "metadata": {},
   "outputs": [
    {
     "name": "stdout",
     "output_type": "stream",
     "text": [
      "Numbers: \n"
     ]
    },
    {
     "data": {
      "text/html": [
       "<div>\n",
       "<style scoped>\n",
       "    .dataframe tbody tr th:only-of-type {\n",
       "        vertical-align: middle;\n",
       "    }\n",
       "\n",
       "    .dataframe tbody tr th {\n",
       "        vertical-align: top;\n",
       "    }\n",
       "\n",
       "    .dataframe thead th {\n",
       "        text-align: right;\n",
       "    }\n",
       "</style>\n",
       "<table border=\"1\" class=\"dataframe\">\n",
       "  <thead>\n",
       "    <tr style=\"text-align: right;\">\n",
       "      <th>toptopic</th>\n",
       "      <th>topic_0</th>\n",
       "      <th>topic_1</th>\n",
       "      <th>topic_2</th>\n",
       "    </tr>\n",
       "    <tr>\n",
       "      <th>topics_clean</th>\n",
       "      <th></th>\n",
       "      <th></th>\n",
       "      <th></th>\n",
       "    </tr>\n",
       "  </thead>\n",
       "  <tbody>\n",
       "    <tr>\n",
       "      <th>Civil Rights</th>\n",
       "      <td>8</td>\n",
       "      <td>229</td>\n",
       "      <td>64</td>\n",
       "    </tr>\n",
       "    <tr>\n",
       "      <th>Hate Crimes</th>\n",
       "      <td>116</td>\n",
       "      <td>5</td>\n",
       "      <td>125</td>\n",
       "    </tr>\n",
       "    <tr>\n",
       "      <th>Project Safe Childhood</th>\n",
       "      <td>159</td>\n",
       "      <td>1</td>\n",
       "      <td>0</td>\n",
       "    </tr>\n",
       "  </tbody>\n",
       "</table>\n",
       "</div>"
      ],
      "text/plain": [
       "toptopic                topic_0  topic_1  topic_2\n",
       "topics_clean                                     \n",
       "Civil Rights                  8      229       64\n",
       "Hate Crimes                 116        5      125\n",
       "Project Safe Childhood      159        1        0"
      ]
     },
     "execution_count": 64,
     "metadata": {},
     "output_type": "execute_result"
    },
    {
     "name": "stdout",
     "output_type": "stream",
     "text": [
      "Proportions: \n"
     ]
    },
    {
     "data": {
      "text/html": [
       "<div>\n",
       "<style scoped>\n",
       "    .dataframe tbody tr th:only-of-type {\n",
       "        vertical-align: middle;\n",
       "    }\n",
       "\n",
       "    .dataframe tbody tr th {\n",
       "        vertical-align: top;\n",
       "    }\n",
       "\n",
       "    .dataframe thead th {\n",
       "        text-align: right;\n",
       "    }\n",
       "</style>\n",
       "<table border=\"1\" class=\"dataframe\">\n",
       "  <thead>\n",
       "    <tr style=\"text-align: right;\">\n",
       "      <th>toptopic</th>\n",
       "      <th>topic_0</th>\n",
       "      <th>topic_1</th>\n",
       "      <th>topic_2</th>\n",
       "    </tr>\n",
       "    <tr>\n",
       "      <th>topics_clean</th>\n",
       "      <th></th>\n",
       "      <th></th>\n",
       "      <th></th>\n",
       "    </tr>\n",
       "  </thead>\n",
       "  <tbody>\n",
       "    <tr>\n",
       "      <th>Civil Rights</th>\n",
       "      <td>0.011315</td>\n",
       "      <td>0.323904</td>\n",
       "      <td>0.090523</td>\n",
       "    </tr>\n",
       "    <tr>\n",
       "      <th>Hate Crimes</th>\n",
       "      <td>0.164074</td>\n",
       "      <td>0.007072</td>\n",
       "      <td>0.176803</td>\n",
       "    </tr>\n",
       "    <tr>\n",
       "      <th>Project Safe Childhood</th>\n",
       "      <td>0.224894</td>\n",
       "      <td>0.001414</td>\n",
       "      <td>0.000000</td>\n",
       "    </tr>\n",
       "  </tbody>\n",
       "</table>\n",
       "</div>"
      ],
      "text/plain": [
       "toptopic                 topic_0   topic_1   topic_2\n",
       "topics_clean                                        \n",
       "Civil Rights            0.011315  0.323904  0.090523\n",
       "Hate Crimes             0.164074  0.007072  0.176803\n",
       "Project Safe Childhood  0.224894  0.001414  0.000000"
      ]
     },
     "execution_count": 64,
     "metadata": {},
     "output_type": "execute_result"
    }
   ],
   "source": [
    "## your code here to summarize the topic proportions for each of the topics_clean\n",
    "print(\"Numbers: \")\n",
    "pd.crosstab(index = ([topic_wmeta[\"topics_clean\"]]), \n",
    "            columns  = topic_wmeta[\"toptopic\"])\n",
    "print(\"Proportions: \")\n",
    "pd.crosstab(index = ([topic_wmeta[\"topics_clean\"]]), \n",
    "            columns  = topic_wmeta[\"toptopic\"],\n",
    "           normalize = 'all')"
   ]
  },
  {
   "cell_type": "code",
   "execution_count": 358,
   "metadata": {},
   "outputs": [
    {
     "data": {
      "text/html": [
       "<div>\n",
       "<style scoped>\n",
       "    .dataframe tbody tr th:only-of-type {\n",
       "        vertical-align: middle;\n",
       "    }\n",
       "\n",
       "    .dataframe tbody tr th {\n",
       "        vertical-align: top;\n",
       "    }\n",
       "\n",
       "    .dataframe thead th {\n",
       "        text-align: right;\n",
       "    }\n",
       "</style>\n",
       "<table border=\"1\" class=\"dataframe\">\n",
       "  <thead>\n",
       "    <tr style=\"text-align: right;\">\n",
       "      <th></th>\n",
       "      <th>doc_id</th>\n",
       "      <th>topic_0</th>\n",
       "      <th>topic_1</th>\n",
       "      <th>topic_2</th>\n",
       "      <th>id</th>\n",
       "      <th>title</th>\n",
       "      <th>contents</th>\n",
       "      <th>date</th>\n",
       "      <th>topics_clean</th>\n",
       "      <th>components_clean</th>\n",
       "      <th>neg</th>\n",
       "      <th>neu</th>\n",
       "      <th>pos</th>\n",
       "      <th>compound</th>\n",
       "      <th>processed_text</th>\n",
       "      <th>toptopic</th>\n",
       "    </tr>\n",
       "  </thead>\n",
       "  <tbody>\n",
       "    <tr>\n",
       "      <th>484</th>\n",
       "      <td>16-618</td>\n",
       "      <td>0.005893</td>\n",
       "      <td>0.989815</td>\n",
       "      <td>0.004292</td>\n",
       "      <td>16-618</td>\n",
       "      <td>United States, Mexico and Canada Join Forces to Improve Amber Alert System</td>\n",
       "      <td>The U.S. Department of Justice’s Office of Prosecutorial Development, Assistance and Training (OPDAT) and Mexico’s Office of the Attorney General (PGR) sponsored a Trinational Forum yesterday and today in Mexico City, bringing together Amber Alert Coordinators from Mexico, the United States and Canada.  The forum aimed to create mechanisms for the international coordination of Amber Alerts in order to better respond to potential cross-border cases of missing children.  Opening the forum, Mexican Attorney General Arely Gomez highlighted the importance of international cooperation in the identification of missing children, noting that the Amber Alert program “breaks the barriers of communication, time and distance,” and highlighted that the “neutralization and disruption of criminal groups and their operations cannot depend on limits created by borders or national identities.” The importance of the Amber Alert system also was recognized by U.S. Attorney General Loretta E. Lynch in her remarks yesterday at the annual National Missing Children’s Day Ceremony in Washington, D.C., where she noted the Trinational Event in Mexico City and said, “and our commitment to rescuing missing children does not stop at the border.  I am proud to say that our Department of Justice has collaborated with the Attorney General of Mexico on the development of Mexico’s AMBER Alert System, which has already resulted in the rescue of hundreds of Mexican children.” OPDAT Senior Resident Legal Advisor Ray Gattinella told Amber Alert coordinators in Mexico City, “we currently have 75 open abduction cases from the United States to Mexico and 183 open cases from Mexico to the United States.  So it makes sense that our countries would continue the collaboration on Amber Alert we started four years ago and begin coordinating on potential cross-border and interstate missing children cases.” OPDAT assisted PGR in the creation and implementation of Amber Alert Mexico based on the U.S. program in May 2012.  Since that time, Amber Alert has led to the rescue of over 350 children in Mexico.  The program has also become a central piece of OPDAT’s programming in Mexico under the Merida Initiative.  The United States immensely values the cooperation and collaboration from both Mexico and Canada in this critical area.</td>\n",
       "      <td>2016-05-26T00:00:00-04:00</td>\n",
       "      <td>Project Safe Childhood</td>\n",
       "      <td>Criminal Division</td>\n",
       "      <td>0.074</td>\n",
       "      <td>0.812</td>\n",
       "      <td>0.114</td>\n",
       "      <td>0.8542</td>\n",
       "      <td>prosecutori develop train opdat mexico general sponsor trinat forum yesterday today mexico citi bring togeth amber alert coordin mexico unit state canada forum aim creat mechan intern coordin amber alert order better respond potenti case miss children open forum mexican general are gomez highlight import intern cooper identif miss children note amber alert program break barrier communic time distanc highlight neutral disrupt crimin group oper depend limit creat border nation import amber alert system also recogn general loretta lynch remark yesterday annual nation miss children ceremoni washington note trinat event mexico citi said commit rescu miss children stop border proud collabor general mexico develop mexico amber alert system alreadi result rescu hundr mexican opdat senior resid legal advisor gattinella told amber alert coordin mexico citi current open abduct case unit state mexico open case mexico unit state make sens countri would continu collabor amber alert start four year begin coordin potenti interst miss children opdat assist creation implement amber alert mexico base program sinc time amber alert rescu children mexico program also becom central piec opdat program mexico merida initi unit state immens valu cooper collabor mexico canada critic area</td>\n",
       "      <td>topic_1</td>\n",
       "    </tr>\n",
       "  </tbody>\n",
       "</table>\n",
       "</div>"
      ],
      "text/plain": [
       "     doc_id   topic_0   topic_1   topic_2      id  \\\n",
       "484  16-618  0.005893  0.989815  0.004292  16-618   \n",
       "\n",
       "                                                                          title  \\\n",
       "484  United States, Mexico and Canada Join Forces to Improve Amber Alert System   \n",
       "\n",
       "                                                                                                                                                                                                                                                                                                                                                                                                                                                                                                                                                                                                                                                                                                                                                                                                                                                                                                                                                                                                                                                                                                                                                                                                                                                                                                                                                                                                                                                                                                                                                                                                                                                                                                                                                                                                                                                                                                                                                                                                                                                                                                                                                                                                                                                                                                                                                                                                          contents  \\\n",
       "484  The U.S. Department of Justice’s Office of Prosecutorial Development, Assistance and Training (OPDAT) and Mexico’s Office of the Attorney General (PGR) sponsored a Trinational Forum yesterday and today in Mexico City, bringing together Amber Alert Coordinators from Mexico, the United States and Canada.  The forum aimed to create mechanisms for the international coordination of Amber Alerts in order to better respond to potential cross-border cases of missing children.  Opening the forum, Mexican Attorney General Arely Gomez highlighted the importance of international cooperation in the identification of missing children, noting that the Amber Alert program “breaks the barriers of communication, time and distance,” and highlighted that the “neutralization and disruption of criminal groups and their operations cannot depend on limits created by borders or national identities.” The importance of the Amber Alert system also was recognized by U.S. Attorney General Loretta E. Lynch in her remarks yesterday at the annual National Missing Children’s Day Ceremony in Washington, D.C., where she noted the Trinational Event in Mexico City and said, “and our commitment to rescuing missing children does not stop at the border.  I am proud to say that our Department of Justice has collaborated with the Attorney General of Mexico on the development of Mexico’s AMBER Alert System, which has already resulted in the rescue of hundreds of Mexican children.” OPDAT Senior Resident Legal Advisor Ray Gattinella told Amber Alert coordinators in Mexico City, “we currently have 75 open abduction cases from the United States to Mexico and 183 open cases from Mexico to the United States.  So it makes sense that our countries would continue the collaboration on Amber Alert we started four years ago and begin coordinating on potential cross-border and interstate missing children cases.” OPDAT assisted PGR in the creation and implementation of Amber Alert Mexico based on the U.S. program in May 2012.  Since that time, Amber Alert has led to the rescue of over 350 children in Mexico.  The program has also become a central piece of OPDAT’s programming in Mexico under the Merida Initiative.  The United States immensely values the cooperation and collaboration from both Mexico and Canada in this critical area.     \n",
       "\n",
       "                          date            topics_clean   components_clean  \\\n",
       "484  2016-05-26T00:00:00-04:00  Project Safe Childhood  Criminal Division   \n",
       "\n",
       "       neg    neu    pos  compound  \\\n",
       "484  0.074  0.812  0.114    0.8542   \n",
       "\n",
       "                                                                                                                                                                                                                                                                                                                                                                                                                                                                                                                                                                                                                                                                                                                                                                                                                                                                                                                                                                                                                                                                                                                                                                                                                                                                                                                        processed_text  \\\n",
       "484  prosecutori develop train opdat mexico general sponsor trinat forum yesterday today mexico citi bring togeth amber alert coordin mexico unit state canada forum aim creat mechan intern coordin amber alert order better respond potenti case miss children open forum mexican general are gomez highlight import intern cooper identif miss children note amber alert program break barrier communic time distanc highlight neutral disrupt crimin group oper depend limit creat border nation import amber alert system also recogn general loretta lynch remark yesterday annual nation miss children ceremoni washington note trinat event mexico citi said commit rescu miss children stop border proud collabor general mexico develop mexico amber alert system alreadi result rescu hundr mexican opdat senior resid legal advisor gattinella told amber alert coordin mexico citi current open abduct case unit state mexico open case mexico unit state make sens countri would continu collabor amber alert start four year begin coordin potenti interst miss children opdat assist creation implement amber alert mexico base program sinc time amber alert rescu children mexico program also becom central piec opdat program mexico merida initi unit state immens valu cooper collabor mexico canada critic area   \n",
       "\n",
       "    toptopic  \n",
       "484  topic_1  "
      ]
     },
     "execution_count": 358,
     "metadata": {},
     "output_type": "execute_result"
    }
   ],
   "source": [
    "topic_wmeta[(topic_wmeta[\"topic_0\"] < 0.5) & (topic_wmeta[\"topics_clean\"] == \"Project Safe Childhood\")].sort_values(by = 'topic_0', ascending = False)\n",
    "# topic_wmeta.sort_values(by = 'topic_0', ascending = False)"
   ]
  },
  {
   "cell_type": "markdown",
   "metadata": {},
   "source": [
    "<div class=\"alert alert-block alert-success\">\n",
    "\n",
    "<b> Part D. Using a couple press releases as examples, write a 1-2 sentence interpretation of why some of the manual topics map on more cleanly to an estimated topic than other manual topic(s)<br> </b>\n",
    "    <br>\n",
    "<b> ID: 16-1215\n",
    "    <br> Title: Colorado and Illinois Men Sentenced to Prison for Engaging in Child Exploitation Enterprise \n",
    "    <br> Top Probability: topic_0 </b> <br>\n",
    "    This PR contains a lot of \"child\" related vocabulary, which related mostly to topic_0 -> hence, the PR is overwhelmingly topic_0. <br>\n",
    "    <b><br><br> ID: 16-618 \n",
    "        <br> Title: United States, Mexico and Canada Join Forces to Improve Amber Alert System\n",
    "        <br>  topic_0: 0.005893 </b> <br>\n",
    "    While this PR discusses Amber Alerts, it does not relate directly to child exploitation charge, which is why it isn't mapped cleanly to topic_0. \n",
    "</div>"
   ]
  },
  {
   "cell_type": "markdown",
   "metadata": {},
   "source": [
    "# 3. Extend the analysis from unigrams to bigrams (9 points)\n",
    "\n",
    "In the previous question, you found top words via a unigram representation of the text. Now, we want to see how those top words change with bigrams (pairs of words)\n",
    "\n",
    "A. Using the `doj_subset_wscore` data and the `processed_text` column (so the words after stemming/other preprocessing), create a column in the data called `processed_text_bigrams` that combines each consecutive pairs of word into a bigram separated by an underscore. Eg:\n",
    "\n",
    "\"depart reach settlem\" would become \"depart_reach reach_settlem\"\n",
    "\n",
    "Do this by writing a function `create_bigram_onedoc` that takes in a single `processed_text` string and returns a string with its bigrams structured similarly to above example\n",
    " \n",
    "**Hint**: there are many ways to solve but `zip` may be helpful: https://stackoverflow.com/questions/21303224/iterate-over-all-pairs-of-consecutive-items-in-a-list\n",
    "\n",
    "B. Print the `id`, `processed_text`, and `processed_text_bigram` columns for press release with id = 16-217"
   ]
  },
  {
   "cell_type": "code",
   "execution_count": 82,
   "metadata": {},
   "outputs": [
    {
     "data": {
      "text/html": [
       "<div>\n",
       "<style scoped>\n",
       "    .dataframe tbody tr th:only-of-type {\n",
       "        vertical-align: middle;\n",
       "    }\n",
       "\n",
       "    .dataframe tbody tr th {\n",
       "        vertical-align: top;\n",
       "    }\n",
       "\n",
       "    .dataframe thead th {\n",
       "        text-align: right;\n",
       "    }\n",
       "</style>\n",
       "<table border=\"1\" class=\"dataframe\">\n",
       "  <thead>\n",
       "    <tr style=\"text-align: right;\">\n",
       "      <th></th>\n",
       "      <th>id</th>\n",
       "      <th>processed_text</th>\n",
       "      <th>processed_text_bigrams</th>\n",
       "    </tr>\n",
       "  </thead>\n",
       "  <tbody>\n",
       "    <tr>\n",
       "      <th>313</th>\n",
       "      <td>16-217</td>\n",
       "      <td>reach comprehens settlement agreement citi miami miami polic resolv shoot offic announc princip deputi general vanita gupta head wifredo ferrer southern florida settlement approv miami citi commiss today effect agreement sign parti resolv claim stem shoot offic conduct violent crime control enforc find issu juli identifi pattern practic excess forc shoot violat fourth amend constitut citi complianc settlement monitor independ review former tampa florida polic chief jane castor settlement agreement citi implement comprehens reform ensur constitut polic support public trust settlement agreement design minim shoot effect quick investig shoot occur measur includ settlement repres renew commit citi miami chief rodolfo llane provid constitut polic miami resid protect public safeti sustain reform said princip deputi general gupta agreement help strengthen relationship communiti serv improv account offic fire weapon unlaw provid communiti particip enforc today agreement result joint effort citi miami ensur miami polic continu effort make communiti safe protect sacr constitut citizen said ferrer oversight communic agreement seek make perman posit chang former chief orosa chief llane made applaud citi commiss settlement agreement build upon import reform implement citi sinc issu find includ conduct attorney staff special litig section southern florida</td>\n",
       "      <td>reach_comprehens comprehens_settlement settlement_agreement agreement_citi citi_miami miami_miami miami_polic polic_resolv resolv_shoot shoot_offic offic_announc announc_princip princip_deputi deputi_general general_vanita vanita_gupta gupta_head head_wifredo wifredo_ferrer ferrer_southern southern_florida florida_settlement settlement_approv approv_miami miami_citi citi_commiss commiss_today today_effect effect_agreement agreement_sign sign_parti parti_resolv resolv_claim claim_stem stem_shoot shoot_offic offic_conduct conduct_violent violent_crime crime_control control_enforc enforc_find find_issu issu_juli juli_identifi identifi_pattern pattern_practic practic_excess excess_forc forc_shoot shoot_violat violat_fourth fourth_amend amend_constitut constitut_citi citi_complianc complianc_settlement settlement_monitor monitor_independ independ_review review_former former_tampa tampa_florida florida_polic polic_chief chief_jane jane_castor castor_settlement settlement_agreement agreement_citi citi_implement implement_comprehens comprehens_reform reform_ensur ensur_constitut constitut_polic polic_support support_public public_trust trust_settlement settlement_agreement agreement_design design_minim minim_shoot shoot_effect effect_quick quick_investig investig_shoot shoot_occur occur_measur measur_includ includ_settlement settlement_repres repres_renew renew_commit commit_citi citi_miami miami_chief chief_rodolfo rodolfo_llane llane_provid provid_constitut constitut_polic polic_miami miami_resid resid_protect protect_public public_safeti safeti_sustain sustain_reform reform_said said_princip princip_deputi deputi_general general_gupta gupta_agreement agreement_help help_strengthen strengthen_relationship relationship_communiti communiti_serv serv_improv improv_account account_offic offic_fire fire_weapon weapon_unlaw unlaw_provid provid_communiti communiti_particip particip_enforc enforc_today today_agreement agreement_result result_joint joint_effort effort_citi citi_miami miami_ensur ensur_miami miami_polic polic_continu continu_effort effort_make make_communiti communiti_safe safe_protect protect_sacr sacr_constitut constitut_citizen citizen_said said_ferrer ferrer_oversight oversight_communic communic_agreement agreement_seek seek_make make_perman perman_posit posit_chang chang_former former_chief chief_orosa orosa_chief chief_llane llane_made made_applaud applaud_citi citi_commiss commiss_settlement settlement_agreement agreement_build build_upon upon_import import_reform reform_implement implement_citi citi_sinc sinc_issu issu_find find_includ includ_conduct conduct_attorney attorney_staff staff_special special_litig litig_section section_southern southern_florida</td>\n",
       "    </tr>\n",
       "  </tbody>\n",
       "</table>\n",
       "</div>"
      ],
      "text/plain": [
       "         id  \\\n",
       "313  16-217   \n",
       "\n",
       "                                                                                                                                                                                                                                                                                                                                                                                                                                                                                                                                                                                                                                                                                                                                                                                                                                                                                                                                                                                                                                                                                                                                                                                                                                                                                                                                                                                                          processed_text  \\\n",
       "313  reach comprehens settlement agreement citi miami miami polic resolv shoot offic announc princip deputi general vanita gupta head wifredo ferrer southern florida settlement approv miami citi commiss today effect agreement sign parti resolv claim stem shoot offic conduct violent crime control enforc find issu juli identifi pattern practic excess forc shoot violat fourth amend constitut citi complianc settlement monitor independ review former tampa florida polic chief jane castor settlement agreement citi implement comprehens reform ensur constitut polic support public trust settlement agreement design minim shoot effect quick investig shoot occur measur includ settlement repres renew commit citi miami chief rodolfo llane provid constitut polic miami resid protect public safeti sustain reform said princip deputi general gupta agreement help strengthen relationship communiti serv improv account offic fire weapon unlaw provid communiti particip enforc today agreement result joint effort citi miami ensur miami polic continu effort make communiti safe protect sacr constitut citizen said ferrer oversight communic agreement seek make perman posit chang former chief orosa chief llane made applaud citi commiss settlement agreement build upon import reform implement citi sinc issu find includ conduct attorney staff special litig section southern florida   \n",
       "\n",
       "                                                                                                                                                                                                                                                                                                                                                                                                                                                                                                                                                                                                                                                                                                                                                                                                                                                                                                                                                                                                                                                                                                                                                                                                                                                                                                                                                                                                                                                                                                                                                                                                                                                                                                                                                                                                                                                                                                                                                                                                                                                                                                                                                                                                                                                                                                                                                                                                                                                                                                                                                                                                                                                                                                                                                                                                         processed_text_bigrams  \n",
       "313  reach_comprehens comprehens_settlement settlement_agreement agreement_citi citi_miami miami_miami miami_polic polic_resolv resolv_shoot shoot_offic offic_announc announc_princip princip_deputi deputi_general general_vanita vanita_gupta gupta_head head_wifredo wifredo_ferrer ferrer_southern southern_florida florida_settlement settlement_approv approv_miami miami_citi citi_commiss commiss_today today_effect effect_agreement agreement_sign sign_parti parti_resolv resolv_claim claim_stem stem_shoot shoot_offic offic_conduct conduct_violent violent_crime crime_control control_enforc enforc_find find_issu issu_juli juli_identifi identifi_pattern pattern_practic practic_excess excess_forc forc_shoot shoot_violat violat_fourth fourth_amend amend_constitut constitut_citi citi_complianc complianc_settlement settlement_monitor monitor_independ independ_review review_former former_tampa tampa_florida florida_polic polic_chief chief_jane jane_castor castor_settlement settlement_agreement agreement_citi citi_implement implement_comprehens comprehens_reform reform_ensur ensur_constitut constitut_polic polic_support support_public public_trust trust_settlement settlement_agreement agreement_design design_minim minim_shoot shoot_effect effect_quick quick_investig investig_shoot shoot_occur occur_measur measur_includ includ_settlement settlement_repres repres_renew renew_commit commit_citi citi_miami miami_chief chief_rodolfo rodolfo_llane llane_provid provid_constitut constitut_polic polic_miami miami_resid resid_protect protect_public public_safeti safeti_sustain sustain_reform reform_said said_princip princip_deputi deputi_general general_gupta gupta_agreement agreement_help help_strengthen strengthen_relationship relationship_communiti communiti_serv serv_improv improv_account account_offic offic_fire fire_weapon weapon_unlaw unlaw_provid provid_communiti communiti_particip particip_enforc enforc_today today_agreement agreement_result result_joint joint_effort effort_citi citi_miami miami_ensur ensur_miami miami_polic polic_continu continu_effort effort_make make_communiti communiti_safe safe_protect protect_sacr sacr_constitut constitut_citizen citizen_said said_ferrer ferrer_oversight oversight_communic communic_agreement agreement_seek seek_make make_perman perman_posit posit_chang chang_former former_chief chief_orosa orosa_chief chief_llane llane_made made_applaud applaud_citi citi_commiss commiss_settlement settlement_agreement agreement_build build_upon upon_import import_reform reform_implement implement_citi citi_sinc sinc_issu issu_find find_includ includ_conduct conduct_attorney attorney_staff staff_special special_litig litig_section section_southern southern_florida   "
      ]
     },
     "execution_count": 82,
     "metadata": {},
     "output_type": "execute_result"
    }
   ],
   "source": [
    "\n",
    "## Creating function\n",
    "def create_bigram_onedoc(raw):\n",
    "    \n",
    "    raw = word_tokenize(raw)\n",
    "    # Initiating empty string\n",
    "    bigram = \"\"\n",
    "    \n",
    "    # Making pairs, joining them and appending them to the empty string\n",
    "    for first, second in zip(raw, raw[1:]):\n",
    "        bigram = bigram + first + \"_\" + second + \" \"\n",
    "    \n",
    "    # Returning bigram\n",
    "    return bigram\n",
    "\n",
    "# Applying function\n",
    "doj_subset_wscore[\"processed_text_bigrams\"] = [create_bigram_onedoc(raw) for raw in doj_subset_wscore.processed_text]\n",
    "\n",
    "# Subsetting:\n",
    "doj_subset_wscore[[\"id\", \"processed_text\",\"processed_text_bigrams\"]][doj_subset_wscore[\"id\"] == \"16-217\"]"
   ]
  },
  {
   "cell_type": "markdown",
   "metadata": {},
   "source": [
    "### Part C & D:\n",
    "\n",
    "C. Use the create_dtm function and the `processed_text_bigrams` column to create a document-term matrix (`dtm_bigram`) with these bigrams. Keep the following three columns in the data: `id`, `topics_clean`, and `compound` \n",
    "\n",
    "D. Print the \n",
    " (1) dimensions of the `dtm` matrix from question 2.2  and \n",
    " (2) the dimensions of the `dtm_bigram` matrix. Comment on why the bigram matrix has more dimensions than the unigram matrix "
   ]
  },
  {
   "cell_type": "markdown",
   "metadata": {},
   "source": [
    "E. Find and print the 10 most prevelant bigrams for each of the three topics_clean using the `get_topwords` function from 2.2\n"
   ]
  },
  {
   "cell_type": "code",
   "execution_count": 89,
   "metadata": {},
   "outputs": [
    {
     "name": "stdout",
     "output_type": "stream",
     "text": [
      "Dimensions of unigram DTM: (717, 6760)\n",
      "Dimensions of bigram DTM: (717, 71334)\n"
     ]
    }
   ],
   "source": [
    "## Parts C & D:\n",
    "dtm_bigram = create_dtm(list_of_strings= doj_subset_wscore[\"processed_text_bigrams\"],\n",
    "                metadata = doj_subset_wscore[['id', 'compound', 'topics_clean']])\n",
    "\n",
    "print(\"Dimensions of unigram DTM: \" + str(dtm_subset_wscores.shape))\n",
    "print(\"Dimensions of bigram DTM: \" + str(dtm_bigram.shape))"
   ]
  },
  {
   "cell_type": "markdown",
   "metadata": {},
   "source": [
    "<div class=\"alert alert-block alert-success\">\n",
    "\n",
    "<b>Comments for part E:<br> </b>\n",
    "    <br>\n",
    "    Each word would occur only once, but it can be a part of multiple pairings e.g. <b> offic </b> would only count once, but could be a part of multiple pairings e.g.:\n",
    "    <br>\n",
    "    offic_field<br>\n",
    "    offic_pay<br>\n",
    "    offic_rant<br>\n",
    "    offic_merc<br>\n",
    "   \n",
    "</div>"
   ]
  },
  {
   "cell_type": "code",
   "execution_count": 92,
   "metadata": {},
   "outputs": [
    {
     "name": "stdout",
     "output_type": "stream",
     "text": [
      "Top 10 pairings in Civil Rights press releases are: \n"
     ]
    },
    {
     "data": {
      "text/plain": [
       "fair_hous         227\n",
       "deputi_general    221\n",
       "princip_deputi    221\n",
       "vanita_gupta      202\n",
       "gupta_head        200\n",
       "general_vanita    199\n",
       "unit_state        152\n",
       "nation_origin     141\n",
       "consent_decre     127\n",
       "announc_today     122\n",
       "dtype: int64"
      ]
     },
     "execution_count": 92,
     "metadata": {},
     "output_type": "execute_result"
    },
    {
     "name": "stdout",
     "output_type": "stream",
     "text": [
      "Top 10 pairings in Hate Crimes press releases are: \n"
     ]
    },
    {
     "data": {
      "text/plain": [
       "hate_crime       368\n",
       "plead_guilti     275\n",
       "year_prison      160\n",
       "special_agent    117\n",
       "thoma_perez      111\n",
       "grand_juri       101\n",
       "perez_general     95\n",
       "unit_state        87\n",
       "act_general       85\n",
       "burn_cross        83\n",
       "dtype: int64"
      ]
     },
     "execution_count": 92,
     "metadata": {},
     "output_type": "execute_result"
    },
    {
     "name": "stdout",
     "output_type": "stream",
     "text": [
      "Top 10 pairings in Project Safe Childhood press releases are: \n"
     ]
    },
    {
     "data": {
      "text/plain": [
       "project_safe         472\n",
       "safe_childhood       472\n",
       "child_pornographi    445\n",
       "child_exploit        279\n",
       "sexual_exploit       223\n",
       "exploit_children     199\n",
       "plead_guilti         197\n",
       "child_sexual         175\n",
       "exploit_obscen       175\n",
       "obscen_section       174\n",
       "dtype: int64"
      ]
     },
     "execution_count": 92,
     "metadata": {},
     "output_type": "execute_result"
    }
   ],
   "source": [
    "## Part D: Press releases for all 3 topics:\n",
    "for topic in (\"Civil Rights\", \"Hate Crimes\", \"Project Safe Childhood\"):\n",
    "    \n",
    "    topic_df = doj_subset_wscore[doj_subset_wscore.topics_clean == topic]\n",
    "    \n",
    "    topic_dtm = create_dtm(list_of_strings= topic_df.processed_text_bigrams,\n",
    "                        metadata = topic_df[['id', 'compound', 'topics_clean']])\n",
    "    \n",
    "    print(\"Top 10 pairings in \" + topic + \" press releases are: \")\n",
    "    \n",
    "    get_topwords(topic_dtm).head(n=10)"
   ]
  },
  {
   "cell_type": "markdown",
   "metadata": {},
   "source": [
    "# 4. Optional extra credit 1 (1 point)\n",
    "\n",
    "You notice that the pharmaceutical kickbacks press release we analyzed in question 1 was for an indictment, and that in the original data, there's not a clear label for whether a press release outlines an indictment (charging someone with a crime), a conviction (convicting them after that charge either via a settlement or trial), or a sentencing (how many years of prison or supervised release a defendant is sentenced to after their conviction).\n",
    "\n",
    "You want to see if you can identify pairs of press releases where one press release is from one stage (e.g., indictment) and another is from a different stage (e.g., a sentencing).\n",
    "\n",
    "You decide that one way to approach is to find the pairwise string similarity between each of the processed press releases in `doj_subset`. There are many ways to do this, so Google for some approaches, focusing on ones that work well for entire documents rather than small strings.\n",
    "\n",
    "Find the top two pairs (so four press releases total)-- do they seem like different stages of the same crime or just press releases covering similar crimes?"
   ]
  },
  {
   "cell_type": "code",
   "execution_count": 237,
   "metadata": {},
   "outputs": [
    {
     "data": {
      "text/html": [
       "<div>\n",
       "<style scoped>\n",
       "    .dataframe tbody tr th:only-of-type {\n",
       "        vertical-align: middle;\n",
       "    }\n",
       "\n",
       "    .dataframe tbody tr th {\n",
       "        vertical-align: top;\n",
       "    }\n",
       "\n",
       "    .dataframe thead th {\n",
       "        text-align: right;\n",
       "    }\n",
       "</style>\n",
       "<table border=\"1\" class=\"dataframe\">\n",
       "  <thead>\n",
       "    <tr style=\"text-align: right;\">\n",
       "      <th></th>\n",
       "      <th>focal_content</th>\n",
       "      <th>similar_content</th>\n",
       "      <th>similarity_ratio</th>\n",
       "    </tr>\n",
       "  </thead>\n",
       "  <tbody>\n",
       "    <tr>\n",
       "      <th>0</th>\n",
       "      <td>A Church Hill, Maryland, resident was sentenced today to 20 years in prison to be followed by a lifetime term of supervised release for enticement of a minor to engage in sexual activity and attempting to transfer obscene materials to a minor, announced Acting Assistant Attorney General Kenneth A. Blanco of the Justice Department’s Criminal Division and Acting U.S. Attorney Benjamin G. Greenberg of the Southern District of Florida.    Lee Robert Moore, 38, pleaded guilty March 1, 2017, before U.S. District Judge Daniel T. K. Hurley of the Southern District of Florida. Moore was employed by the U.S. Secret Service-Uniformed Division and was assigned to the White House at the time of his arrest on Nov. 9, 2015, and has remained in custody since that time. Moore has since been terminated from his Secret Service position.   According to admissions made in connection with his plea, Moore maintained a profile on the social media application “Meet24,” which provides a mobile-based platform for exchanging digital images, as well as voice and text messages. Delaware State Police Detectives with the Delaware Child Predator Task Force created a profile on this site, posing as a 14-year-old girl, with whom Moore engaged in a number of online chat sessions, via the “Meet24” and “Kik” mobile apps over a two-month period, including while Moore was at work. A number of the online chats between Moore and the undercover officers posing as a female minor were sexual in nature and, on several occasions, Moore sent pictures of himself, including one sexually explicit image.    According to the plea documents, after his arrest, law enforcement discovered that Moore had communicated with a minor in Florida. Moore admitted that in those communications, he sent sexually explicit images of himself and enticed the minor to send sexually explicit photos of herself as well. Moore engaged in the same type of behavior with a 14-year-old girl in Texas and another 17-year-old girl in Missouri. Moore requested that his federal charges in Delaware be transferred to the Southern District of Florida so that he could plead guilty to both charges at one time.   U.S. Immigration and Customs Enforcement’s Homeland Security Investigations and the Delaware Child Predator Task Force investigated the case. Trial Attorney Austin M. Berry of the Criminal Division’s Child Exploitation and Obscenity Section (CEOS) and Assistant U.S. Attorney Corey Steinberg of the Southern District of Florida prosecuted the case, with assistance from the U.S. Attorney’s Office for the District of Delaware.    This case was brought as part of Project Safe Childhood, a nationwide initiative to combat the growing epidemic of child sexual exploitation and abuse, launched in May 2006 by the Department of Justice. Led by U.S. Attorneys’ Offices and CEOS, Project Safe Childhood marshals federal, state and local resources to better locate, apprehend and prosecute individuals who exploit children via the Internet, as well as to identify and rescue victims. For more information about Project Safe Childhood, please visit http://www.justice.gov/psc.</td>\n",
       "      <td>A Church Hill, Maryland resident pleaded guilty today in federal court to one count of enticement of a minor to engage in sexual activity and one count of attempting to transfer obscene materials to a minor, announced Acting Assistant Attorney General Kenneth A. Blanco of the Justice Department’s Criminal Division and U.S. Attorney Wifredo A. Ferrer of the Southern District of Florida.   Lee Robert Moore, 38, pleaded guilty today before U.S. District Judge Daniel T. K. Hurley of the Southern District of Florida.  Moore was employed by the U.S. Secret Service-Uniformed Division and was assigned to the White House at the time of his arrest on Nov. 9, 2015, and has remained in custody since that time.  Moore has since been terminated from his Secret Service position.   According to admissions made in connection with his plea, Moore maintained a profile on the social media application “Meet24,” which provides a mobile-based platform for exchanging digital images, as well as voice and text messages.  Delaware State Police Detectives with the Delaware Child Predator Task Force created a profile on this site, posing as a 14-year-old girl, with whom Moore engaged in a number of online chat sessions, via the “Meet24” and “Kik” mobile apps over a two-month period, including while Moore was at work.  A number of the online chats between Moore and the undercover officers posing as a female minor were sexual in nature and, on several occasions, Moore sent pictures of himself, including one sexually explicit image.   According to the plea documents, after his arrest, law enforcement discovered that Moore had communicated with a minor in Florida.  Moore admitted that in those communications, he sent sexually explicit images of himself and enticed the minor to send sexually explicit photos of herself as well.  Moore engaged in the same type of behavior with a 14-year-old girl in Texas and another 17-year-old girl in Missouri.  Moore requested that his federal charges in Delaware be transferred to the Southern District of Florida so that he could plead guilty to both charges at one time. U.S. Immigration and Customs Enforcement’s Homeland Security Investigations and the Delaware Child Predator Task Force investigated the case.  Trial Attorney Austin M. Berry of the Criminal Division’s Child Exploitation and Obscenity Section (CEOS) and Assistant U.S. Attorney Corey Steinberg of the Southern District of Florida are prosecuting the case.   This case was brought as part of Project Safe Childhood, a nationwide initiative to combat the growing epidemic of child sexual exploitation and abuse, launched in May 2006 by the Department of Justice.  Led by U.S. Attorneys’ Offices and CEOS, Project Safe Childhood marshals federal, state and local resources to better locate, apprehend and prosecute individuals who exploit children via the Internet, as well as to identify and rescue victims.  For more information about Project Safe Childhood, please visit http://www.justice.gov/psc.</td>\n",
       "      <td>0.991230</td>\n",
       "    </tr>\n",
       "    <tr>\n",
       "      <th>0</th>\n",
       "      <td>A Weed, California man pleaded guilty today to conspiracy to produce child pornography for his participation in a website that was operated for the purpose of coercing and enticing minors as young as eight years old to engage in sexually explicit conduct on web camera.   Acting Assistant Attorney General Kenneth A. Blanco of the Justice Department’s Criminal Division; U.S. Attorney Dana J. Boente of the Eastern District of Virginia; and Assistant Director Stephen E. Richardson of the FBI’s Criminal Investigative Divisionmade the announcement. Jeffery Van Dyke, 46, was charged on April 4, 2016, and pleaded guilty before U.S. District Judge T.S. Ellis III of the Eastern District of Virginia.  Sentencing is set for June 9. According to admissions made in connection with the plea agreement, members of the conspiracy created false profiles on social networking sites popular with children posing as young teenagers to lure children to two websites they controlled.  Once on the conspirators’ websites, Van Dyke admitted that members of the conspiracy showed the children pre-recorded videos of prior minor victims, often engaging in sexually explicit conduct, to make the new victims think that they were chatting with another minor.  Van Dyke further admitted that conspirators used these videos to coerce and entice children to engage in sexually explicit activity on their own web cameras, which could be viewed live by other members without the victim’s knowledge and which the website automatically recorded and made available for download later.  Van Dyke admitted that he linked minors to one of the websites and chatted with them there in furtherance of the conspiracy.  The defendant also admitted that one of the websites ranked the efforts of the members to successfully coerce and entice children to engage in sexually explicit conduct on live web camera.  Law enforcement agencies have disabled both websites. VCACS special agents led the investigation with the assistance of the FBI’s Operation Rescue Me and the FBI’s Digital Analysis and Research Center and the Office of Victim Assistance.  The South Africa Police Service, Family Violence, Child Protection and Sexual Offenses, Gauteng; Royal Canadian Mounted Police, National Child Exploitation Coordination Centre; the Dutch Police Service Agency, KLPD; and the Australian Federal Police, Child Protection Operations, Sydney were active partners in Operation Subterfuge, a multinational investigation coordinated by members of the FBI’s Violent Crimes Against Children International Task Force.  Trial Attorney Lauren Britsch of the Criminal Division’s Child Exploitation and Obscenity Section (CEOS) and Assistant U.S. Attorney Whitney Russell of the Eastern District of Virginia prosecuted the case.   This case was brought as part of Project Safe Childhood, a nationwide initiative to combat the growing epidemic of child sexual exploitation and abuse launched in May 2006 by the Department of Justice.  Led by U.S. Attorneys’ Offices and CEOS, Project Safe Childhood marshals federal, state and local resources to better locate, apprehend and prosecute individuals who exploit children via the Internet, as well as to identify and rescue victims.  For more information about Project Safe Childhood, please visit www.justice.gov/psc.</td>\n",
       "      <td>A Weed, California man was sentenced to 218 months in prison for conspiracy to produce child pornography based on his participation in a website that was operated for the purpose of coercing and enticing minors as young as eight years old to engage in sexually explicit conduct on web camera. Acting Assistant Attorney General Kenneth A. Blanco of the Justice Department’s Criminal Division; U.S. Attorney Dana J. Boente of the Eastern District of Virginia; and Section Chief John J. Brosnan of the FBI’s Violent Crimes Against Children Section (VCACS) made the announcement. Jeffery Van Dyke, 46, was charged on April 4, 2016, and pleaded guilty before U.S. District Judge T.S. Ellis III of the Eastern District of Virginia on March 10, 2017. According to admissions made in connection with the plea agreement, members of the conspiracy created false profiles on social networking sites popular with children posing as young teenagers to lure children to two websites they controlled. Once on the conspirators’ websites, Van Dyke admitted that members of the conspiracy showed the children pre-recorded videos of prior minor victims, often engaging in sexually explicit conduct, to make the new victims think that they were chatting with another minor. Van Dyke further admitted that conspirators used these videos to coerce and entice children to engage in sexually explicit activity on their own web cameras, which could be viewed live by other members without the victim’s knowledge and which the website automatically recorded and made available for download later. Van Dyke admitted that he linked minors to one of the websites and chatted with them there in furtherance of the conspiracy. The defendant also admitted that one of the websites ranked the efforts of the members to successfully coerce and entice children to engage in sexually explicit conduct on live web camera. Law enforcement agencies have disabled both websites. Van Dyke’s sentence will be followed by 15 years of supervised release and he was further ordered to pay $15, 215 in restitution. VCACS special agents led the investigation with the assistance of the FBI’s Operation Rescue Me and the FBI’s Digital Analysis and Research Center and the Office of Victim Assistance. The South Africa Police Service, Family Violence, Child Protection and Sexual Offenses, Gauteng; Royal Canadian Mounted Police, National Child Exploitation Coordination Centre; the Dutch Police Service Agency, KLPD; and the Australian Federal Police, Child Protection Operations, Sydney were active partners in Operation Subterfuge, a multinational investigation coordinated by members of the FBI’s Violent Crimes Against Children International Task Force. Trial Attorney Lauren Britsch of the Criminal Division’s Child Exploitation and Obscenity Section (CEOS) and Assistant U.S. Attorney Whitney Russell of the Eastern District of Virginia prosecuted the case. The Criminal Division’s Office of International Affairs provided substantial assistance in this matter. This case was brought as part of Project Safe Childhood, a nationwide initiative to combat the growing epidemic of child sexual exploitation and abuse launched in May 2006 by the Department of Justice. Led by U.S. Attorneys’ Offices and CEOS, Project Safe Childhood marshals federal, state and local resources to better locate, apprehend and prosecute individuals who exploit children via the Internet, as well as to identify and rescue victims. For more information about Project Safe Childhood, please visit www.justice.gov/psc.</td>\n",
       "      <td>0.989618</td>\n",
       "    </tr>\n",
       "    <tr>\n",
       "      <th>0</th>\n",
       "      <td>A 25-year-old man who coerced sexually explicit photos and videos from a minor and distributed them on the Internet pleaded guilty on Oct. 2, to coercion and enticement of a minor to engage in sexual activity.    Acting Assistant Attorney General Kenneth A. Blanco of the Justice Department’s Criminal Division and Acting U.S. Attorney David C. Weiss of the District of Delaware made the announcement. Justin R. Gulisano of Newark, New York, was charged on March 10, 2016, and pleaded guilty before U.S. District Judge Leonard P. Stark of the District of Delaware.   According to admissions made in connection with the plea agreement, Gulisano met the victim online when the victim was 15 years old.  Gulisano began requesting and received sexually explicit images and videos from the victim.  Gulisano posted the sexually explicit videos of the victim on a pornography website where they were downloaded, posted, and reposted by other viewers to additional pornographic websites.  When the victim refused to make and send additional images and videos, Gulisano responded by threatening the victim on more than one occasion.  He threatened to post the victim’s images and videos on the Internet again, he threatened to share the images and videos with the victim’s brother, and he threatened the victim’s life.  U.S. Immigration and Customs Enforcement’s Homeland Security Investigations and the Delaware Child Predator Task Force investigated the case. Trial Attorney Lauren Britsch of the Criminal Division’s Child Exploitation and Obscenity Section (CEOS) and Assistant U.S. Attorney Graham Robinson of the District of Delaware prosecuted the case.   This case was brought as part of Project Safe Childhood, a nationwide initiative to combat the growing epidemic of child sexual exploitation and abuse launched in May 2006 by the Department of Justice. Led by U.S. Attorneys’ Offices and CEOS, Project Safe Childhood marshals federal, state and local resources to better locate, apprehend and prosecute individuals who exploit children via the Internet, as well as to identify and rescue victims. For more information about Project Safe Childhood, please visit www.justice.gov/psc.</td>\n",
       "      <td>A man who solicited sexually explicit photos and videos from a minor and distributed them on the Internet was sentenced to 200 months in prison followed by 10 years of supervised release after pleading guilty to coercion and enticement of a minor to engage in sexual activity.     Acting Assistant Attorney General John P. Cronan of the Justice Department’s Criminal Division and U.S. Attorney David C. Weiss of the District of Delaware made the announcement after sentencing by U.S. District Judge Leonard P. Stark of the District of Delaware.   Justin R. Gulisano aka Emma Alexander Gulisano, 26, of Newark, New York, was charged on March 10, 2016, and pleaded guilty on Sept. 28, 2017.    According to admissions made in connection with the plea agreement, Gulisano met the victim online when the victim was 15 years old. Gulisano began requesting and received sexually explicit images and videos from the victim. Gulisano posted the sexually explicit videos of the victim on a pornography website where they were downloaded, posted, and reposted by other viewers to additional pornographic websites.  Eventually, the victim refused to make and send additional images and videos.  Mr. Gulisano responded by threatening the victim on more than one occasion.  He threatened to post the victim’s images and videos on the Internet again, he threatened to share the images and videos with the victim’s brother, and he threatened the victim’s life.   U.S. Immigration and Customs Enforcement’s Homeland Security Investigations and the Delaware Child Predator Task Force investigated the case.   Trial Attorney Lauren Britsch of the Criminal Division’s Child Exploitation and Obscenity Section (CEOS) and Assistant U.S. Attorney Graham L. Robinson of the District of Delaware prosecuted the case.   This case was brought as part of Project Safe Childhood, a nationwide initiative to combat the growing epidemic of child sexual exploitation and abuse launched in May 2006 by the Department of Justice. Led by U.S. Attorneys’ Offices and CEOS, Project Safe Childhood marshals federal, state and local resources to better locate, apprehend and prosecute individuals who exploit children via the Internet, as well as to identify and rescue victims. For more information about Project Safe Childhood, please visit www.justice.gov/psc.</td>\n",
       "      <td>0.989118</td>\n",
       "    </tr>\n",
       "  </tbody>\n",
       "</table>\n",
       "</div>"
      ],
      "text/plain": [
       "                                                                                                                                                                                                                                                                                                                                                                                                                                                                                                                                                                                                                                                                                                                                                                                                                                                                                                                                                                                                                                                                                                                                                                                                                                                                                                                                                                                                                                                                                                                                                                                                                                                                                                                                                                                                                                                                                                                                                                                                                                                                                                                                                                                                                                                                                                                                                                                                                                                                                                                                                                                                                                                                                                                                                                                                                                                                                                                                                                                                                                                                                                                                                                                                                                                                                                                                                                                                                                       focal_content  \\\n",
       "0                                                                                                                                                                                          A Church Hill, Maryland, resident was sentenced today to 20 years in prison to be followed by a lifetime term of supervised release for enticement of a minor to engage in sexual activity and attempting to transfer obscene materials to a minor, announced Acting Assistant Attorney General Kenneth A. Blanco of the Justice Department’s Criminal Division and Acting U.S. Attorney Benjamin G. Greenberg of the Southern District of Florida.    Lee Robert Moore, 38, pleaded guilty March 1, 2017, before U.S. District Judge Daniel T. K. Hurley of the Southern District of Florida. Moore was employed by the U.S. Secret Service-Uniformed Division and was assigned to the White House at the time of his arrest on Nov. 9, 2015, and has remained in custody since that time. Moore has since been terminated from his Secret Service position.   According to admissions made in connection with his plea, Moore maintained a profile on the social media application “Meet24,” which provides a mobile-based platform for exchanging digital images, as well as voice and text messages. Delaware State Police Detectives with the Delaware Child Predator Task Force created a profile on this site, posing as a 14-year-old girl, with whom Moore engaged in a number of online chat sessions, via the “Meet24” and “Kik” mobile apps over a two-month period, including while Moore was at work. A number of the online chats between Moore and the undercover officers posing as a female minor were sexual in nature and, on several occasions, Moore sent pictures of himself, including one sexually explicit image.    According to the plea documents, after his arrest, law enforcement discovered that Moore had communicated with a minor in Florida. Moore admitted that in those communications, he sent sexually explicit images of himself and enticed the minor to send sexually explicit photos of herself as well. Moore engaged in the same type of behavior with a 14-year-old girl in Texas and another 17-year-old girl in Missouri. Moore requested that his federal charges in Delaware be transferred to the Southern District of Florida so that he could plead guilty to both charges at one time.   U.S. Immigration and Customs Enforcement’s Homeland Security Investigations and the Delaware Child Predator Task Force investigated the case. Trial Attorney Austin M. Berry of the Criminal Division’s Child Exploitation and Obscenity Section (CEOS) and Assistant U.S. Attorney Corey Steinberg of the Southern District of Florida prosecuted the case, with assistance from the U.S. Attorney’s Office for the District of Delaware.    This case was brought as part of Project Safe Childhood, a nationwide initiative to combat the growing epidemic of child sexual exploitation and abuse, launched in May 2006 by the Department of Justice. Led by U.S. Attorneys’ Offices and CEOS, Project Safe Childhood marshals federal, state and local resources to better locate, apprehend and prosecute individuals who exploit children via the Internet, as well as to identify and rescue victims. For more information about Project Safe Childhood, please visit http://www.justice.gov/psc.   \n",
       "0  A Weed, California man pleaded guilty today to conspiracy to produce child pornography for his participation in a website that was operated for the purpose of coercing and enticing minors as young as eight years old to engage in sexually explicit conduct on web camera.   Acting Assistant Attorney General Kenneth A. Blanco of the Justice Department’s Criminal Division; U.S. Attorney Dana J. Boente of the Eastern District of Virginia; and Assistant Director Stephen E. Richardson of the FBI’s Criminal Investigative Divisionmade the announcement. Jeffery Van Dyke, 46, was charged on April 4, 2016, and pleaded guilty before U.S. District Judge T.S. Ellis III of the Eastern District of Virginia.  Sentencing is set for June 9. According to admissions made in connection with the plea agreement, members of the conspiracy created false profiles on social networking sites popular with children posing as young teenagers to lure children to two websites they controlled.  Once on the conspirators’ websites, Van Dyke admitted that members of the conspiracy showed the children pre-recorded videos of prior minor victims, often engaging in sexually explicit conduct, to make the new victims think that they were chatting with another minor.  Van Dyke further admitted that conspirators used these videos to coerce and entice children to engage in sexually explicit activity on their own web cameras, which could be viewed live by other members without the victim’s knowledge and which the website automatically recorded and made available for download later.  Van Dyke admitted that he linked minors to one of the websites and chatted with them there in furtherance of the conspiracy.  The defendant also admitted that one of the websites ranked the efforts of the members to successfully coerce and entice children to engage in sexually explicit conduct on live web camera.  Law enforcement agencies have disabled both websites. VCACS special agents led the investigation with the assistance of the FBI’s Operation Rescue Me and the FBI’s Digital Analysis and Research Center and the Office of Victim Assistance.  The South Africa Police Service, Family Violence, Child Protection and Sexual Offenses, Gauteng; Royal Canadian Mounted Police, National Child Exploitation Coordination Centre; the Dutch Police Service Agency, KLPD; and the Australian Federal Police, Child Protection Operations, Sydney were active partners in Operation Subterfuge, a multinational investigation coordinated by members of the FBI’s Violent Crimes Against Children International Task Force.  Trial Attorney Lauren Britsch of the Criminal Division’s Child Exploitation and Obscenity Section (CEOS) and Assistant U.S. Attorney Whitney Russell of the Eastern District of Virginia prosecuted the case.   This case was brought as part of Project Safe Childhood, a nationwide initiative to combat the growing epidemic of child sexual exploitation and abuse launched in May 2006 by the Department of Justice.  Led by U.S. Attorneys’ Offices and CEOS, Project Safe Childhood marshals federal, state and local resources to better locate, apprehend and prosecute individuals who exploit children via the Internet, as well as to identify and rescue victims.  For more information about Project Safe Childhood, please visit www.justice.gov/psc.   \n",
       "0                                                                                                                                                                                                                                                                                                                                                                                                                                                                                                                                                                                                                                                                                                                                                                                                                                                                                                                                                                                                                                                                                                                                                                           A 25-year-old man who coerced sexually explicit photos and videos from a minor and distributed them on the Internet pleaded guilty on Oct. 2, to coercion and enticement of a minor to engage in sexual activity.    Acting Assistant Attorney General Kenneth A. Blanco of the Justice Department’s Criminal Division and Acting U.S. Attorney David C. Weiss of the District of Delaware made the announcement. Justin R. Gulisano of Newark, New York, was charged on March 10, 2016, and pleaded guilty before U.S. District Judge Leonard P. Stark of the District of Delaware.   According to admissions made in connection with the plea agreement, Gulisano met the victim online when the victim was 15 years old.  Gulisano began requesting and received sexually explicit images and videos from the victim.  Gulisano posted the sexually explicit videos of the victim on a pornography website where they were downloaded, posted, and reposted by other viewers to additional pornographic websites.  When the victim refused to make and send additional images and videos, Gulisano responded by threatening the victim on more than one occasion.  He threatened to post the victim’s images and videos on the Internet again, he threatened to share the images and videos with the victim’s brother, and he threatened the victim’s life.  U.S. Immigration and Customs Enforcement’s Homeland Security Investigations and the Delaware Child Predator Task Force investigated the case. Trial Attorney Lauren Britsch of the Criminal Division’s Child Exploitation and Obscenity Section (CEOS) and Assistant U.S. Attorney Graham Robinson of the District of Delaware prosecuted the case.   This case was brought as part of Project Safe Childhood, a nationwide initiative to combat the growing epidemic of child sexual exploitation and abuse launched in May 2006 by the Department of Justice. Led by U.S. Attorneys’ Offices and CEOS, Project Safe Childhood marshals federal, state and local resources to better locate, apprehend and prosecute individuals who exploit children via the Internet, as well as to identify and rescue victims. For more information about Project Safe Childhood, please visit www.justice.gov/psc.   \n",
       "\n",
       "                                                                                                                                                                                                                                                                                                                                                                                                                                                                                                                                                                                                                                                                                                                                                                                                                                                                                                                                                                                                                                                                                                                                                                                                                                                                                                                                                                                                                                                                                                                                                                                                                                                                                                                                                                                                                                                                                                                                                                                                                                                                                                                                                                                                                                                                                                                                                                                                                                                                                                                                                                                                                                                                                                                                                                                                                                                                                                                                                                                                                                                                                                                                                                                                                                                                                                                                                                                                                                                                                                                                                                                                                                                                                  similar_content  \\\n",
       "0                                                                                                                                                                                                                                                                                                                                                                                                                                                                                                                                                                   A Church Hill, Maryland resident pleaded guilty today in federal court to one count of enticement of a minor to engage in sexual activity and one count of attempting to transfer obscene materials to a minor, announced Acting Assistant Attorney General Kenneth A. Blanco of the Justice Department’s Criminal Division and U.S. Attorney Wifredo A. Ferrer of the Southern District of Florida.   Lee Robert Moore, 38, pleaded guilty today before U.S. District Judge Daniel T. K. Hurley of the Southern District of Florida.  Moore was employed by the U.S. Secret Service-Uniformed Division and was assigned to the White House at the time of his arrest on Nov. 9, 2015, and has remained in custody since that time.  Moore has since been terminated from his Secret Service position.   According to admissions made in connection with his plea, Moore maintained a profile on the social media application “Meet24,” which provides a mobile-based platform for exchanging digital images, as well as voice and text messages.  Delaware State Police Detectives with the Delaware Child Predator Task Force created a profile on this site, posing as a 14-year-old girl, with whom Moore engaged in a number of online chat sessions, via the “Meet24” and “Kik” mobile apps over a two-month period, including while Moore was at work.  A number of the online chats between Moore and the undercover officers posing as a female minor were sexual in nature and, on several occasions, Moore sent pictures of himself, including one sexually explicit image.   According to the plea documents, after his arrest, law enforcement discovered that Moore had communicated with a minor in Florida.  Moore admitted that in those communications, he sent sexually explicit images of himself and enticed the minor to send sexually explicit photos of herself as well.  Moore engaged in the same type of behavior with a 14-year-old girl in Texas and another 17-year-old girl in Missouri.  Moore requested that his federal charges in Delaware be transferred to the Southern District of Florida so that he could plead guilty to both charges at one time. U.S. Immigration and Customs Enforcement’s Homeland Security Investigations and the Delaware Child Predator Task Force investigated the case.  Trial Attorney Austin M. Berry of the Criminal Division’s Child Exploitation and Obscenity Section (CEOS) and Assistant U.S. Attorney Corey Steinberg of the Southern District of Florida are prosecuting the case.   This case was brought as part of Project Safe Childhood, a nationwide initiative to combat the growing epidemic of child sexual exploitation and abuse, launched in May 2006 by the Department of Justice.  Led by U.S. Attorneys’ Offices and CEOS, Project Safe Childhood marshals federal, state and local resources to better locate, apprehend and prosecute individuals who exploit children via the Internet, as well as to identify and rescue victims.  For more information about Project Safe Childhood, please visit http://www.justice.gov/psc.   \n",
       "0  A Weed, California man was sentenced to 218 months in prison for conspiracy to produce child pornography based on his participation in a website that was operated for the purpose of coercing and enticing minors as young as eight years old to engage in sexually explicit conduct on web camera. Acting Assistant Attorney General Kenneth A. Blanco of the Justice Department’s Criminal Division; U.S. Attorney Dana J. Boente of the Eastern District of Virginia; and Section Chief John J. Brosnan of the FBI’s Violent Crimes Against Children Section (VCACS) made the announcement. Jeffery Van Dyke, 46, was charged on April 4, 2016, and pleaded guilty before U.S. District Judge T.S. Ellis III of the Eastern District of Virginia on March 10, 2017. According to admissions made in connection with the plea agreement, members of the conspiracy created false profiles on social networking sites popular with children posing as young teenagers to lure children to two websites they controlled. Once on the conspirators’ websites, Van Dyke admitted that members of the conspiracy showed the children pre-recorded videos of prior minor victims, often engaging in sexually explicit conduct, to make the new victims think that they were chatting with another minor. Van Dyke further admitted that conspirators used these videos to coerce and entice children to engage in sexually explicit activity on their own web cameras, which could be viewed live by other members without the victim’s knowledge and which the website automatically recorded and made available for download later. Van Dyke admitted that he linked minors to one of the websites and chatted with them there in furtherance of the conspiracy. The defendant also admitted that one of the websites ranked the efforts of the members to successfully coerce and entice children to engage in sexually explicit conduct on live web camera. Law enforcement agencies have disabled both websites. Van Dyke’s sentence will be followed by 15 years of supervised release and he was further ordered to pay $15, 215 in restitution. VCACS special agents led the investigation with the assistance of the FBI’s Operation Rescue Me and the FBI’s Digital Analysis and Research Center and the Office of Victim Assistance. The South Africa Police Service, Family Violence, Child Protection and Sexual Offenses, Gauteng; Royal Canadian Mounted Police, National Child Exploitation Coordination Centre; the Dutch Police Service Agency, KLPD; and the Australian Federal Police, Child Protection Operations, Sydney were active partners in Operation Subterfuge, a multinational investigation coordinated by members of the FBI’s Violent Crimes Against Children International Task Force. Trial Attorney Lauren Britsch of the Criminal Division’s Child Exploitation and Obscenity Section (CEOS) and Assistant U.S. Attorney Whitney Russell of the Eastern District of Virginia prosecuted the case. The Criminal Division’s Office of International Affairs provided substantial assistance in this matter. This case was brought as part of Project Safe Childhood, a nationwide initiative to combat the growing epidemic of child sexual exploitation and abuse launched in May 2006 by the Department of Justice. Led by U.S. Attorneys’ Offices and CEOS, Project Safe Childhood marshals federal, state and local resources to better locate, apprehend and prosecute individuals who exploit children via the Internet, as well as to identify and rescue victims. For more information about Project Safe Childhood, please visit www.justice.gov/psc.   \n",
       "0                                                                                                                                                                                                                                                                                                                                                                                                                                                                                                                                                                                                                                                                                                                                                                                                                                                                                                                                                                                                                                                                                                                                                                                                                                                                           A man who solicited sexually explicit photos and videos from a minor and distributed them on the Internet was sentenced to 200 months in prison followed by 10 years of supervised release after pleading guilty to coercion and enticement of a minor to engage in sexual activity.     Acting Assistant Attorney General John P. Cronan of the Justice Department’s Criminal Division and U.S. Attorney David C. Weiss of the District of Delaware made the announcement after sentencing by U.S. District Judge Leonard P. Stark of the District of Delaware.   Justin R. Gulisano aka Emma Alexander Gulisano, 26, of Newark, New York, was charged on March 10, 2016, and pleaded guilty on Sept. 28, 2017.    According to admissions made in connection with the plea agreement, Gulisano met the victim online when the victim was 15 years old. Gulisano began requesting and received sexually explicit images and videos from the victim. Gulisano posted the sexually explicit videos of the victim on a pornography website where they were downloaded, posted, and reposted by other viewers to additional pornographic websites.  Eventually, the victim refused to make and send additional images and videos.  Mr. Gulisano responded by threatening the victim on more than one occasion.  He threatened to post the victim’s images and videos on the Internet again, he threatened to share the images and videos with the victim’s brother, and he threatened the victim’s life.   U.S. Immigration and Customs Enforcement’s Homeland Security Investigations and the Delaware Child Predator Task Force investigated the case.   Trial Attorney Lauren Britsch of the Criminal Division’s Child Exploitation and Obscenity Section (CEOS) and Assistant U.S. Attorney Graham L. Robinson of the District of Delaware prosecuted the case.   This case was brought as part of Project Safe Childhood, a nationwide initiative to combat the growing epidemic of child sexual exploitation and abuse launched in May 2006 by the Department of Justice. Led by U.S. Attorneys’ Offices and CEOS, Project Safe Childhood marshals federal, state and local resources to better locate, apprehend and prosecute individuals who exploit children via the Internet, as well as to identify and rescue victims. For more information about Project Safe Childhood, please visit www.justice.gov/psc.   \n",
       "\n",
       "   similarity_ratio  \n",
       "0          0.991230  \n",
       "0          0.989618  \n",
       "0          0.989118  "
      ]
     },
     "execution_count": 237,
     "metadata": {},
     "output_type": "execute_result"
    }
   ],
   "source": [
    "# Using cosine_similarity -> Works fast and works well for an entire document\n",
    "\n",
    "from sklearn.metrics.pairwise import cosine_similarity\n",
    "vectorizer = CountVectorizer(lowercase = True)\n",
    "dtm_sparse = vectorizer.fit_transform(doj_subset.contents)\n",
    "co_sin = cosine_similarity(dtm_sparse)\n",
    "\n",
    "# Threshold for 95% similarity:\n",
    "result = np.where(co_sin > 0.95)\n",
    "\n",
    "df_final = pd.DataFrame({'focal_content': pd.Series(dtype='object'),\n",
    "                         'similar_content': pd.Series(dtype='object'),\n",
    "                         'similarity_ratio': pd.Series(dtype='object')\n",
    "                        })\n",
    "\n",
    "for i in range(len(result[1])):\n",
    "    pos_fc = result[0][i]\n",
    "    pos_nc = result[1][i]\n",
    "    \n",
    "    con_fc = doj_subset.iloc[pos_fc][\"contents\"]\n",
    "    con_nc = doj_subset.iloc[pos_nc][\"contents\"]\n",
    "    \n",
    "    if con_fc != con_nc:                               # To prevent it from matching with itself\n",
    "        similarity_ratio = co_sin[pos_fc][pos_nc]\n",
    "        \n",
    "        if con_fc not in list(df_final[\"similar_content\"]):         # To prevent pair from occuring in vice-versa positions\n",
    "            # initialize list of listsd\n",
    "            data = [[con_fc, con_nc, similarity_ratio]]\n",
    "            \n",
    "            # Create the pandas DataFrame\n",
    "            df = pd.DataFrame(data, columns=['focal_content', 'similar_content','similarity_ratio'])\n",
    "            df_final = pd.concat([df_final,df])\n",
    "\n",
    "df_final = df_final.sort_values(\"similarity_ratio\", ascending = False)\n",
    "df_final.head( n = 3)"
   ]
  },
  {
   "cell_type": "markdown",
   "metadata": {},
   "source": [
    "<div class=\"alert alert-block alert-danger\"> \n",
    "Note: The scraping kept getting times out so this data is very much tainted and biased as more recent years are included.\n",
    "</div>"
   ]
  },
  {
   "cell_type": "code",
   "execution_count": 345,
   "metadata": {},
   "outputs": [
    {
     "name": "stdout",
     "output_type": "stream",
     "text": [
      "File being loaded: combined_5_20.json\n",
      "Original doj length: 5167\n",
      "Concatenated doj length: 10334\n",
      "File being loaded: combined21_120.json\n",
      "Original doj length: 10334\n",
      "Concatenated doj length: 15501\n",
      "File being loaded: combined121_300.json\n",
      "Original doj length: 15501\n",
      "Concatenated doj length: 20668\n"
     ]
    }
   ],
   "source": [
    "doj = pd.read_json(\"combined_4.json\", lines = True)\n",
    "doj['topics_clean'] = [\"; \".join(topic) if len(topic) > 0 else \"No topic\" for topic in doj.topics]\n",
    "doj['components_clean'] = [\"; \".join(comp) if len(comp) > 0 else \"No component\" for comp in doj.components]\n",
    "doj = doj[['id', 'title', 'contents', 'date', 'topics_clean', 'components_clean']].copy()\n",
    "\n",
    "for js_fl in (\"combined_5_20.json\", \"combined21_120.json\", \"combined121_300.json\"):\n",
    "    print(\"File being loaded: \"+ js_fl)\n",
    "    print(\"Original doj length: \" + str(len(doj.index)))\n",
    "    doj_2 = pd.read_json( js_fl , lines = True)\n",
    "    doj_2['topics_clean'] = [\"; \".join(topic) if len(topic) > 0 else \"No topic\" for topic in doj_2.topics]\n",
    "    doj_2['components_clean'] = [\"; \".join(comp) if len(comp) > 0 else \"No component\" for comp in doj_2.components]\n",
    "    doj_2 = doj_2[['id', 'title', 'contents', 'date', 'topics_clean', 'components_clean']].copy()\n",
    "    doj = pd.concat([doj, doj_2])\n",
    "    print(\"Concatenated doj length: \" + str(len(doj.index)))\n",
    "\n",
    "\n",
    "# len(doj_2.index)\n",
    "# \n",
    "# len(doj.index)\n",
    "# pd.unique(doj.date)"
   ]
  },
  {
   "cell_type": "code",
   "execution_count": 346,
   "metadata": {},
   "outputs": [
    {
     "data": {
      "text/plain": [
       "20668"
      ]
     },
     "execution_count": 346,
     "metadata": {},
     "output_type": "execute_result"
    },
    {
     "data": {
      "text/plain": [
       "5167"
      ]
     },
     "execution_count": 346,
     "metadata": {},
     "output_type": "execute_result"
    }
   ],
   "source": [
    "len(doj.index)\n",
    "doj = doj.drop_duplicates()\n",
    "len(doj.index)"
   ]
  },
  {
   "cell_type": "code",
   "execution_count": 335,
   "metadata": {},
   "outputs": [],
   "source": [
    "trump = doj[(doj[\"date\"] > \"2016-01-01T00:00:00-00:00'\") & (doj[\"date\"] < \"2020-01-01T00:00:00-00:00'\")]\n",
    "biden = doj[(doj[\"date\"] > \"2020-01-01T00:00:00-00:00'\")]"
   ]
  },
  {
   "cell_type": "code",
   "execution_count": 338,
   "metadata": {},
   "outputs": [],
   "source": [
    "### Plotting Change in themes:\n",
    "\n",
    "# Creating Data:\n",
    "trump_themes = trump.topics_clean.value_counts().reset_index()\n",
    "trump_themes = trump_themes[trump_themes[\"index\"] != \"No topic\"]\n",
    "trump_themes = trump_themes.head(n = 10)\n",
    "\n",
    "biden_themes = biden.topics_clean.value_counts().reset_index()\n",
    "biden_themes = biden_themes[biden_themes[\"index\"] != \"No topic\"]\n",
    "biden_themes = biden_themes.head(n = 10)\n",
    "biden_themes[\"grph\"] = biden_themes[\"topics_clean\"]*(-1)"
   ]
  },
  {
   "cell_type": "code",
   "execution_count": 339,
   "metadata": {},
   "outputs": [
    {
     "data": {
      "image/png": "[encoded data removed]",
      "text/plain": [
       "<Figure size 640x480 with 2 Axes>"
      ]
     },
     "metadata": {},
     "output_type": "display_data"
    }
   ],
   "source": [
    "# Plotting:\n",
    "import matplotlib.pyplot as plt\n",
    "\n",
    "# # Creating plot:\n",
    "fig, ax = plt.subplots(sharey=True);\n",
    "\n",
    "ax1 = plt.barh(biden_themes[\"index\"], biden_themes[\"grph\"], fill = \"Blue\")\n",
    "ax2 = plt.barh(trump_themes[\"index\"], trump_themes[\"topics_clean\"], color = \"Red\")\n",
    "ax.twinx()\n",
    "plt.axvline(x=\"0\", color = 'black')\n",
    "ax.set_title(\"Top Themes In Both Eras\")\n",
    "\n",
    "textstr1 = \"Bidens Era\"\n",
    "props = dict(boxstyle='round', facecolor='wheat', alpha=0.5)\n",
    "ax.text(0.05, 0.95, textstr1, transform=ax.transAxes, fontsize=14, verticalalignment='top', bbox=props)\n",
    "\n",
    "textstr2 = \"Trumps Era\"\n",
    "ax.text(0.75, 0.95, textstr2, transform=ax.transAxes, fontsize=14, verticalalignment='top', bbox=props)\n",
    "\n",
    "\n",
    "for s in ['top', 'bottom', 'right', \"left\"]: ax.spines[s].set_visible(True);\n",
    "\n",
    "plt.show();"
   ]
  }
 ],
 "metadata": {
  "kernelspec": {
   "display_name": "Python 3 (ipykernel)",
   "language": "python",
   "name": "python3"
  },
  "language_info": {
   "codemirror_mode": {
    "name": "ipython",
    "version": 3
   },
   "file_extension": ".py",
   "mimetype": "text/x-python",
   "name": "python",
   "nbconvert_exporter": "python",
   "pygments_lexer": "ipython3",
   "version": "3.9.13"
  }
 },
 "nbformat": 4,
 "nbformat_minor": 4
}
