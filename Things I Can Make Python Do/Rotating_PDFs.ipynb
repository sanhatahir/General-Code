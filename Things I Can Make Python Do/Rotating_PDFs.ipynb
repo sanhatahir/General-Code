{
 "cells": [
  {
   "cell_type": "code",
   "execution_count": 16,
   "id": "781c3d74",
   "metadata": {},
   "outputs": [
    {
     "name": "stdout",
     "output_type": "stream",
     "text": [
      "File already exists!\n",
      "If you want to delete the file and make it again\n",
      "Re-write the function command with dlt = True and run it again\n"
     ]
    }
   ],
   "source": [
    "import PyPDF2\n",
    "import os\n",
    "\n",
    "def rotate_pdf(file_name, dlt = False, angl = 270):\n",
    "    \n",
    "    file_name_pdf = file_name + '.pdf'\n",
    "    \n",
    "    if os.path.exists(file_name_pdf) & dlt == False:\n",
    "        \n",
    "        print(\"File already exists!\\nIf you want to delete the file and make it again\\nRe-write the function command with dlt = True and run it again\")\n",
    "        \n",
    "    elif ~os.path.exists(file_name_pdf) | dlt == True:\n",
    "        \n",
    "        print(\"Path doesn't exist!\\nBeginning rotation.\")\n",
    "        \n",
    "        unordered_pdf = open(file_name_pdf, 'rb') \n",
    "        \n",
    "        pdf_reader = PyPDF2.PdfFileReader(unordered_pdf)\n",
    "        \n",
    "        pdf_writer = PyPDF2.PdfFileWriter()\n",
    "        \n",
    "        for pagenum in range(pdf_reader.numPages):\n",
    "            page = pdf_reader.getPage(pagenum)\n",
    "            page.rotateClockwise(angl)\n",
    "            pdf_writer.addPage(page)\n",
    "            \n",
    "        final_pdf = file_name + '_rotated.pdf'\n",
    "        \n",
    "        pdf_out = open(final_pdf, 'wb')\n",
    "        \n",
    "        pdf_writer.write(pdf_out)\n",
    "        \n",
    "        pdf_out.close()\n",
    "        \n",
    "        unordered_pdf.close()\n",
    "        \n",
    "        print(\"You're all set!\\n Your file \" + file_name + \" is rotated!\\nP.s., if you're not happy with the angle, change it using the angl argument!\")\n",
    "    \n",
    "rotate_pdf('America the Unusual-Kingdon')"
   ]
  }
 ],
 "metadata": {
  "kernelspec": {
   "display_name": "Python 3 (ipykernel)",
   "language": "python",
   "name": "python3"
  },
  "language_info": {
   "codemirror_mode": {
    "name": "ipython",
    "version": 3
   },
   "file_extension": ".py",
   "mimetype": "text/x-python",
   "name": "python",
   "nbconvert_exporter": "python",
   "pygments_lexer": "ipython3",
   "version": "3.9.13"
  }
 },
 "nbformat": 4,
 "nbformat_minor": 5
}
